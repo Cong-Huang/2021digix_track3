{
 "cells": [
  {
   "cell_type": "code",
   "execution_count": 1,
   "metadata": {},
   "outputs": [],
   "source": [
    "import pandas as pd\n",
    "import numpy as np\n",
    "from tqdm import tqdm\n",
    "tqdm.pandas()\n",
    "from sklearn.metrics import roc_auc_score\n",
    "from lightgbm.sklearn import LGBMClassifier, LGBMRegressor\n",
    "from collections import defaultdict\n",
    "from sklearn.preprocessing import LabelEncoder\n",
    "from sklearn.model_selection import KFold \n",
    "import gc\n",
    "import random\n",
    "import time\n",
    "import os\n",
    "import pickle\n",
    "from utils import reduce_mem, uAUC, ProNE, HyperParam, get_logger\n",
    "\n",
    "pd.set_option('display.max_columns', None)"
   ]
  },
  {
   "cell_type": "code",
   "execution_count": 2,
   "metadata": {},
   "outputs": [
    {
     "name": "stdout",
     "output_type": "stream",
     "text": [
      "(34321552, 130)\n",
      "(32264112, 130) (2822180, 2)\n",
      "CPU times: user 40.1 s, sys: 37.9 s, total: 1min 18s\n",
      "Wall time: 46.2 s\n"
     ]
    }
   ],
   "source": [
    "%%time\n",
    "df = pd.read_feather(\"data/features/df_v1.feather\")\n",
    "print(df.shape)\n",
    "\n",
    "df = df[df['date_'] != 1]\n",
    "submit = df[df['date_'] == 15][['userid', 'feedid']]\n",
    "print(df.shape, submit.shape)\n",
    "df.head()"
   ]
  },
  {
   "cell_type": "code",
   "execution_count": 3,
   "metadata": {},
   "outputs": [
    {
     "name": "stderr",
     "output_type": "stream",
     "text": [
      "100%|██████████| 33/33 [00:00<00:00, 628.21it/s]\n",
      "100%|██████████| 33/33 [00:00<00:00, 999.36it/s]\n",
      "  0%|          | 0/33 [00:00<?, ?it/s]"
     ]
    },
    {
     "name": "stdout",
     "output_type": "stream",
     "text": [
      "4.00 Mb, 2.00 Mb (50.00 %)\n",
      "4.24 Mb, 2.24 Mb (47.22 %)\n"
     ]
    },
    {
     "name": "stderr",
     "output_type": "stream",
     "text": [
      "100%|██████████| 33/33 [00:01<00:00, 27.70it/s]"
     ]
    },
    {
     "name": "stdout",
     "output_type": "stream",
     "text": [
      "445.07 Mb, 234.90 Mb (47.22 %)\n",
      "(30862, 33) (30862, 33) (3240903, 33)\n"
     ]
    },
    {
     "name": "stderr",
     "output_type": "stream",
     "text": [
      "\n"
     ]
    }
   ],
   "source": [
    "## merge embedding特征\n",
    "fid_w2v_emb = pd.read_pickle(\"data/features/fid_w2v_emb.pkl\")\n",
    "fid_tfidf_svd_emb = pd.read_pickle(\"data/features/fid_tfidf_svd_emb.pkl\")\n",
    "uid_tfidf_svd_emb = pd.read_pickle(\"data/features/uid_tfidf_svd_emb.pkl\")\n",
    "fid_w2v_emb = reduce_mem(fid_w2v_emb)\n",
    "fid_tfidf_svd_emb = reduce_mem(fid_tfidf_svd_emb)\n",
    "uid_tfidf_svd_emb = reduce_mem(uid_tfidf_svd_emb)\n",
    "\n",
    "print(fid_w2v_emb.shape, fid_tfidf_svd_emb.shape, uid_tfidf_svd_emb.shape)"
   ]
  },
  {
   "cell_type": "code",
   "execution_count": 6,
   "metadata": {},
   "outputs": [
    {
     "name": "stdout",
     "output_type": "stream",
     "text": [
      "(32264112, 194)\n",
      "(32264112, 226)\n"
     ]
    }
   ],
   "source": [
    "%%time\n",
    "\n",
    "df = df.merge(fid_w2v_emb, how='left', on=['feedid'])\n",
    "df = df.merge(fid_tfidf_svd_emb, how='left', on=['feedid'])\n",
    "print(df.shape)\n",
    "df = df.merge(uid_tfidf_svd_emb, how='left', on=['userid'])\n",
    "print(df.shape)"
   ]
  },
  {
   "cell_type": "code",
   "execution_count": 10,
   "metadata": {},
   "outputs": [
    {
     "name": "stdout",
     "output_type": "stream",
     "text": [
      "<class 'pandas.core.frame.DataFrame'>\n",
      "Int64Index: 32264112 entries, 0 to 32264111\n",
      "Columns: 226 entries, userid to userid_feedid_tfidf_svd_31\n",
      "dtypes: float16(185), float32(15), float64(15), int16(2), int32(3), int8(6)\n",
      "memory usage: 17.4 GB\n"
     ]
    }
   ],
   "source": [
    "df.info()"
   ]
  },
  {
   "cell_type": "code",
   "execution_count": 11,
   "metadata": {},
   "outputs": [],
   "source": [
    "df.to_feather(\"data/features/df_emb_v1.feather\")"
   ]
  },
  {
   "cell_type": "code",
   "execution_count": null,
   "metadata": {},
   "outputs": [],
   "source": []
  },
  {
   "cell_type": "code",
   "execution_count": null,
   "metadata": {},
   "outputs": [],
   "source": []
  },
  {
   "cell_type": "markdown",
   "metadata": {},
   "source": [
    "### 训练集采样"
   ]
  },
  {
   "cell_type": "code",
   "execution_count": 2,
   "metadata": {},
   "outputs": [
    {
     "name": "stdout",
     "output_type": "stream",
     "text": [
      "(32264112, 226)\n",
      "(29441932, 226) (2822180, 226)\n",
      "正样本个数：(2029555, 226)\n",
      "负样本个数：(27412377, 226)\n"
     ]
    }
   ],
   "source": [
    "df = pd.read_feather(\"data/features/df_emb_v1.feather\")\n",
    "print(df.shape)\n",
    "\n",
    "train = df[(df['date_'] <= 14)].reset_index(drop=True)\n",
    "test = df[df['date_'] == 15].reset_index(drop=True)\n",
    "del df\n",
    "gc.collect()\n",
    "print(train.shape, test.shape)\n",
    "\n",
    "train_pos = train[(train['watch_label'] > 0) | (train['is_share'] > 0)]\n",
    "train_neg = train[(train['watch_label'] ==0) & (train['is_share'] == 0)]\n",
    "print(\"正样本个数：{}\".format(train_pos.shape))\n",
    "print(\"负样本个数：{}\".format(train_neg.shape))"
   ]
  },
  {
   "cell_type": "code",
   "execution_count": 3,
   "metadata": {},
   "outputs": [
    {
     "name": "stdout",
     "output_type": "stream",
     "text": [
      "(10029555, 226)\n"
     ]
    }
   ],
   "source": [
    "train_neg = train_neg.sample(n=8000000, random_state=2021).reset_index(drop=True)\n",
    "train = pd.concat([train_pos, train_neg], ignore_index=True)\n",
    "train = train.sample(frac=1.0, random_state=2021).reset_index(drop=True)\n",
    "print(train.shape)"
   ]
  },
  {
   "cell_type": "code",
   "execution_count": 5,
   "metadata": {},
   "outputs": [
    {
     "name": "stdout",
     "output_type": "stream",
     "text": [
      "特征总数：220\n"
     ]
    }
   ],
   "source": [
    "## 切分训练、验证、测试\n",
    "cate_cols = ['userid', 'feedid', 'age', 'gender', 'country', 'province', 'city', 'city_level', 'device_name']\n",
    "y_list = ['is_watch', 'is_share', 'is_collect', 'is_comment', 'watch_label']\n",
    "# train['is_share'] = train['is_share'].astype(np.int32)\n",
    "# train['watch_label'] = train['watch_label'].astype(np.int32)\n",
    "\n",
    "# for col in tqdm(cate_cols):\n",
    "#     lbl = LabelEncoder()\n",
    "#     df[col] = lbl.fit_transform(df[col])\n",
    "    \n",
    "## lgb训练模型所需要的特征列\n",
    "cols = [f for f in test.columns if (f not in ['date_'] + y_list)]\n",
    "print(\"特征总数：{}\".format(len(cols)))"
   ]
  },
  {
   "cell_type": "code",
   "execution_count": 6,
   "metadata": {},
   "outputs": [
    {
     "name": "stdout",
     "output_type": "stream",
     "text": [
      "0.0    10016060\n",
      "1.0       13495\n",
      "Name: is_share, dtype: int64\n",
      "0.0    8010143\n",
      "1.0     519376\n",
      "9.0     358426\n",
      "2.0     292520\n",
      "3.0     203305\n",
      "4.0     159738\n",
      "5.0     132749\n",
      "8.0     128385\n",
      "6.0     115711\n",
      "7.0     109202\n",
      "Name: watch_label, dtype: int64\n"
     ]
    }
   ],
   "source": [
    "print(train['is_share'].value_counts())\n",
    "print(train['watch_label'].value_counts())"
   ]
  },
  {
   "cell_type": "code",
   "execution_count": 7,
   "metadata": {},
   "outputs": [
    {
     "name": "stdout",
     "output_type": "stream",
     "text": [
      "(10029555, 220) (10029555,) (10029555,) (2822180, 220)\n",
      "(2822180, 2)\n"
     ]
    },
    {
     "data": {
      "text/plain": [
       "0"
      ]
     },
     "execution_count": 7,
     "metadata": {},
     "output_type": "execute_result"
    }
   ],
   "source": [
    "train_fea = train[cols].values.astype(np.float32)\n",
    "test_fea = test[cols].values.astype(np.float32)\n",
    "train_y_watch = train['watch_label'].values.astype(np.float32)\n",
    "train_y_share = train['is_share'].values.astype(np.float32)\n",
    "print(train_fea.shape, train_y_watch.shape, train_y_share.shape, test_fea.shape)\n",
    "\n",
    "submit = test[['userid', 'feedid']]\n",
    "submit.columns = ['user_id', 'video_id']\n",
    "print(submit.shape)\n",
    "\n",
    "del train, test, train_neg, train_pos\n",
    "gc.collect()"
   ]
  },
  {
   "cell_type": "code",
   "execution_count": null,
   "metadata": {},
   "outputs": [],
   "source": []
  },
  {
   "cell_type": "markdown",
   "metadata": {},
   "source": [
    "## 训练 is_share"
   ]
  },
  {
   "cell_type": "code",
   "execution_count": 8,
   "metadata": {},
   "outputs": [
    {
     "name": "stdout",
     "output_type": "stream",
     "text": [
      "Training until validation scores don't improve for 50 rounds\n",
      "[50]\ttrain's auc: 0.867213\tvalid's auc: 0.838654\n",
      "[100]\ttrain's auc: 0.895724\tvalid's auc: 0.844968\n",
      "[150]\ttrain's auc: 0.91772\tvalid's auc: 0.848076\n",
      "[200]\ttrain's auc: 0.935507\tvalid's auc: 0.849549\n",
      "[250]\ttrain's auc: 0.947584\tvalid's auc: 0.849986\n",
      "[300]\ttrain's auc: 0.954952\tvalid's auc: 0.850736\n",
      "[350]\ttrain's auc: 0.958668\tvalid's auc: 0.850899\n",
      "[400]\ttrain's auc: 0.963528\tvalid's auc: 0.850984\n",
      "[450]\ttrain's auc: 0.9669\tvalid's auc: 0.851213\n",
      "[500]\ttrain's auc: 0.970365\tvalid's auc: 0.851539\n",
      "Early stopping, best iteration is:\n",
      "[494]\ttrain's auc: 0.969777\tvalid's auc: 0.851556\n"
     ]
    },
    {
     "data": {
      "text/plain": [
       "LGBMClassifier(boosting_type='gbdt', class_weight=None, colsample_bytree=0.85,\n",
       "        importance_type='split', learning_rate=0.02, max_depth=-1,\n",
       "        metric='None', min_child_samples=20, min_child_weight=0.001,\n",
       "        min_split_gain=0.0, n_estimators=1000, n_jobs=4, num_leaves=63,\n",
       "        objective=None, random_state=2021, reg_alpha=0.0, reg_lambda=0.0,\n",
       "        silent=True, subsample=0.85, subsample_for_bin=200000,\n",
       "        subsample_freq=0)"
      ]
     },
     "execution_count": 8,
     "metadata": {},
     "output_type": "execute_result"
    }
   ],
   "source": [
    "clf = LGBMClassifier(\n",
    "            learning_rate=0.02,\n",
    "            n_estimators=1000,\n",
    "            num_leaves=63,\n",
    "            subsample=0.85,\n",
    "            colsample_bytree=0.85,\n",
    "            random_state=2021,\n",
    "            metric='None',\n",
    "            n_jobs=4)\n",
    "\n",
    "N = 8000000\n",
    "clf.fit(train_fea[:N], train_y_share[:N],\n",
    "        eval_set=[(train_fea[:N], train_y_share[:N]), (train_fea[N:], train_y_share[N:])],\n",
    "        eval_names=['train', 'valid'],\n",
    "        eval_metric='auc',\n",
    "        early_stopping_rounds=50,\n",
    "        verbose=50)"
   ]
  },
  {
   "cell_type": "code",
   "execution_count": 9,
   "metadata": {},
   "outputs": [],
   "source": [
    "submit['is_share'] = clf.predict_proba(test_fea)[:, 1]\n",
    "submit['is_share'] = np.round(submit['is_share'], 6)"
   ]
  },
  {
   "cell_type": "code",
   "execution_count": null,
   "metadata": {},
   "outputs": [],
   "source": [
    "# valid's auc: 0.846132"
   ]
  },
  {
   "cell_type": "code",
   "execution_count": null,
   "metadata": {},
   "outputs": [],
   "source": []
  },
  {
   "cell_type": "markdown",
   "metadata": {},
   "source": [
    "## 训练 watch_label 多分类"
   ]
  },
  {
   "cell_type": "code",
   "execution_count": 13,
   "metadata": {},
   "outputs": [],
   "source": [
    "# clf = LGBMClassifier(\n",
    "#             learning_rate=0.1,\n",
    "#             objective='multiclass',\n",
    "#             n_estimators=2000,\n",
    "#             num_leaves=63,\n",
    "#             subsample=0.8,\n",
    "#             colsample_bytree=0.8,\n",
    "#             random_state=2021,\n",
    "#             metric='None',\n",
    "#             n_jobs=4)\n",
    "        \n",
    "# clf.fit(train[train['date_'] != 14][cols], train[train['date_'] != 14]['watch_label'],\n",
    "#         eval_set=[(train[train['date_'] == 14][cols], train[train['date_'] == 14]['watch_label'])],\n",
    "#         eval_metric='logloss',\n",
    "#         early_stopping_rounds=50,\n",
    "#         verbose=20)"
   ]
  },
  {
   "cell_type": "code",
   "execution_count": null,
   "metadata": {},
   "outputs": [],
   "source": []
  },
  {
   "cell_type": "markdown",
   "metadata": {},
   "source": [
    "## 训练 watch_label 回归"
   ]
  },
  {
   "cell_type": "code",
   "execution_count": 10,
   "metadata": {},
   "outputs": [],
   "source": [
    "train_y_watch = np.log2(train_y_watch + 1)"
   ]
  },
  {
   "cell_type": "code",
   "execution_count": 11,
   "metadata": {
    "scrolled": true
   },
   "outputs": [
    {
     "name": "stdout",
     "output_type": "stream",
     "text": [
      "Training until validation scores don't improve for 50 rounds\n",
      "[100]\ttrain's l2: 0.737305\tvalid's l2: 0.739856\n",
      "[200]\ttrain's l2: 0.728655\tvalid's l2: 0.732916\n",
      "[300]\ttrain's l2: 0.724002\tvalid's l2: 0.730225\n",
      "[400]\ttrain's l2: 0.7203\tvalid's l2: 0.728565\n",
      "[500]\ttrain's l2: 0.716907\tvalid's l2: 0.727219\n",
      "[600]\ttrain's l2: 0.714048\tvalid's l2: 0.726485\n",
      "[700]\ttrain's l2: 0.711258\tvalid's l2: 0.725752\n",
      "[800]\ttrain's l2: 0.708567\tvalid's l2: 0.725213\n",
      "[900]\ttrain's l2: 0.705982\tvalid's l2: 0.724745\n",
      "[1000]\ttrain's l2: 0.703452\tvalid's l2: 0.724298\n",
      "[1100]\ttrain's l2: 0.701014\tvalid's l2: 0.723876\n",
      "[1200]\ttrain's l2: 0.69868\tvalid's l2: 0.723541\n",
      "[1300]\ttrain's l2: 0.696393\tvalid's l2: 0.723286\n",
      "[1400]\ttrain's l2: 0.69421\tvalid's l2: 0.723108\n",
      "[1500]\ttrain's l2: 0.692045\tvalid's l2: 0.722854\n",
      "[1600]\ttrain's l2: 0.689855\tvalid's l2: 0.722637\n",
      "[1700]\ttrain's l2: 0.687686\tvalid's l2: 0.722483\n",
      "[1800]\ttrain's l2: 0.68566\tvalid's l2: 0.722351\n",
      "[1900]\ttrain's l2: 0.683576\tvalid's l2: 0.722203\n",
      "[2000]\ttrain's l2: 0.681462\tvalid's l2: 0.722071\n",
      "Did not meet early stopping. Best iteration is:\n",
      "[2000]\ttrain's l2: 0.681462\tvalid's l2: 0.722071\n"
     ]
    },
    {
     "data": {
      "text/plain": [
       "LGBMRegressor(boosting_type='gbdt', class_weight=None, colsample_bytree=0.85,\n",
       "       importance_type='split', learning_rate=0.1, max_depth=-1,\n",
       "       metric='None', min_child_samples=20, min_child_weight=0.001,\n",
       "       min_split_gain=0.0, n_estimators=2000, n_jobs=4, num_leaves=63,\n",
       "       objective=None, random_state=2021, reg_alpha=0.0, reg_lambda=0.0,\n",
       "       silent=True, subsample=0.85, subsample_for_bin=200000,\n",
       "       subsample_freq=0)"
      ]
     },
     "execution_count": 11,
     "metadata": {},
     "output_type": "execute_result"
    }
   ],
   "source": [
    "clf = LGBMRegressor(\n",
    "            learning_rate=0.1,\n",
    "            n_estimators=2000,\n",
    "            num_leaves=63,\n",
    "            subsample=0.85,\n",
    "            colsample_bytree=0.85,\n",
    "            random_state=2021,\n",
    "            metric='None',\n",
    "            n_jobs=4)\n",
    "\n",
    "\n",
    "N = 8000000\n",
    "clf.fit(train_fea[:N], train_y_watch[:N], \n",
    "        eval_set=[(train_fea[:N], train_y_watch[:N]), (train_fea[N:], train_y_watch[N:])],\n",
    "        eval_names=['train', 'valid'],\n",
    "        eval_metric='l2',\n",
    "        early_stopping_rounds=50,\n",
    "        verbose=100)"
   ]
  },
  {
   "cell_type": "code",
   "execution_count": 12,
   "metadata": {},
   "outputs": [],
   "source": [
    "submit['watch_label'] = clf.predict(test_fea)"
   ]
  },
  {
   "cell_type": "code",
   "execution_count": 74,
   "metadata": {},
   "outputs": [
    {
     "data": {
      "text/html": [
       "<div>\n",
       "<style scoped>\n",
       "    .dataframe tbody tr th:only-of-type {\n",
       "        vertical-align: middle;\n",
       "    }\n",
       "\n",
       "    .dataframe tbody tr th {\n",
       "        vertical-align: top;\n",
       "    }\n",
       "\n",
       "    .dataframe thead th {\n",
       "        text-align: right;\n",
       "    }\n",
       "</style>\n",
       "<table border=\"1\" class=\"dataframe\">\n",
       "  <thead>\n",
       "    <tr style=\"text-align: right;\">\n",
       "      <th></th>\n",
       "      <th>user_id</th>\n",
       "      <th>video_id</th>\n",
       "      <th>is_share</th>\n",
       "      <th>watch_label</th>\n",
       "    </tr>\n",
       "  </thead>\n",
       "  <tbody>\n",
       "    <tr>\n",
       "      <th>0</th>\n",
       "      <td>1688013</td>\n",
       "      <td>32645</td>\n",
       "      <td>0.000343</td>\n",
       "      <td>0.351628</td>\n",
       "    </tr>\n",
       "    <tr>\n",
       "      <th>1</th>\n",
       "      <td>4502598</td>\n",
       "      <td>41270</td>\n",
       "      <td>0.006045</td>\n",
       "      <td>0.381432</td>\n",
       "    </tr>\n",
       "    <tr>\n",
       "      <th>2</th>\n",
       "      <td>5585629</td>\n",
       "      <td>16345</td>\n",
       "      <td>0.000006</td>\n",
       "      <td>0.367150</td>\n",
       "    </tr>\n",
       "    <tr>\n",
       "      <th>3</th>\n",
       "      <td>1635520</td>\n",
       "      <td>28149</td>\n",
       "      <td>0.000864</td>\n",
       "      <td>0.622225</td>\n",
       "    </tr>\n",
       "    <tr>\n",
       "      <th>4</th>\n",
       "      <td>4160191</td>\n",
       "      <td>40554</td>\n",
       "      <td>0.000602</td>\n",
       "      <td>0.257869</td>\n",
       "    </tr>\n",
       "    <tr>\n",
       "      <th>...</th>\n",
       "      <td>...</td>\n",
       "      <td>...</td>\n",
       "      <td>...</td>\n",
       "      <td>...</td>\n",
       "    </tr>\n",
       "    <tr>\n",
       "      <th>2822175</th>\n",
       "      <td>5019057</td>\n",
       "      <td>18766</td>\n",
       "      <td>0.000022</td>\n",
       "      <td>0.025173</td>\n",
       "    </tr>\n",
       "    <tr>\n",
       "      <th>2822176</th>\n",
       "      <td>5019057</td>\n",
       "      <td>12968</td>\n",
       "      <td>0.000436</td>\n",
       "      <td>-0.059981</td>\n",
       "    </tr>\n",
       "    <tr>\n",
       "      <th>2822177</th>\n",
       "      <td>4255762</td>\n",
       "      <td>21794</td>\n",
       "      <td>0.000218</td>\n",
       "      <td>0.629374</td>\n",
       "    </tr>\n",
       "    <tr>\n",
       "      <th>2822178</th>\n",
       "      <td>171497</td>\n",
       "      <td>21578</td>\n",
       "      <td>0.000096</td>\n",
       "      <td>0.180052</td>\n",
       "    </tr>\n",
       "    <tr>\n",
       "      <th>2822179</th>\n",
       "      <td>5642580</td>\n",
       "      <td>28914</td>\n",
       "      <td>0.000263</td>\n",
       "      <td>0.229515</td>\n",
       "    </tr>\n",
       "  </tbody>\n",
       "</table>\n",
       "<p>2822180 rows × 4 columns</p>\n",
       "</div>"
      ],
      "text/plain": [
       "         user_id  video_id  is_share  watch_label\n",
       "0        1688013     32645  0.000343     0.351628\n",
       "1        4502598     41270  0.006045     0.381432\n",
       "2        5585629     16345  0.000006     0.367150\n",
       "3        1635520     28149  0.000864     0.622225\n",
       "4        4160191     40554  0.000602     0.257869\n",
       "...          ...       ...       ...          ...\n",
       "2822175  5019057     18766  0.000022     0.025173\n",
       "2822176  5019057     12968  0.000436    -0.059981\n",
       "2822177  4255762     21794  0.000218     0.629374\n",
       "2822178   171497     21578  0.000096     0.180052\n",
       "2822179  5642580     28914  0.000263     0.229515\n",
       "\n",
       "[2822180 rows x 4 columns]"
      ]
     },
     "execution_count": 74,
     "metadata": {},
     "output_type": "execute_result"
    }
   ],
   "source": [
    "submit"
   ]
  },
  {
   "cell_type": "code",
   "execution_count": null,
   "metadata": {},
   "outputs": [],
   "source": []
  },
  {
   "cell_type": "markdown",
   "metadata": {},
   "source": [
    "## 对watch_label进行后处理"
   ]
  },
  {
   "cell_type": "code",
   "execution_count": 89,
   "metadata": {},
   "outputs": [
    {
     "name": "stdout",
     "output_type": "stream",
     "text": [
      "(80276856, 8) (2822180, 2) (5910800, 8)\n"
     ]
    }
   ],
   "source": [
    "train = pd.read_pickle(\"data/origin/train.pkl\")\n",
    "test = pd.read_pickle(\"data/origin/test.pkl\")\n",
    "user_info = pd.read_pickle(\"data/origin/user_info.pkl\")\n",
    "print(train.shape, test.shape, user_info.shape)"
   ]
  },
  {
   "cell_type": "code",
   "execution_count": 49,
   "metadata": {},
   "outputs": [],
   "source": [
    "# ## 查看测试集分布是否一致\n",
    "# train_tmp = train[train['pt_d'] == 20210502]\n",
    "# train_tmp = train_tmp.merge(user_info, how='left', on='user_id')\n",
    "\n",
    "# test_tmp = test.merge(user_info, how='left', on='user_id')\n",
    "\n",
    "# import seaborn as sns\n",
    "# sns.distplot(test_tmp['age'].value_counts(), bins=10)\n",
    "\n",
    "# train_tmp['city_level'].value_counts().values / sum(train_tmp['city_level'].value_counts().values)\n",
    "# test_tmp['city_level'].value_counts().values / sum(test_tmp['city_level'].value_counts().values)"
   ]
  },
  {
   "cell_type": "code",
   "execution_count": 90,
   "metadata": {
    "scrolled": true
   },
   "outputs": [
    {
     "name": "stdout",
     "output_type": "stream",
     "text": [
      "[0.97519961 0.98136256 0.98485253 0.98733698 0.98931752]\n",
      "[0.97381726 0.98003124 0.98368735 0.98633183 0.98846199]\n",
      "[0.97450844 0.9806969  0.98426994 0.9868344  0.98888976 0.99061986\n",
      " 0.99213893 0.99356421 0.99525122 1.        ]\n"
     ]
    }
   ],
   "source": [
    "watch_percent = np.zeros(10)\n",
    "dt_n = len(train['pt_d'].unique()[-7:])\n",
    "for dt in sorted(train['pt_d'].unique()[-2:]):\n",
    "    tmp = dict(train[train['pt_d'] == dt]['watch_label'].value_counts())\n",
    "    tmp = sorted(tmp.items(), key=lambda x: x[0])\n",
    "    tmp = np.array([x[1] for x in tmp])\n",
    "    tmp = np.cumsum(tmp)\n",
    "    tmp = tmp / tmp[-1]\n",
    "    watch_percent += tmp / 2\n",
    "    print(tmp[:5])\n",
    "print(watch_percent)"
   ]
  },
  {
   "cell_type": "code",
   "execution_count": null,
   "metadata": {},
   "outputs": [],
   "source": [
    "7->3->2"
   ]
  },
  {
   "cell_type": "code",
   "execution_count": 91,
   "metadata": {
    "scrolled": true
   },
   "outputs": [],
   "source": [
    "# watch_percent = np.array([0.9729354 , 0.97987075, 0.9837808 , 0.98650887, 0.98865447,\n",
    "#                           0.99043327, 0.99198936, 0.9934525 , 0.99517681, 1.        ])\n",
    "watch_quantile = np.percentile(submit['watch_label'], watch_percent * 100)\n",
    "def transform_y(x):\n",
    "    for i in range(len(watch_quantile)):\n",
    "        if x <= watch_quantile[i]:\n",
    "            return int(i)\n",
    "    return i\n",
    "\n",
    "submit_final = submit[['user_id', 'video_id']]\n",
    "submit_final['watch_label'] = submit['watch_label'].apply(lambda x: transform_y(x)).astype(int)\n",
    "submit_final['is_share'] = submit['is_share']"
   ]
  },
  {
   "cell_type": "code",
   "execution_count": 92,
   "metadata": {},
   "outputs": [],
   "source": [
    "submit_final.to_csv(\"data/submit/submission.csv\", index=None)"
   ]
  },
  {
   "cell_type": "code",
   "execution_count": 86,
   "metadata": {},
   "outputs": [
    {
     "data": {
      "text/plain": [
       "0    2750548\n",
       "1      18043\n",
       "9      12688\n",
       "2      10300\n",
       "3       7268\n",
       "4       5751\n",
       "5       4822\n",
       "8       4638\n",
       "6       4193\n",
       "7       3929\n",
       "Name: watch_label, dtype: int64"
      ]
     },
     "execution_count": 86,
     "metadata": {},
     "output_type": "execute_result"
    }
   ],
   "source": [
    "pd.read_csv(\"data/submit/submission.csv\")['watch_label'].value_counts()"
   ]
  },
  {
   "cell_type": "code",
   "execution_count": 87,
   "metadata": {},
   "outputs": [
    {
     "data": {
      "text/plain": [
       "0    2751198\n",
       "1      17609\n",
       "9      12922\n",
       "2      10077\n",
       "3       7148\n",
       "4       5685\n",
       "5       4807\n",
       "8       4627\n",
       "6       4182\n",
       "7       3925\n",
       "Name: watch_label, dtype: int64"
      ]
     },
     "execution_count": 87,
     "metadata": {},
     "output_type": "execute_result"
    }
   ],
   "source": [
    "submit_final['watch_label'].value_counts()"
   ]
  },
  {
   "cell_type": "code",
   "execution_count": 82,
   "metadata": {},
   "outputs": [
    {
     "ename": "NameError",
     "evalue": "name 'submit_0818' is not defined",
     "output_type": "error",
     "traceback": [
      "\u001b[0;31m---------------------------------------------------------------------------\u001b[0m",
      "\u001b[0;31mNameError\u001b[0m                                 Traceback (most recent call last)",
      "\u001b[0;32m<ipython-input-82-7f5f473c4b66>\u001b[0m in \u001b[0;36m<module>\u001b[0;34m()\u001b[0m\n\u001b[0;32m----> 1\u001b[0;31m \u001b[0msubmit_0818\u001b[0m\u001b[0;34m.\u001b[0m\u001b[0mcolumns\u001b[0m \u001b[0;34m=\u001b[0m \u001b[0;34m[\u001b[0m\u001b[0;34m'user_id'\u001b[0m\u001b[0;34m,\u001b[0m \u001b[0;34m'video_id'\u001b[0m\u001b[0;34m,\u001b[0m \u001b[0;34m'watch_label'\u001b[0m\u001b[0;34m,\u001b[0m \u001b[0;34m'is_share'\u001b[0m\u001b[0;34m]\u001b[0m\u001b[0;34m\u001b[0m\u001b[0m\n\u001b[0m\u001b[1;32m      2\u001b[0m \u001b[0msubmit_0818\u001b[0m\u001b[0;34m.\u001b[0m\u001b[0mto_csv\u001b[0m\u001b[0;34m(\u001b[0m\u001b[0;34m\"data/submit/submission.csv\"\u001b[0m\u001b[0;34m,\u001b[0m \u001b[0mindex\u001b[0m\u001b[0;34m=\u001b[0m\u001b[0;32mNone\u001b[0m\u001b[0;34m)\u001b[0m\u001b[0;34m\u001b[0m\u001b[0m\n",
      "\u001b[0;31mNameError\u001b[0m: name 'submit_0818' is not defined"
     ]
    }
   ],
   "source": [
    "submit_0818.columns = ['user_id', 'video_id', 'watch_label', 'is_share']\n",
    "submit_0818.to_csv(\"data/submit/submission.csv\", index=None)"
   ]
  },
  {
   "cell_type": "code",
   "execution_count": null,
   "metadata": {},
   "outputs": [],
   "source": []
  }
 ],
 "metadata": {
  "kernelspec": {
   "display_name": "Python 3",
   "language": "python",
   "name": "python3"
  },
  "language_info": {
   "codemirror_mode": {
    "name": "ipython",
    "version": 3
   },
   "file_extension": ".py",
   "mimetype": "text/x-python",
   "name": "python",
   "nbconvert_exporter": "python",
   "pygments_lexer": "ipython3",
   "version": "3.6.5"
  },
  "toc": {
   "base_numbering": 1,
   "nav_menu": {},
   "number_sections": true,
   "sideBar": true,
   "skip_h1_title": false,
   "title_cell": "Table of Contents",
   "title_sidebar": "Contents",
   "toc_cell": false,
   "toc_position": {},
   "toc_section_display": true,
   "toc_window_display": false
  },
  "varInspector": {
   "cols": {
    "lenName": 16,
    "lenType": 16,
    "lenVar": 40
   },
   "kernels_config": {
    "python": {
     "delete_cmd_postfix": "",
     "delete_cmd_prefix": "del ",
     "library": "var_list.py",
     "varRefreshCmd": "print(var_dic_list())"
    },
    "r": {
     "delete_cmd_postfix": ") ",
     "delete_cmd_prefix": "rm(",
     "library": "var_list.r",
     "varRefreshCmd": "cat(var_dic_list()) "
    }
   },
   "position": {
    "height": "428px",
    "left": "1070px",
    "right": "20px",
    "top": "120px",
    "width": "354px"
   },
   "types_to_exclude": [
    "module",
    "function",
    "builtin_function_or_method",
    "instance",
    "_Feature"
   ],
   "window_display": false
  }
 },
 "nbformat": 4,
 "nbformat_minor": 2
}
