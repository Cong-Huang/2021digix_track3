{
 "cells": [
  {
   "cell_type": "code",
   "execution_count": 8,
   "metadata": {},
   "outputs": [],
   "source": [
    "import pandas as pd \n",
    "import os\n",
    "import gc\n",
    "from tqdm import tqdm\n",
    "from utils import reduce_mem, uAUC, get_logger\n",
    "from sklearn.metrics import *\n",
    "import matplotlib.pyplot as plt\n",
    "import seaborn as sns\n",
    "import numpy as np"
   ]
  },
  {
   "cell_type": "markdown",
   "metadata": {},
   "source": [
    "## 预处理数据集"
   ]
  },
  {
   "cell_type": "code",
   "execution_count": 4,
   "metadata": {
    "scrolled": true
   },
   "outputs": [
    {
     "name": "stderr",
     "output_type": "stream",
     "text": [
      "100%|██████████| 14/14 [00:34<00:00,  2.45s/it]\n",
      "  0%|          | 0/8 [00:00<?, ?it/s]"
     ]
    },
    {
     "name": "stdout",
     "output_type": "stream",
     "text": [
      "(80276856, 8)\n"
     ]
    },
    {
     "name": "stderr",
     "output_type": "stream",
     "text": [
      "100%|██████████| 8/8 [00:13<00:00,  1.65s/it]\n"
     ]
    },
    {
     "name": "stdout",
     "output_type": "stream",
     "text": [
      "4899.71 Mb, 1301.49 Mb (73.44 %)\n",
      "(80276856, 8) (2822180, 2)\n",
      "(5910800, 8) (49731, 10)\n"
     ]
    }
   ],
   "source": [
    "hist_data_path = \"data/traindata/history_behavior_data/\"\n",
    "hist_df_list = []\n",
    "for file in tqdm(sorted(os.listdir(hist_data_path))):\n",
    "    tmp_path = hist_data_path + file\n",
    "    tmp_path = tmp_path + '/' + os.listdir(tmp_path)[0]\n",
    "    tmp_df = pd.read_csv(tmp_path, sep='\\t', low_memory=False)\n",
    "    del tmp_df['watch_start_time']\n",
    "    hist_df_list.append(tmp_df)\n",
    "    del tmp_df\n",
    "    gc.collect()\n",
    "\n",
    "train = pd.concat(hist_df_list, ignore_index=True)\n",
    "print(train.shape)\n",
    "train = reduce_mem(train, train.columns)\n",
    "test = pd.read_csv(\"data/testdata/test.csv\")\n",
    "print(train.shape, test.shape)\n",
    "\n",
    "user_info = pd.read_csv(\"data/traindata/user_features_data/user_features_data.csv\", sep='\\t')\n",
    "video_info = pd.read_csv(\"data/traindata/video_features_data/video_features_data.csv\", sep='\\t')\n",
    "print(user_info.shape, video_info.shape)"
   ]
  },
  {
   "cell_type": "code",
   "execution_count": 11,
   "metadata": {},
   "outputs": [],
   "source": [
    "train.to_pickle(\"data/train.pkl\")\n",
    "test.to_pickle(\"data/test.pkl\")\n",
    "user_info.to_pickle(\"data/user_info.pkl\")\n",
    "video_info.to_pickle(\"data/video_info.pkl\")"
   ]
  },
  {
   "cell_type": "code",
   "execution_count": null,
   "metadata": {},
   "outputs": [],
   "source": []
  },
  {
   "cell_type": "code",
   "execution_count": 17,
   "metadata": {},
   "outputs": [
    {
     "data": {
      "text/plain": [
       "1.0"
      ]
     },
     "execution_count": 17,
     "metadata": {},
     "output_type": "execute_result"
    }
   ],
   "source": [
    "y_true = [1, 0, 0, 0, 1, 0, 0, 1, 0, 1]\n",
    "y_pred = [1, 0, 0, 0, 1, 0, 0, 1, 0, 1]\n",
    "roc_auc_score(y_true, y_pred)"
   ]
  },
  {
   "cell_type": "code",
   "execution_count": null,
   "metadata": {},
   "outputs": [],
   "source": []
  },
  {
   "cell_type": "markdown",
   "metadata": {},
   "source": [
    "## 数据分析"
   ]
  },
  {
   "cell_type": "code",
   "execution_count": 3,
   "metadata": {},
   "outputs": [
    {
     "name": "stdout",
     "output_type": "stream",
     "text": [
      "(80276856, 8) (2822180, 2) (5910800, 8) (49731, 10)\n"
     ]
    }
   ],
   "source": [
    "train = pd.read_pickle(\"data/origin/train.pkl\")\n",
    "test = pd.read_pickle(\"data/origin/test.pkl\")\n",
    "user_info = pd.read_pickle(\"data/origin/user_info.pkl\")\n",
    "video_info = pd.read_pickle(\"data/origin/video_info.pkl\")\n",
    "print(train.shape, test.shape, user_info.shape, video_info.shape)"
   ]
  },
  {
   "cell_type": "code",
   "execution_count": 23,
   "metadata": {},
   "outputs": [
    {
     "name": "stdout",
     "output_type": "stream",
     "text": [
      "训练集用户数: 3953209, 测试集用户数: 492174\n",
      "训练集和测试集用户重合数: 422143\n",
      "用户冷启动占比：14.22891091361998%%\n",
      "训练集视频数: 34218, 测试集视频数: 23686\n",
      "训练集和测试集视频重合数: 23600\n"
     ]
    }
   ],
   "source": [
    "trn_uids, trn_fids = train['user_id'].unique(), train['video_id'].unique()\n",
    "test_uids, test_fids = test['user_id'].unique(), test['video_id'].unique()\n",
    "\n",
    "print(\"训练集用户数: {}, 测试集用户数: {}\".format(len(trn_uids), len(test_uids)))\n",
    "print(\"训练集和测试集用户重合数: {}\".format(len(set(trn_uids) & set(test_uids))))\n",
    "print(\"用户冷启动占比：{:.4f}%%\".format(100 * (len(test_uids) - len(set(trn_uids) & set(test_uids))) / len(test_uids)))\n",
    "\n",
    "print(\"训练集视频数: {}, 测试集视频数: {}\".format(len(trn_fids), len(test_fids)))\n",
    "print(\"训练集和测试集视频重合数: {}\".format(len(set(trn_fids) & set(test_fids))))"
   ]
  },
  {
   "cell_type": "code",
   "execution_count": 38,
   "metadata": {},
   "outputs": [
    {
     "name": "stdout",
     "output_type": "stream",
     "text": [
      "4023240 34304\n"
     ]
    }
   ],
   "source": [
    "all_uids = (set(trn_uids) | set(test_uids))\n",
    "all_fids = (set(trn_fids) | set(test_fids))\n",
    "print(len(all_uids), len(all_fids))"
   ]
  },
  {
   "cell_type": "code",
   "execution_count": 39,
   "metadata": {},
   "outputs": [
    {
     "data": {
      "text/plain": [
       "(4023240, 33884)"
      ]
     },
     "execution_count": 39,
     "metadata": {},
     "output_type": "execute_result"
    }
   ],
   "source": [
    "len(all_uids & set(user_info['user_id'])), len(all_fids & set(video_info['video_id']))"
   ]
  },
  {
   "cell_type": "code",
   "execution_count": 45,
   "metadata": {},
   "outputs": [
    {
     "data": {
      "text/plain": [
       "(80276693, 8)"
      ]
     },
     "execution_count": 45,
     "metadata": {},
     "output_type": "execute_result"
    }
   ],
   "source": [
    "train.drop_duplicates().shape"
   ]
  },
  {
   "cell_type": "code",
   "execution_count": 41,
   "metadata": {},
   "outputs": [
    {
     "data": {
      "text/plain": [
       "(80276856, 8)"
      ]
     },
     "execution_count": 41,
     "metadata": {},
     "output_type": "execute_result"
    }
   ],
   "source": [
    "train.shape"
   ]
  },
  {
   "cell_type": "code",
   "execution_count": 29,
   "metadata": {
    "scrolled": true
   },
   "outputs": [
    {
     "name": "stdout",
     "output_type": "stream",
     "text": [
      "0    72923832\n",
      "1     7353024\n",
      "Name: is_watch, dtype: int64\n",
      "\n",
      "0    80261906\n",
      "1       14950\n",
      "Name: is_share, dtype: int64\n",
      "\n",
      "0    80184737\n",
      "1       92119\n",
      "Name: is_collect, dtype: int64\n",
      "\n",
      "0    80264414\n",
      "1       12442\n",
      "Name: is_comment, dtype: int64\n",
      "\n",
      "0    78100575\n",
      "1      557421\n",
      "9      388521\n",
      "2      314107\n",
      "3      219188\n",
      "4      172404\n",
      "5      143001\n",
      "8      138798\n",
      "6      125092\n",
      "7      117749\n",
      "Name: watch_label, dtype: int64\n",
      "\n"
     ]
    }
   ],
   "source": [
    "for col in ['is_watch', 'is_share', 'is_collect', 'is_comment', 'watch_label']:\n",
    "    print(train[col].value_counts())\n",
    "    print()"
   ]
  },
  {
   "cell_type": "code",
   "execution_count": 9,
   "metadata": {},
   "outputs": [],
   "source": [
    "label_corr = train[['is_watch', 'is_collect', 'is_comment', 'is_share', 'watch_label']].corr()"
   ]
  },
  {
   "cell_type": "code",
   "execution_count": 33,
   "metadata": {},
   "outputs": [
    {
     "data": {
      "text/plain": [
       "80276856"
      ]
     },
     "execution_count": 33,
     "metadata": {},
     "output_type": "execute_result"
    }
   ],
   "source": [
    "train.shape[0]"
   ]
  },
  {
   "cell_type": "code",
   "execution_count": 19,
   "metadata": {},
   "outputs": [
    {
     "data": {
      "image/png": "[encoded data removed]",
      "text/plain": [
       "<Figure size 432x288 with 2 Axes>"
      ]
     },
     "metadata": {},
     "output_type": "display_data"
    }
   ],
   "source": [
    "sns.heatmap(label_corr, cmap='GnBu', annot=True)\n",
    "plt.savefig(\"label_corr.jpg\", dpi=600, bbox_inches='tight')\n",
    "plt.show()\n"
   ]
  },
  {
   "cell_type": "code",
   "execution_count": 7,
   "metadata": {},
   "outputs": [
    {
     "data": {
      "text/html": [
       "<div>\n",
       "<style scoped>\n",
       "    .dataframe tbody tr th:only-of-type {\n",
       "        vertical-align: middle;\n",
       "    }\n",
       "\n",
       "    .dataframe tbody tr th {\n",
       "        vertical-align: top;\n",
       "    }\n",
       "\n",
       "    .dataframe thead th {\n",
       "        text-align: right;\n",
       "    }\n",
       "</style>\n",
       "<table border=\"1\" class=\"dataframe\">\n",
       "  <thead>\n",
       "    <tr style=\"text-align: right;\">\n",
       "      <th></th>\n",
       "      <th>user_id</th>\n",
       "      <th>age</th>\n",
       "      <th>gender</th>\n",
       "      <th>country</th>\n",
       "      <th>province</th>\n",
       "      <th>city</th>\n",
       "      <th>city_level</th>\n",
       "      <th>device_name</th>\n",
       "    </tr>\n",
       "  </thead>\n",
       "  <tbody>\n",
       "    <tr>\n",
       "      <th>0</th>\n",
       "      <td>1757005</td>\n",
       "      <td>3</td>\n",
       "      <td>1</td>\n",
       "      <td>0</td>\n",
       "      <td>9</td>\n",
       "      <td>6</td>\n",
       "      <td>3</td>\n",
       "      <td>327</td>\n",
       "    </tr>\n",
       "    <tr>\n",
       "      <th>1</th>\n",
       "      <td>17938</td>\n",
       "      <td>0</td>\n",
       "      <td>0</td>\n",
       "      <td>0</td>\n",
       "      <td>4</td>\n",
       "      <td>22</td>\n",
       "      <td>3</td>\n",
       "      <td>327</td>\n",
       "    </tr>\n",
       "    <tr>\n",
       "      <th>2</th>\n",
       "      <td>4263520</td>\n",
       "      <td>1</td>\n",
       "      <td>0</td>\n",
       "      <td>0</td>\n",
       "      <td>19</td>\n",
       "      <td>1</td>\n",
       "      <td>5</td>\n",
       "      <td>327</td>\n",
       "    </tr>\n",
       "    <tr>\n",
       "      <th>3</th>\n",
       "      <td>1411600</td>\n",
       "      <td>3</td>\n",
       "      <td>0</td>\n",
       "      <td>0</td>\n",
       "      <td>5</td>\n",
       "      <td>138</td>\n",
       "      <td>1</td>\n",
       "      <td>327</td>\n",
       "    </tr>\n",
       "    <tr>\n",
       "      <th>4</th>\n",
       "      <td>3992242</td>\n",
       "      <td>2</td>\n",
       "      <td>0</td>\n",
       "      <td>0</td>\n",
       "      <td>0</td>\n",
       "      <td>142</td>\n",
       "      <td>0</td>\n",
       "      <td>327</td>\n",
       "    </tr>\n",
       "  </tbody>\n",
       "</table>\n",
       "</div>"
      ],
      "text/plain": [
       "   user_id  age  gender  country  province  city  city_level  device_name\n",
       "0  1757005    3       1        0         9     6           3          327\n",
       "1    17938    0       0        0         4    22           3          327\n",
       "2  4263520    1       0        0        19     1           5          327\n",
       "3  1411600    3       0        0         5   138           1          327\n",
       "4  3992242    2       0        0         0   142           0          327"
      ]
     },
     "execution_count": 7,
     "metadata": {},
     "output_type": "execute_result"
    }
   ],
   "source": [
    "user_info.head()"
   ]
  },
  {
   "cell_type": "code",
   "execution_count": 24,
   "metadata": {
    "scrolled": true
   },
   "outputs": [
    {
     "data": {
      "text/html": [
       "<div>\n",
       "<style scoped>\n",
       "    .dataframe tbody tr th:only-of-type {\n",
       "        vertical-align: middle;\n",
       "    }\n",
       "\n",
       "    .dataframe tbody tr th {\n",
       "        vertical-align: top;\n",
       "    }\n",
       "\n",
       "    .dataframe thead th {\n",
       "        text-align: right;\n",
       "    }\n",
       "</style>\n",
       "<table border=\"1\" class=\"dataframe\">\n",
       "  <thead>\n",
       "    <tr style=\"text-align: right;\">\n",
       "      <th></th>\n",
       "      <th>video_id</th>\n",
       "      <th>video_name</th>\n",
       "      <th>video_tags</th>\n",
       "      <th>video_description</th>\n",
       "      <th>video_release_date</th>\n",
       "      <th>video_director_list</th>\n",
       "      <th>video_actor_list</th>\n",
       "      <th>video_score</th>\n",
       "      <th>video_second_class</th>\n",
       "      <th>video_duration</th>\n",
       "    </tr>\n",
       "  </thead>\n",
       "  <tbody>\n",
       "    <tr>\n",
       "      <th>0</th>\n",
       "      <td>3460</td>\n",
       "      <td>脱皮爸爸</td>\n",
       "      <td>院线电影,家庭关系,命运</td>\n",
       "      <td>中年失意的儿子田力行（古天乐饰）在生活上遇到了重重危机：母亲病逝,工作不顺,妻子要求离婚。正...</td>\n",
       "      <td>2017-04-27</td>\n",
       "      <td>司徒慧焯</td>\n",
       "      <td>吴镇宇,古天乐,春夏,蔡洁</td>\n",
       "      <td>7.4</td>\n",
       "      <td>剧情,喜剧,奇幻</td>\n",
       "      <td>5913</td>\n",
       "    </tr>\n",
       "    <tr>\n",
       "      <th>1</th>\n",
       "      <td>14553</td>\n",
       "      <td>喜气洋洋小金莲</td>\n",
       "      <td>古装喜剧,剧情片,喜剧片,内地电影,欢乐喜剧,爱情纠纷</td>\n",
       "      <td>故事始于西门庆为西门药业的“伟哥”产品寻找代言人，西门庆初见潘金莲，一时惊为天人，为成功抱得...</td>\n",
       "      <td>2015-12-30</td>\n",
       "      <td>杨珊珊,李亚玲</td>\n",
       "      <td>陈南飞,程隆妮,王闯,贾海涛,闫薇儿</td>\n",
       "      <td>5.6</td>\n",
       "      <td>喜剧</td>\n",
       "      <td>6217</td>\n",
       "    </tr>\n",
       "    <tr>\n",
       "      <th>2</th>\n",
       "      <td>1214</td>\n",
       "      <td>风流家族</td>\n",
       "      <td>男女关系,家庭关系,命运,院线电影</td>\n",
       "      <td>香世仁（钟镇涛 饰）是家财万贯的香港富豪，在满足了一切物质上的要求后，他将生活的重心放在了儿...</td>\n",
       "      <td>2002-03-07</td>\n",
       "      <td>邱礼涛,杨漪珊</td>\n",
       "      <td>张家辉,卢巧音,钟镇涛,叶童,李蕙敏,张坚庭,袁洁莹,黄佩霞,齐芷瑶,刘以达,叶伟信,邹凯光...</td>\n",
       "      <td>6.8</td>\n",
       "      <td>都市,喜剧,爱情,家庭</td>\n",
       "      <td>5963</td>\n",
       "    </tr>\n",
       "    <tr>\n",
       "      <th>3</th>\n",
       "      <td>30639</td>\n",
       "      <td>大提琴的故事</td>\n",
       "      <td>短片,动画片</td>\n",
       "      <td>低音大提琴演奏家史密斯科夫正要去参加某贵族的沙龙，途中他被河边的美丽景色所吸引，驻足观看。兴...</td>\n",
       "      <td>1949-01-01</td>\n",
       "      <td>伊里·特恩卡,契诃夫</td>\n",
       "      <td>NaN</td>\n",
       "      <td>NaN</td>\n",
       "      <td>动画,爱情</td>\n",
       "      <td>17371</td>\n",
       "    </tr>\n",
       "    <tr>\n",
       "      <th>4</th>\n",
       "      <td>38522</td>\n",
       "      <td>歌舞大王齐格飞</td>\n",
       "      <td>喜剧片,人物传记,浪漫爱情</td>\n",
       "      <td>罗伯特．Z．伦纳德导演的这部影片以百老汇最大的歌舞团——齐格菲歌舞团的创办人佛罗伦斯．齐格菲...</td>\n",
       "      <td>1936-04-08</td>\n",
       "      <td>罗伯特·Z·伦纳德,William Anthony McGuire</td>\n",
       "      <td>威廉·鲍威尔,玛娜·洛伊,路易丝·赖纳,弗兰克·摩根,范妮·布莱斯,弗吉尼亚·布鲁斯,雷吉纳...</td>\n",
       "      <td>7.7</td>\n",
       "      <td>剧情,歌舞,喜剧</td>\n",
       "      <td>10608</td>\n",
       "    </tr>\n",
       "    <tr>\n",
       "      <th>5</th>\n",
       "      <td>50257</td>\n",
       "      <td>一江春水向东流上</td>\n",
       "      <td>历史,战争,y,yj,yjc,yjcs,yjcsx,yjcsxd,yjcsxdl,yjcsxdls</td>\n",
       "      <td>《一江春水向东流》是由蔡楚生、郑君里导演和编剧，白杨、陶金、上官云珠、舒绣文、吴茵主演的一部...</td>\n",
       "      <td>1947-01-01</td>\n",
       "      <td>蔡楚生,郑君里</td>\n",
       "      <td>白杨,陶金,舒绣文,上官云珠,吴茵,周伯勋,王静安,顾梦鹤,叶小铿</td>\n",
       "      <td>8.6</td>\n",
       "      <td>剧情,战争,历史</td>\n",
       "      <td>5765</td>\n",
       "    </tr>\n",
       "    <tr>\n",
       "      <th>6</th>\n",
       "      <td>313</td>\n",
       "      <td>俄克拉荷马</td>\n",
       "      <td>歌舞,西部,爱情</td>\n",
       "      <td>《俄克拉荷马》描写了二十世纪初时发生在美国西部原印第安人居住地的女主角Laurey(劳瑞)和...</td>\n",
       "      <td>1955-06-11</td>\n",
       "      <td>弗雷德·金尼曼</td>\n",
       "      <td>高登·麦克瑞,格洛丽亚·格雷厄姆,吉恩·纳尔逊,夏洛特·格林伍德,雪莉·琼斯</td>\n",
       "      <td>6.7</td>\n",
       "      <td>歌舞,西部,爱情</td>\n",
       "      <td>8124</td>\n",
       "    </tr>\n",
       "    <tr>\n",
       "      <th>7</th>\n",
       "      <td>3572</td>\n",
       "      <td>来电惊魂-HDR</td>\n",
       "      <td>来电惊魂,保姆,翻拍,高中生,卡米拉·贝勒,索尼,HDR</td>\n",
       "      <td>在人迹罕至的遥远的别墅里，高中生吉尔和往常一样做兼职保姆，孩子在房子里沉沉的睡着，吉尔关好门...</td>\n",
       "      <td>2006-01-01</td>\n",
       "      <td>西蒙·韦斯特,Steve Feke,Fred Walton</td>\n",
       "      <td>卡米拉·贝勒,凯蒂·卡西迪,布莱恩·格拉格提,大卫·丹曼,汤米·弗拉纳根,德雷克·德·林特,...</td>\n",
       "      <td>7.0</td>\n",
       "      <td>惊悚,恐怖</td>\n",
       "      <td>5001</td>\n",
       "    </tr>\n",
       "    <tr>\n",
       "      <th>8</th>\n",
       "      <td>17982</td>\n",
       "      <td>摇滚藏獒 AiMax</td>\n",
       "      <td>善与恶;有温度;赤子初心;院线电影</td>\n",
       "      <td>藏獒波弟在山村长大,本该子承父业担当村庄卫士,却爱上了21世纪摇滚乐。为了追求音乐梦想,他进...</td>\n",
       "      <td>2016-07-08</td>\n",
       "      <td>艾什·布兰农,郑钧,Kurt Voelker</td>\n",
       "      <td>NaN</td>\n",
       "      <td>7.8</td>\n",
       "      <td>动画,音乐</td>\n",
       "      <td>5337</td>\n",
       "    </tr>\n",
       "    <tr>\n",
       "      <th>9</th>\n",
       "      <td>11269</td>\n",
       "      <td>的士速递-原声版NEW</td>\n",
       "      <td>电影,喜剧,动作,犯罪,吉拉尔.皮雷,萨米.纳塞利,玛丽昂.歌迪亚,弗雷德里克.迪芬塔尔,艾...</td>\n",
       "      <td>丹尼尔拥有精湛的驾驶技术，警察艾米是个倒霉蛋，两人意外结识，阴差阳错丹尼尔不得不替艾米调查案件</td>\n",
       "      <td>1998-01-01</td>\n",
       "      <td>NaN</td>\n",
       "      <td>黛西·雷德利,克里夫·欧文,帕特里克·威尔森</td>\n",
       "      <td>NaN</td>\n",
       "      <td>NaN</td>\n",
       "      <td>5060</td>\n",
       "    </tr>\n",
       "  </tbody>\n",
       "</table>\n",
       "</div>"
      ],
      "text/plain": [
       "   video_id   video_name                                         video_tags  \\\n",
       "0      3460         脱皮爸爸                                       院线电影,家庭关系,命运   \n",
       "1     14553      喜气洋洋小金莲                        古装喜剧,剧情片,喜剧片,内地电影,欢乐喜剧,爱情纠纷   \n",
       "2      1214         风流家族                                  男女关系,家庭关系,命运,院线电影   \n",
       "3     30639       大提琴的故事                                             短片,动画片   \n",
       "4     38522      歌舞大王齐格飞                                      喜剧片,人物传记,浪漫爱情   \n",
       "5     50257     一江春水向东流上  历史,战争,y,yj,yjc,yjcs,yjcsx,yjcsxd,yjcsxdl,yjcsxdls   \n",
       "6       313        俄克拉荷马                                           歌舞,西部,爱情   \n",
       "7      3572     来电惊魂-HDR                       来电惊魂,保姆,翻拍,高中生,卡米拉·贝勒,索尼,HDR   \n",
       "8     17982   摇滚藏獒 AiMax                                  善与恶;有温度;赤子初心;院线电影   \n",
       "9     11269  的士速递-原声版NEW  电影,喜剧,动作,犯罪,吉拉尔.皮雷,萨米.纳塞利,玛丽昂.歌迪亚,弗雷德里克.迪芬塔尔,艾...   \n",
       "\n",
       "                                   video_description video_release_date  \\\n",
       "0  中年失意的儿子田力行（古天乐饰）在生活上遇到了重重危机：母亲病逝,工作不顺,妻子要求离婚。正...         2017-04-27   \n",
       "1  故事始于西门庆为西门药业的“伟哥”产品寻找代言人，西门庆初见潘金莲，一时惊为天人，为成功抱得...         2015-12-30   \n",
       "2  香世仁（钟镇涛 饰）是家财万贯的香港富豪，在满足了一切物质上的要求后，他将生活的重心放在了儿...         2002-03-07   \n",
       "3  低音大提琴演奏家史密斯科夫正要去参加某贵族的沙龙，途中他被河边的美丽景色所吸引，驻足观看。兴...         1949-01-01   \n",
       "4  罗伯特．Z．伦纳德导演的这部影片以百老汇最大的歌舞团——齐格菲歌舞团的创办人佛罗伦斯．齐格菲...         1936-04-08   \n",
       "5  《一江春水向东流》是由蔡楚生、郑君里导演和编剧，白杨、陶金、上官云珠、舒绣文、吴茵主演的一部...         1947-01-01   \n",
       "6  《俄克拉荷马》描写了二十世纪初时发生在美国西部原印第安人居住地的女主角Laurey(劳瑞)和...         1955-06-11   \n",
       "7  在人迹罕至的遥远的别墅里，高中生吉尔和往常一样做兼职保姆，孩子在房子里沉沉的睡着，吉尔关好门...         2006-01-01   \n",
       "8  藏獒波弟在山村长大,本该子承父业担当村庄卫士,却爱上了21世纪摇滚乐。为了追求音乐梦想,他进...         2016-07-08   \n",
       "9    丹尼尔拥有精湛的驾驶技术，警察艾米是个倒霉蛋，两人意外结识，阴差阳错丹尼尔不得不替艾米调查案件         1998-01-01   \n",
       "\n",
       "                 video_director_list  \\\n",
       "0                               司徒慧焯   \n",
       "1                            杨珊珊,李亚玲   \n",
       "2                            邱礼涛,杨漪珊   \n",
       "3                         伊里·特恩卡,契诃夫   \n",
       "4  罗伯特·Z·伦纳德,William Anthony McGuire   \n",
       "5                            蔡楚生,郑君里   \n",
       "6                            弗雷德·金尼曼   \n",
       "7      西蒙·韦斯特,Steve Feke,Fred Walton   \n",
       "8             艾什·布兰农,郑钧,Kurt Voelker   \n",
       "9                                NaN   \n",
       "\n",
       "                                    video_actor_list  video_score  \\\n",
       "0                                      吴镇宇,古天乐,春夏,蔡洁          7.4   \n",
       "1                                 陈南飞,程隆妮,王闯,贾海涛,闫薇儿          5.6   \n",
       "2  张家辉,卢巧音,钟镇涛,叶童,李蕙敏,张坚庭,袁洁莹,黄佩霞,齐芷瑶,刘以达,叶伟信,邹凯光...          6.8   \n",
       "3                                                NaN          NaN   \n",
       "4  威廉·鲍威尔,玛娜·洛伊,路易丝·赖纳,弗兰克·摩根,范妮·布莱斯,弗吉尼亚·布鲁斯,雷吉纳...          7.7   \n",
       "5                  白杨,陶金,舒绣文,上官云珠,吴茵,周伯勋,王静安,顾梦鹤,叶小铿          8.6   \n",
       "6             高登·麦克瑞,格洛丽亚·格雷厄姆,吉恩·纳尔逊,夏洛特·格林伍德,雪莉·琼斯          6.7   \n",
       "7  卡米拉·贝勒,凯蒂·卡西迪,布莱恩·格拉格提,大卫·丹曼,汤米·弗拉纳根,德雷克·德·林特,...          7.0   \n",
       "8                                                NaN          7.8   \n",
       "9                             黛西·雷德利,克里夫·欧文,帕特里克·威尔森          NaN   \n",
       "\n",
       "  video_second_class  video_duration  \n",
       "0           剧情,喜剧,奇幻            5913  \n",
       "1                 喜剧            6217  \n",
       "2        都市,喜剧,爱情,家庭            5963  \n",
       "3              动画,爱情           17371  \n",
       "4           剧情,歌舞,喜剧           10608  \n",
       "5           剧情,战争,历史            5765  \n",
       "6           歌舞,西部,爱情            8124  \n",
       "7              惊悚,恐怖            5001  \n",
       "8              动画,音乐            5337  \n",
       "9                NaN            5060  "
      ]
     },
     "execution_count": 24,
     "metadata": {},
     "output_type": "execute_result"
    }
   ],
   "source": [
    "video_info.head(10)"
   ]
  },
  {
   "cell_type": "code",
   "execution_count": 22,
   "metadata": {
    "scrolled": true
   },
   "outputs": [
    {
     "name": "stdout",
     "output_type": "stream",
     "text": [
      "<class 'pandas.core.frame.DataFrame'>\n",
      "RangeIndex: 49731 entries, 0 to 49730\n",
      "Data columns (total 10 columns):\n",
      " #   Column               Non-Null Count  Dtype  \n",
      "---  ------               --------------  -----  \n",
      " 0   video_id             49731 non-null  int64  \n",
      " 1   video_name           49722 non-null  object \n",
      " 2   video_tags           41831 non-null  object \n",
      " 3   video_description    49536 non-null  object \n",
      " 4   video_release_date   49061 non-null  object \n",
      " 5   video_director_list  38728 non-null  object \n",
      " 6   video_actor_list     39543 non-null  object \n",
      " 7   video_score          46417 non-null  float64\n",
      " 8   video_second_class   43821 non-null  object \n",
      " 9   video_duration       49731 non-null  int64  \n",
      "dtypes: float64(1), int64(2), object(7)\n",
      "memory usage: 3.8+ MB\n"
     ]
    }
   ],
   "source": [
    "video_info.info()"
   ]
  },
  {
   "cell_type": "code",
   "execution_count": 23,
   "metadata": {},
   "outputs": [
    {
     "data": {
      "text/plain": [
       "video_id                   0\n",
       "video_name                 9\n",
       "video_tags              7900\n",
       "video_description        195\n",
       "video_release_date       670\n",
       "video_director_list    11003\n",
       "video_actor_list       10188\n",
       "video_score             3314\n",
       "video_second_class      5910\n",
       "video_duration             0\n",
       "dtype: int64"
      ]
     },
     "execution_count": 23,
     "metadata": {},
     "output_type": "execute_result"
    }
   ],
   "source": [
    "video_info.isnull().sum()"
   ]
  },
  {
   "cell_type": "code",
   "execution_count": null,
   "metadata": {},
   "outputs": [],
   "source": []
  }
 ],
 "metadata": {
  "interpreter": {
   "hash": "7a372460814bf87c8dff05f2fbac7034e3af34227da0b4a7644e40315f17abc7"
  },
  "kernelspec": {
   "display_name": "Python 3",
   "language": "python",
   "name": "python3"
  },
  "language_info": {
   "codemirror_mode": {
    "name": "ipython",
    "version": 3
   },
   "file_extension": ".py",
   "mimetype": "text/x-python",
   "name": "python",
   "nbconvert_exporter": "python",
   "pygments_lexer": "ipython3",
   "version": "3.6.5"
  },
  "toc": {
   "base_numbering": 1,
   "nav_menu": {},
   "number_sections": true,
   "sideBar": true,
   "skip_h1_title": false,
   "title_cell": "Table of Contents",
   "title_sidebar": "Contents",
   "toc_cell": false,
   "toc_position": {},
   "toc_section_display": true,
   "toc_window_display": false
  },
  "varInspector": {
   "cols": {
    "lenName": 16,
    "lenType": 16,
    "lenVar": 40
   },
   "kernels_config": {
    "python": {
     "delete_cmd_postfix": "",
     "delete_cmd_prefix": "del ",
     "library": "var_list.py",
     "varRefreshCmd": "print(var_dic_list())"
    },
    "r": {
     "delete_cmd_postfix": ") ",
     "delete_cmd_prefix": "rm(",
     "library": "var_list.r",
     "varRefreshCmd": "cat(var_dic_list()) "
    }
   },
   "types_to_exclude": [
    "module",
    "function",
    "builtin_function_or_method",
    "instance",
    "_Feature"
   ],
   "window_display": false
  }
 },
 "nbformat": 4,
 "nbformat_minor": 2
}
