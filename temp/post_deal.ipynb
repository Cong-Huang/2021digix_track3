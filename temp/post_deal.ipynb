{
 "cells": [
  {
   "cell_type": "code",
   "execution_count": 1,
   "metadata": {},
   "outputs": [],
   "source": [
    "import pandas as pd\n",
    "import numpy as np\n",
    "from tqdm import tqdm\n",
    "tqdm.pandas()\n",
    "from sklearn.metrics import roc_auc_score\n",
    "from lightgbm.sklearn import LGBMClassifier, LGBMRegressor\n",
    "import lightgbm as lgb\n",
    "from collections import defaultdict\n",
    "from sklearn.preprocessing import LabelEncoder\n",
    "from sklearn.model_selection import KFold \n",
    "import gc\n",
    "import random\n",
    "import time\n",
    "import os\n",
    "import pickle\n",
    "from utils import reduce_mem, uAUC, ProNE, HyperParam, get_logger, fast_auc\n",
    "\n",
    "pd.set_option('display.max_columns', None)"
   ]
  },
  {
   "cell_type": "code",
   "execution_count": null,
   "metadata": {},
   "outputs": [],
   "source": []
  },
  {
   "cell_type": "code",
   "execution_count": 2,
   "metadata": {},
   "outputs": [
    {
     "name": "stdout",
     "output_type": "stream",
     "text": [
      "(5529636, 14) (5529636, 14) (5529636, 14)\n",
      "(2822180, 12) (2822180, 12) (2822180, 12)\n"
     ]
    }
   ],
   "source": [
    "valid_pred_lgb1 = pd.read_feather(\"../data/submit/temp/lgb_pred_file/valid_pred_lgb_1.feather\")\n",
    "valid_pred_lgb2 = pd.read_feather(\"../data/submit/temp/lgb_pred_file/valid_pred_lgb_2.feather\")\n",
    "valid_pred_nn = pd.read_feather(\"../data/submit/valid_pred_nn_1.feather\")\n",
    "print(valid_pred_lgb1.shape, valid_pred_lgb2.shape, valid_pred_nn.shape)\n",
    "\n",
    "test_pred_lgb1 = pd.read_feather(\"../data/submit/temp/lgb_pred_file/test_pred_lgb_1.feather\")\n",
    "test_pred_lgb2 = pd.read_feather(\"../data/submit/temp/lgb_pred_file/test_pred_lgb_2.feather\")\n",
    "test_pred_nn = pd.read_feather(\"../data/submit/test_pred_nn_1.feather\")\n",
    "print(test_pred_lgb1.shape, test_pred_lgb2.shape, test_pred_nn.shape)"
   ]
  },
  {
   "cell_type": "code",
   "execution_count": 3,
   "metadata": {},
   "outputs": [],
   "source": [
    "valid_pred_lgb = valid_pred_lgb1.copy()\n",
    "test_pred_lgb = test_pred_lgb1.copy()\n",
    "for col in ['is_share_pred',\n",
    "        'watch_label_pred_1', 'watch_label_pred_2', 'watch_label_pred_3',\n",
    "        'watch_label_pred_4', 'watch_label_pred_5', 'watch_label_pred_6',\n",
    "        'watch_label_pred_7', 'watch_label_pred_8', 'watch_label_pred_9']:\n",
    "    valid_pred_lgb[col] = valid_pred_lgb1[col] * 0.3 + valid_pred_lgb2[col] * 0.7\n",
    "    test_pred_lgb[col] = test_pred_lgb1[col] * 0.3 + test_pred_lgb2[col] * 0.7"
   ]
  },
  {
   "cell_type": "code",
   "execution_count": 4,
   "metadata": {},
   "outputs": [
    {
     "name": "stdout",
     "output_type": "stream",
     "text": [
      "[0.861784, 0.819352, 0.828006, 0.831072, 0.83361, 0.834384, 0.836793, 0.835352, 0.843117, 0.854872]\n",
      "[0.864865, 0.819446, 0.829088, 0.832254, 0.834484, 0.834519, 0.836179, 0.835452, 0.842956, 0.855551]\n",
      "[0.865041, 0.820255, 0.829681, 0.833031, 0.835437, 0.835762, 0.837607, 0.836836, 0.84427, 0.856045]\n",
      "[0.848253, 0.822733, 0.836269, 0.840908, 0.84335, 0.846115, 0.84586, 0.847088, 0.850502, 0.858048]\n"
     ]
    }
   ],
   "source": [
    "def onehot_encode(nums, k):\n",
    "    res = np.zeros((len(nums), k))\n",
    "    for i, x in (enumerate(nums)):\n",
    "        res[i, int(x)] = 1\n",
    "    res = res.astype(np.int32)\n",
    "    return res\n",
    "\n",
    "watch_y_true = onehot_encode(valid_pred_lgb1['watch_label'].values, 10)\n",
    "\n",
    "def get_all_auc(df):\n",
    "    auc_list = [roc_auc_score(df['is_share'].values, df['is_share_pred'].values)]\n",
    "    for i in range(1, 10):\n",
    "        auc_list.append(fast_auc(watch_y_true[:, i], df['watch_label_pred_{}'.format(i)]))\n",
    "    return list(np.round(auc_list, 6))\n",
    "\n",
    "print(get_all_auc(valid_pred_lgb1))\n",
    "print(get_all_auc(valid_pred_lgb2))\n",
    "print(get_all_auc(valid_pred_lgb))\n",
    "print(get_all_auc(valid_pred_nn))"
   ]
  },
  {
   "cell_type": "code",
   "execution_count": 5,
   "metadata": {},
   "outputs": [
    {
     "name": "stdout",
     "output_type": "stream",
     "text": [
      "[0.865656, 0.826177, 0.838215, 0.842787, 0.84575, 0.847206, 0.848186, 0.848697, 0.854721, 0.862186]\n",
      "0.8485984\n"
     ]
    }
   ],
   "source": [
    "valid_pred_ronghe = valid_pred_lgb.copy()\n",
    "test_pred_ronghe = test_pred_lgb.copy()\n",
    "\n",
    "for col in ['is_share_pred',\n",
    "        'watch_label_pred_1', 'watch_label_pred_2', 'watch_label_pred_3',\n",
    "        'watch_label_pred_4', 'watch_label_pred_5', 'watch_label_pred_6',\n",
    "        'watch_label_pred_7', 'watch_label_pred_8', 'watch_label_pred_9']:\n",
    "    if col == 'is_share_pred':\n",
    "        valid_pred_ronghe[col] = valid_pred_nn[col] * 0.15 + valid_pred_lgb[col] * 0.85\n",
    "        test_pred_ronghe[col] = test_pred_nn[col] * 0.15 + test_pred_lgb[col] * 0.85\n",
    "    else:\n",
    "        valid_pred_ronghe[col] = valid_pred_nn[col] * 0.6 + valid_pred_lgb[col] * 0.4\n",
    "        test_pred_ronghe[col] = test_pred_nn[col] * 0.6 + test_pred_lgb[col] * 0.4\n",
    "    \n",
    "auc_res = get_all_auc(valid_pred_ronghe)\n",
    "print(auc_res)\n",
    "print(np.sum(auc_res[1:] * np.array([1, 2, 3, 4, 4, 4, 4, 4, 4]) / 30))\n",
    "# [0.86538, 0.824749, 0.835458, 0.839549, 0.842635, 0.843386, 0.844963, 0.844947, 0.851841, 0.86071]\n",
    "# [0.865656, 0.825691, 0.838127, 0.842723, 0.845767, 0.847418, 0.848257, 0.848998, 0.854561, 0.861673]\n",
    "# 0.8485603333333334"
   ]
  },
  {
   "cell_type": "code",
   "execution_count": null,
   "metadata": {},
   "outputs": [],
   "source": []
  },
  {
   "cell_type": "code",
   "execution_count": 10,
   "metadata": {},
   "outputs": [],
   "source": [
    "'''\n",
    "def get_deal_y_pred(valid_14):\n",
    "    nums = valid_14.shape[0]    # 数据集大小\n",
    "    ## 每类的取值个数 [9,8,7,6,5,4,3,2,1]\n",
    "    class_nums = np.array([int(nums*0.035)]*9) * np.array([5.0, 3.0, 1.3, 1.2, 1.1, 2.0, 1.0, 1.0, 1.5])\n",
    "    ## 需要返回的结果\n",
    "    y_pred_res = np.zeros(nums)\n",
    "    \n",
    "    cls_2_fws = []\n",
    "    for fwd in range(995, 949, -5):\n",
    "        fwd = fwd / 10\n",
    "        cls_2_fws.append({i: np.percentile(valid_14['watch_label_pred_{}'.format(i)], fwd) for i in range(1, 10)})\n",
    "        \n",
    "    \n",
    "#     cls_2_996fws = {i: np.percentile(valid_14['watch_label_pred_{}'.format(i)], 99.6) \n",
    "#                    for i in range(1, 10)}   # 每个类对应的99分位数  概率更大\n",
    "    \n",
    "#     cls_2_99fws = {i: np.percentile(valid_14['watch_label_pred_{}'.format(i)], 99) \n",
    "#                    for i in range(1, 10)}   # 每个类对应的99分位数  概率更大\n",
    "    \n",
    "#     cls_2_97fws = {i: np.percentile(valid_14['watch_label_pred_{}'.format(i)], 97) \n",
    "#                    for i in range(1, 10)}   # 每个类对应的97分位数  概率更小\n",
    "    \n",
    "#     cls_2_90fws = {i: np.percentile(valid_14['watch_label_pred_{}'.format(i)], 95) \n",
    "#                    for i in range(1, 10)}   # 每个类对应的90分位数  概率更小\n",
    "    \n",
    "    idx2cls_prob = {}   ## 已经访问过的记录： index -> (cls, prob)\n",
    "    \n",
    "    for i, n in enumerate(class_nums):\n",
    "        probs = valid_14['watch_label_pred_{}'.format(9-i)]   # 概率，最先是第9类\n",
    "        idxes = np.argsort(-1 * probs).values\n",
    "        \n",
    "        idx = 0   # 开始遍历的索引的位置，需要赋值到答案中\n",
    "        cnt = 0   # 总共遍历得到的个数\n",
    "        while cnt < n:\n",
    "            if (idxes[idx] not in idx2cls_prob):\n",
    "                y_pred_res[idxes[idx]] = 9 - i\n",
    "                cnt += 1\n",
    "                idx2cls_prob[idxes[idx]] = (9-i, probs[idxes[idx]])\n",
    "            else:\n",
    "                flag = False\n",
    "                for rate, cls_2_xxfws in enumerate(cls_2_fws):\n",
    "                    rate = nums * 0.005 * (rate + 1)\n",
    "                    if  cnt <= rate and i <= 5 and idx2cls_prob[idxes[idx]][1] <= cls_2_xxfws[idx2cls_prob[idxes[idx]][0]]:\n",
    "                        flag = True\n",
    "                        break\n",
    "                if flag == False:\n",
    "                    if (cnt <= (nums * 0.003) and i > 5 and idx2cls_prob[idxes[idx]][1] <= cls_2_fws[-1][idx2cls_prob[idxes[idx]][0]]):\n",
    "                        flag = True\n",
    "                if flag:\n",
    "                    y_pred_res[idxes[idx]] = 9 - i\n",
    "                    cnt += 1\n",
    "                    idx2cls_prob[idxes[idx]] = (9-i, probs[idxes[idx]])\n",
    "            idx += 1\n",
    "        print('cls:', 9-i, idx, cnt)\n",
    "    print(pd.Series(y_pred_res).value_counts())\n",
    "    return y_pred_res\n",
    "'''\n",
    "\n",
    "\n",
    "def get_deal_y_pred(valid_14):\n",
    "    nums = valid_14.shape[0]    # 数据集大小\n",
    "    ## 每类的取值个数 [9,8,7,6,5,4,3,2,1]\n",
    "    class_nums = np.array([int(nums*0.035)]*9) * np.array([3.5, 1.5, 1.4, 1.3, 1.2, 1.5, 1.0, 1.0, 1.5])\n",
    "    ## 需要返回的结果\n",
    "    y_pred_res = np.zeros(nums)\n",
    "    \n",
    "    cls_2_998fws = {i: np.percentile(valid_14['watch_label_pred_{}'.format(i)], 99.9) \n",
    "                   for i in range(1, 10)}   # 每个类对应的998分位数  概率更大\n",
    "    \n",
    "    cls_2_996fws = {i: np.percentile(valid_14['watch_label_pred_{}'.format(i)], 99.7) \n",
    "                   for i in range(1, 10)}   # 每个类对应的996分位数  概率更大\n",
    "    \n",
    "    cls_2_99fws = {i: np.percentile(valid_14['watch_label_pred_{}'.format(i)], 99) \n",
    "                   for i in range(1, 10)}   # 每个类对应的99分位数  概率更大\n",
    "    \n",
    "    cls_2_97fws = {i: np.percentile(valid_14['watch_label_pred_{}'.format(i)], 97) \n",
    "                   for i in range(1, 10)}   # 每个类对应的97分位数  概率更小\n",
    "    \n",
    "    cls_2_95fws = {i: np.percentile(valid_14['watch_label_pred_{}'.format(i)], 95) \n",
    "                   for i in range(1, 10)}   # 每个类对应的95分位数  概率更小\n",
    "    \n",
    "    cls_2_90fws = {i: np.percentile(valid_14['watch_label_pred_{}'.format(i)], 90) \n",
    "                   for i in range(1, 10)}   # 每个类对应的90分位数  概率更小\n",
    "    \n",
    "    idx2cls_prob = {}   ## 已经访问过的记录： index -> (cls, prob)\n",
    "    \n",
    "    for i, n in enumerate(class_nums):\n",
    "        probs = valid_14['watch_label_pred_{}'.format(9-i)]   # 概率，最先是第9类\n",
    "        idxes = np.argsort(-1 * probs).values\n",
    "        \n",
    "        idx = 0   # 开始遍历的索引的位置，需要赋值到答案中\n",
    "        cnt = 0   # 总共遍历得到的个数\n",
    "        while cnt < n:\n",
    "            if idxes[idx] not in idx2cls_prob:\n",
    "                y_pred_res[idxes[idx]] = 9 - i\n",
    "                cnt += 1\n",
    "                idx2cls_prob[idxes[idx]] = (9-i, probs[idxes[idx]])\n",
    "            else:\n",
    "                flag = False\n",
    "                prob = idx2cls_prob[idxes[idx]][1]\n",
    "                if cnt <= (nums * 0.002) and i <= 5 and  prob<=cls_2_998fws[idx2cls_prob[idxes[idx]][0]]:\n",
    "                    flag = True\n",
    "                elif cnt <= (nums * 0.005) and i <= 5 and  prob<=cls_2_996fws[idx2cls_prob[idxes[idx]][0]]:\n",
    "                    flag = True\n",
    "                elif cnt <= (nums * 0.01) and i <= 5 and prob <= cls_2_99fws[idx2cls_prob[idxes[idx]][0]]:\n",
    "                    flag = True\n",
    "                elif cnt <= (nums * 0.02) and i <= 5 and prob <= cls_2_97fws[idx2cls_prob[idxes[idx]][0]]:\n",
    "                    flag = True\n",
    "                elif cnt <= (nums * 0.001) and i > 5 and prob <= cls_2_97fws[idx2cls_prob[idxes[idx]][0]]:\n",
    "                    flag = True\n",
    "                elif cnt <= (nums * 0.003) and i > 5 and prob <= cls_2_95fws[idx2cls_prob[idxes[idx]][0]]:\n",
    "                    flag = True\n",
    "                elif cnt <= (nums * 0.01) and i > 5 and prob <= cls_2_90fws[idx2cls_prob[idxes[idx]][0]]:\n",
    "                    flag = True\n",
    "                if flag:\n",
    "                    y_pred_res[idxes[idx]] = 9 - i\n",
    "                    cnt += 1\n",
    "                    idx2cls_prob[idxes[idx]] = (9-i, probs[idxes[idx]])\n",
    "            idx += 1\n",
    "        print('cls:', 9-i, idx, cnt)\n",
    "    print(pd.Series(y_pred_res).value_counts())\n",
    "    return y_pred_res\n",
    "\n",
    "\n",
    "\n",
    "def calc_weighted_auc(valid_14):\n",
    "    ## 计算 watch_label的AUC\n",
    "    valid_14['watch_label_pred'] = get_deal_y_pred(valid_14)\n",
    "    watch_y_pred = onehot_encode(valid_14['watch_label_pred'].values, 10)\n",
    "    auc_list = []\n",
    "    for i in range(1, 10):\n",
    "        score = fast_auc(watch_y_true[:, i], watch_y_pred[:, i])\n",
    "        auc_list.append(score)\n",
    "    \n",
    "    y2_auc = sum(np.array(auc_list) * np.array([0.1, 0.2, 0.3, 0.4, 0.4, 0.4, 0.4, 0.4, 0.4]))\n",
    "    y1_auc = roc_auc_score(valid_14['is_share'], valid_14['is_share_pred'])\n",
    "    weighted_auc = y1_auc * 0.3 + y2_auc * 0.7\n",
    "    return weighted_auc, list(np.round([y1_auc] + auc_list, 4))"
   ]
  },
  {
   "cell_type": "code",
   "execution_count": 11,
   "metadata": {
    "scrolled": true
   },
   "outputs": [
    {
     "name": "stdout",
     "output_type": "stream",
     "text": [
      "cls: 9 677380 677380\n",
      "cls: 8 768006 290306\n",
      "cls: 7 902532 270952\n",
      "cls: 6 1043797 251599\n",
      "cls: 5 1169628 232245\n",
      "cls: 4 1366409 290306\n",
      "cls: 3 1496039 193537\n",
      "cls: 2 1593811 193537\n",
      "cls: 1 1796255 290306\n",
      "0.0    3537404\n",
      "9.0     469705\n",
      "1.0     290306\n",
      "4.0     269760\n",
      "2.0     181003\n",
      "3.0     176744\n",
      "6.0     157010\n",
      "8.0     153561\n",
      "5.0     148196\n",
      "7.0     145947\n",
      "dtype: int64\n",
      "(1.4228847768721944, [0.8657, 0.5259, 0.519, 0.5157, 0.5672, 0.5276, 0.5316, 0.5341, 0.5543, 0.6618])\n",
      "CPU times: user 46.6 s, sys: 677 ms, total: 47.3 s\n",
      "Wall time: 47.5 s\n"
     ]
    }
   ],
   "source": [
    "%%time \n",
    "print(calc_weighted_auc(valid_pred_ronghe))"
   ]
  },
  {
   "cell_type": "code",
   "execution_count": 315,
   "metadata": {},
   "outputs": [
    {
     "data": {
      "text/plain": [
       "27648.18"
      ]
     },
     "execution_count": 315,
     "metadata": {},
     "output_type": "execute_result"
    }
   ],
   "source": [
    "valid_pred_ronghe.shape[0] * 0.005"
   ]
  },
  {
   "cell_type": "code",
   "execution_count": null,
   "metadata": {},
   "outputs": [],
   "source": []
  },
  {
   "cell_type": "code",
   "execution_count": null,
   "metadata": {},
   "outputs": [],
   "source": [
    "(1.4253379689399241, [0.8657, 0.5249, 0.5169, 0.5136, 0.5625, 0.5373, 0.5373, 0.5404, 0.5549, 0.6558])\n",
    "\n",
    "(1.4249067653760719, [0.8657, 0.5239, 0.5159, 0.5111, 0.5635, 0.5373, 0.5373, 0.5404, 0.5549, 0.6558])\n",
    "\n",
    "(1.424825557077972, [0.8657, 0.5241, 0.5162, 0.5113, 0.5637, 0.5372, 0.5375, 0.5404, 0.5547, 0.6551])\n",
    "\n",
    "(1.4246763646425489, [0.8657, 0.5203, 0.5138, 0.5093, 0.564, 0.5377, 0.5378, 0.5411, 0.5551, 0.6561])\n",
    "\n",
    "(1.424578272556965, [0.8657, 0.5202, 0.5139, 0.5086, 0.564, 0.5377, 0.5378, 0.541, 0.5551, 0.6562])\n",
    "\n",
    "(1.4245673257440807, [0.8657, 0.5203, 0.514, 0.5086, 0.5623, 0.5375, 0.5382, 0.5409, 0.5557, 0.6572])\n",
    "\n",
    "(1.4244797028995602, [0.8657, 0.5203, 0.5138, 0.5093, 0.5609, 0.5375, 0.5385, 0.5408, 0.5558, 0.6576])\n",
    "\n",
    "(1.424342000493192, [0.8657, 0.5188, 0.5116, 0.5076, 0.563, 0.538, 0.5385, 0.5404, 0.5559, 0.6575])\n",
    "\n",
    "(1.4239698802085936, [0.8657, 0.5188, 0.5116, 0.5076, 0.5618, 0.5372, 0.5387, 0.54, 0.5564, 0.6578])\n",
    "\n",
    "(1.4238246200049947, [0.8657, 0.5188, 0.5116, 0.5076, 0.5595, 0.5369, 0.5395, 0.5398, 0.5566, 0.6591]\n",
    "\n",
    "(1.423768894926328, [0.8657, 0.5191, 0.5117, 0.5072, 0.5605, 0.5363, 0.54, 0.5385, 0.557, 0.6591])\n",
    "\n",
    "(1.4234753063001597, [0.8657, 0.519, 0.5115, 0.5071, 0.5567, 0.537, 0.5388, 0.5382, 0.5574, 0.6625])"
   ]
  },
  {
   "cell_type": "code",
   "execution_count": null,
   "metadata": {},
   "outputs": [],
   "source": [
    "(1.4071755274530888, [0.865, 0.5108, 0.5051, 0.5052, 0.513, 0.517, 0.5247, 0.5371, 0.5608, 0.6871])\n",
    "[2.0, 1.0, 1.0, 1.0, 1.0, 2.0, 1.0, 1.0, 1.6]"
   ]
  },
  {
   "cell_type": "code",
   "execution_count": 200,
   "metadata": {},
   "outputs": [
    {
     "data": {
      "text/plain": [
       "(5529636, 15)"
      ]
     },
     "execution_count": 200,
     "metadata": {},
     "output_type": "execute_result"
    }
   ],
   "source": [
    "valid_pred_lgb.shape"
   ]
  },
  {
   "cell_type": "code",
   "execution_count": 136,
   "metadata": {},
   "outputs": [
    {
     "data": {
      "text/plain": [
       "0.8653532609744193"
      ]
     },
     "execution_count": 136,
     "metadata": {},
     "output_type": "execute_result"
    }
   ],
   "source": [
    "roc_auc_score(valid_pred_lgb['is_share'], \n",
    "              valid_pred_lgb['is_share_pred'] * 0.9 + valid_pred_nn['is_share_pred'] * 0.1)"
   ]
  },
  {
   "cell_type": "code",
   "execution_count": 6,
   "metadata": {},
   "outputs": [],
   "source": []
  },
  {
   "cell_type": "code",
   "execution_count": 252,
   "metadata": {},
   "outputs": [
    {
     "data": {
      "text/plain": [
       "array([2465512, 4178718, 1170852, ...,  404309, 5087299, 3995671])"
      ]
     },
     "execution_count": 252,
     "metadata": {},
     "output_type": "execute_result"
    }
   ],
   "source": [
    "tmp = np.argsort(-1 * valid_pred_ronghe['watch_label_pred_8']).values\n",
    "tmp"
   ]
  },
  {
   "cell_type": "code",
   "execution_count": 258,
   "metadata": {},
   "outputs": [
    {
     "data": {
      "text/plain": [
       "0.061238400665924175"
      ]
     },
     "execution_count": 258,
     "metadata": {},
     "output_type": "execute_result"
    }
   ],
   "source": [
    "valid_pred_lgb['watch_label_pred_9'][tmp[int(tmp.shape[0] * 0.005)]]"
   ]
  },
  {
   "cell_type": "code",
   "execution_count": null,
   "metadata": {},
   "outputs": [],
   "source": []
  },
  {
   "cell_type": "code",
   "execution_count": null,
   "metadata": {},
   "outputs": [],
   "source": [
    "auc = 1.4042242245680665\n",
    "auc list = [0.8627, 0.5115, 0.5052, 0.5047, 0.5117, 0.517, 0.5249, 0.5355, 0.5595, 0.683]\n",
    "watch_rate = np.array([int(ds * 0.03)] * 9) \n",
    "watch_rate = watch_rate * np.array([2.0, 1.0, 1.0, 1.0, 1.0, 2.0, 1.0, 1.0, 1.0])"
   ]
  },
  {
   "cell_type": "code",
   "execution_count": null,
   "metadata": {},
   "outputs": [],
   "source": []
  },
  {
   "cell_type": "code",
   "execution_count": null,
   "metadata": {},
   "outputs": [],
   "source": []
  },
  {
   "cell_type": "code",
   "execution_count": 267,
   "metadata": {},
   "outputs": [
    {
     "data": {
      "text/html": [
       "<div>\n",
       "<style scoped>\n",
       "    .dataframe tbody tr th:only-of-type {\n",
       "        vertical-align: middle;\n",
       "    }\n",
       "\n",
       "    .dataframe tbody tr th {\n",
       "        vertical-align: top;\n",
       "    }\n",
       "\n",
       "    .dataframe thead th {\n",
       "        text-align: right;\n",
       "    }\n",
       "</style>\n",
       "<table border=\"1\" class=\"dataframe\">\n",
       "  <thead>\n",
       "    <tr style=\"text-align: right;\">\n",
       "      <th></th>\n",
       "      <th>user_id</th>\n",
       "      <th>video_id</th>\n",
       "      <th>watch_label</th>\n",
       "      <th>is_share</th>\n",
       "    </tr>\n",
       "  </thead>\n",
       "  <tbody>\n",
       "    <tr>\n",
       "      <th>0</th>\n",
       "      <td>1688013</td>\n",
       "      <td>32645</td>\n",
       "      <td>0</td>\n",
       "      <td>0.000448</td>\n",
       "    </tr>\n",
       "    <tr>\n",
       "      <th>1</th>\n",
       "      <td>4502598</td>\n",
       "      <td>41270</td>\n",
       "      <td>0</td>\n",
       "      <td>0.005435</td>\n",
       "    </tr>\n",
       "    <tr>\n",
       "      <th>2</th>\n",
       "      <td>5585629</td>\n",
       "      <td>16345</td>\n",
       "      <td>4</td>\n",
       "      <td>0.000089</td>\n",
       "    </tr>\n",
       "    <tr>\n",
       "      <th>3</th>\n",
       "      <td>1635520</td>\n",
       "      <td>28149</td>\n",
       "      <td>2</td>\n",
       "      <td>0.000824</td>\n",
       "    </tr>\n",
       "    <tr>\n",
       "      <th>4</th>\n",
       "      <td>4160191</td>\n",
       "      <td>40554</td>\n",
       "      <td>0</td>\n",
       "      <td>0.000216</td>\n",
       "    </tr>\n",
       "    <tr>\n",
       "      <th>...</th>\n",
       "      <td>...</td>\n",
       "      <td>...</td>\n",
       "      <td>...</td>\n",
       "      <td>...</td>\n",
       "    </tr>\n",
       "    <tr>\n",
       "      <th>2822175</th>\n",
       "      <td>5019057</td>\n",
       "      <td>18766</td>\n",
       "      <td>0</td>\n",
       "      <td>0.000534</td>\n",
       "    </tr>\n",
       "    <tr>\n",
       "      <th>2822176</th>\n",
       "      <td>5019057</td>\n",
       "      <td>12968</td>\n",
       "      <td>0</td>\n",
       "      <td>0.001657</td>\n",
       "    </tr>\n",
       "    <tr>\n",
       "      <th>2822177</th>\n",
       "      <td>4255762</td>\n",
       "      <td>21794</td>\n",
       "      <td>6</td>\n",
       "      <td>0.000274</td>\n",
       "    </tr>\n",
       "    <tr>\n",
       "      <th>2822178</th>\n",
       "      <td>171497</td>\n",
       "      <td>21578</td>\n",
       "      <td>0</td>\n",
       "      <td>0.000096</td>\n",
       "    </tr>\n",
       "    <tr>\n",
       "      <th>2822179</th>\n",
       "      <td>5642580</td>\n",
       "      <td>28914</td>\n",
       "      <td>0</td>\n",
       "      <td>0.000241</td>\n",
       "    </tr>\n",
       "  </tbody>\n",
       "</table>\n",
       "<p>2822180 rows × 4 columns</p>\n",
       "</div>"
      ],
      "text/plain": [
       "         user_id  video_id  watch_label  is_share\n",
       "0        1688013     32645            0  0.000448\n",
       "1        4502598     41270            0  0.005435\n",
       "2        5585629     16345            4  0.000089\n",
       "3        1635520     28149            2  0.000824\n",
       "4        4160191     40554            0  0.000216\n",
       "...          ...       ...          ...       ...\n",
       "2822175  5019057     18766            0  0.000534\n",
       "2822176  5019057     12968            0  0.001657\n",
       "2822177  4255762     21794            6  0.000274\n",
       "2822178   171497     21578            0  0.000096\n",
       "2822179  5642580     28914            0  0.000241\n",
       "\n",
       "[2822180 rows x 4 columns]"
      ]
     },
     "execution_count": 267,
     "metadata": {},
     "output_type": "execute_result"
    }
   ],
   "source": [
    "submit_final"
   ]
  },
  {
   "cell_type": "code",
   "execution_count": 264,
   "metadata": {},
   "outputs": [
    {
     "data": {
      "text/html": [
       "<div>\n",
       "<style scoped>\n",
       "    .dataframe tbody tr th:only-of-type {\n",
       "        vertical-align: middle;\n",
       "    }\n",
       "\n",
       "    .dataframe tbody tr th {\n",
       "        vertical-align: top;\n",
       "    }\n",
       "\n",
       "    .dataframe thead th {\n",
       "        text-align: right;\n",
       "    }\n",
       "</style>\n",
       "<table border=\"1\" class=\"dataframe\">\n",
       "  <thead>\n",
       "    <tr style=\"text-align: right;\">\n",
       "      <th></th>\n",
       "      <th>userid</th>\n",
       "      <th>feedid</th>\n",
       "      <th>is_share_pred</th>\n",
       "      <th>watch_label_pred_1</th>\n",
       "      <th>watch_label_pred_2</th>\n",
       "      <th>watch_label_pred_3</th>\n",
       "      <th>watch_label_pred_4</th>\n",
       "      <th>watch_label_pred_5</th>\n",
       "      <th>watch_label_pred_6</th>\n",
       "      <th>watch_label_pred_7</th>\n",
       "      <th>watch_label_pred_8</th>\n",
       "      <th>watch_label_pred_9</th>\n",
       "      <th>watch_label</th>\n",
       "    </tr>\n",
       "  </thead>\n",
       "  <tbody>\n",
       "    <tr>\n",
       "      <th>0</th>\n",
       "      <td>1688013</td>\n",
       "      <td>32645</td>\n",
       "      <td>0.000447</td>\n",
       "      <td>0.033794</td>\n",
       "      <td>0.025580</td>\n",
       "      <td>0.016646</td>\n",
       "      <td>0.012379</td>\n",
       "      <td>0.016207</td>\n",
       "      <td>0.008363</td>\n",
       "      <td>0.016327</td>\n",
       "      <td>0.005603</td>\n",
       "      <td>0.011711</td>\n",
       "      <td>0.0</td>\n",
       "    </tr>\n",
       "    <tr>\n",
       "      <th>1</th>\n",
       "      <td>4502598</td>\n",
       "      <td>41270</td>\n",
       "      <td>0.005559</td>\n",
       "      <td>0.015746</td>\n",
       "      <td>0.011756</td>\n",
       "      <td>0.009328</td>\n",
       "      <td>0.005713</td>\n",
       "      <td>0.003914</td>\n",
       "      <td>0.004203</td>\n",
       "      <td>0.002426</td>\n",
       "      <td>0.004887</td>\n",
       "      <td>0.013072</td>\n",
       "      <td>0.0</td>\n",
       "    </tr>\n",
       "    <tr>\n",
       "      <th>2</th>\n",
       "      <td>5585629</td>\n",
       "      <td>16345</td>\n",
       "      <td>0.000098</td>\n",
       "      <td>0.035145</td>\n",
       "      <td>0.036693</td>\n",
       "      <td>0.032595</td>\n",
       "      <td>0.027493</td>\n",
       "      <td>0.020886</td>\n",
       "      <td>0.015152</td>\n",
       "      <td>0.015899</td>\n",
       "      <td>0.014769</td>\n",
       "      <td>0.050129</td>\n",
       "      <td>5.0</td>\n",
       "    </tr>\n",
       "    <tr>\n",
       "      <th>3</th>\n",
       "      <td>1635520</td>\n",
       "      <td>28149</td>\n",
       "      <td>0.000553</td>\n",
       "      <td>0.107687</td>\n",
       "      <td>0.042827</td>\n",
       "      <td>0.025364</td>\n",
       "      <td>0.010008</td>\n",
       "      <td>0.007457</td>\n",
       "      <td>0.005436</td>\n",
       "      <td>0.005902</td>\n",
       "      <td>0.004992</td>\n",
       "      <td>0.004729</td>\n",
       "      <td>3.0</td>\n",
       "    </tr>\n",
       "    <tr>\n",
       "      <th>4</th>\n",
       "      <td>4160191</td>\n",
       "      <td>40554</td>\n",
       "      <td>0.000259</td>\n",
       "      <td>0.008871</td>\n",
       "      <td>0.008151</td>\n",
       "      <td>0.003503</td>\n",
       "      <td>0.005704</td>\n",
       "      <td>0.003078</td>\n",
       "      <td>0.002982</td>\n",
       "      <td>0.001485</td>\n",
       "      <td>0.001810</td>\n",
       "      <td>0.006197</td>\n",
       "      <td>0.0</td>\n",
       "    </tr>\n",
       "    <tr>\n",
       "      <th>...</th>\n",
       "      <td>...</td>\n",
       "      <td>...</td>\n",
       "      <td>...</td>\n",
       "      <td>...</td>\n",
       "      <td>...</td>\n",
       "      <td>...</td>\n",
       "      <td>...</td>\n",
       "      <td>...</td>\n",
       "      <td>...</td>\n",
       "      <td>...</td>\n",
       "      <td>...</td>\n",
       "      <td>...</td>\n",
       "      <td>...</td>\n",
       "    </tr>\n",
       "    <tr>\n",
       "      <th>2822175</th>\n",
       "      <td>5019057</td>\n",
       "      <td>18766</td>\n",
       "      <td>0.000677</td>\n",
       "      <td>0.021451</td>\n",
       "      <td>0.007275</td>\n",
       "      <td>0.003553</td>\n",
       "      <td>0.003701</td>\n",
       "      <td>0.002729</td>\n",
       "      <td>0.002421</td>\n",
       "      <td>0.002137</td>\n",
       "      <td>0.002051</td>\n",
       "      <td>0.006627</td>\n",
       "      <td>0.0</td>\n",
       "    </tr>\n",
       "    <tr>\n",
       "      <th>2822176</th>\n",
       "      <td>5019057</td>\n",
       "      <td>12968</td>\n",
       "      <td>0.001717</td>\n",
       "      <td>0.027354</td>\n",
       "      <td>0.010249</td>\n",
       "      <td>0.006614</td>\n",
       "      <td>0.003875</td>\n",
       "      <td>0.003941</td>\n",
       "      <td>0.003396</td>\n",
       "      <td>0.002627</td>\n",
       "      <td>0.002448</td>\n",
       "      <td>0.009732</td>\n",
       "      <td>0.0</td>\n",
       "    </tr>\n",
       "    <tr>\n",
       "      <th>2822177</th>\n",
       "      <td>4255762</td>\n",
       "      <td>21794</td>\n",
       "      <td>0.000264</td>\n",
       "      <td>0.053778</td>\n",
       "      <td>0.055915</td>\n",
       "      <td>0.061187</td>\n",
       "      <td>0.057394</td>\n",
       "      <td>0.024828</td>\n",
       "      <td>0.024003</td>\n",
       "      <td>0.017203</td>\n",
       "      <td>0.018602</td>\n",
       "      <td>0.040693</td>\n",
       "      <td>4.0</td>\n",
       "    </tr>\n",
       "    <tr>\n",
       "      <th>2822178</th>\n",
       "      <td>171497</td>\n",
       "      <td>21578</td>\n",
       "      <td>0.000089</td>\n",
       "      <td>0.016492</td>\n",
       "      <td>0.008509</td>\n",
       "      <td>0.007108</td>\n",
       "      <td>0.005001</td>\n",
       "      <td>0.004602</td>\n",
       "      <td>0.003731</td>\n",
       "      <td>0.003642</td>\n",
       "      <td>0.004073</td>\n",
       "      <td>0.013245</td>\n",
       "      <td>0.0</td>\n",
       "    </tr>\n",
       "    <tr>\n",
       "      <th>2822179</th>\n",
       "      <td>5642580</td>\n",
       "      <td>28914</td>\n",
       "      <td>0.000214</td>\n",
       "      <td>0.031910</td>\n",
       "      <td>0.019780</td>\n",
       "      <td>0.013497</td>\n",
       "      <td>0.009873</td>\n",
       "      <td>0.009350</td>\n",
       "      <td>0.012925</td>\n",
       "      <td>0.008306</td>\n",
       "      <td>0.010605</td>\n",
       "      <td>0.023703</td>\n",
       "      <td>0.0</td>\n",
       "    </tr>\n",
       "  </tbody>\n",
       "</table>\n",
       "<p>2822180 rows × 13 columns</p>\n",
       "</div>"
      ],
      "text/plain": [
       "          userid  feedid  is_share_pred  watch_label_pred_1  \\\n",
       "0        1688013   32645       0.000447            0.033794   \n",
       "1        4502598   41270       0.005559            0.015746   \n",
       "2        5585629   16345       0.000098            0.035145   \n",
       "3        1635520   28149       0.000553            0.107687   \n",
       "4        4160191   40554       0.000259            0.008871   \n",
       "...          ...     ...            ...                 ...   \n",
       "2822175  5019057   18766       0.000677            0.021451   \n",
       "2822176  5019057   12968       0.001717            0.027354   \n",
       "2822177  4255762   21794       0.000264            0.053778   \n",
       "2822178   171497   21578       0.000089            0.016492   \n",
       "2822179  5642580   28914       0.000214            0.031910   \n",
       "\n",
       "         watch_label_pred_2  watch_label_pred_3  watch_label_pred_4  \\\n",
       "0                  0.025580            0.016646            0.012379   \n",
       "1                  0.011756            0.009328            0.005713   \n",
       "2                  0.036693            0.032595            0.027493   \n",
       "3                  0.042827            0.025364            0.010008   \n",
       "4                  0.008151            0.003503            0.005704   \n",
       "...                     ...                 ...                 ...   \n",
       "2822175            0.007275            0.003553            0.003701   \n",
       "2822176            0.010249            0.006614            0.003875   \n",
       "2822177            0.055915            0.061187            0.057394   \n",
       "2822178            0.008509            0.007108            0.005001   \n",
       "2822179            0.019780            0.013497            0.009873   \n",
       "\n",
       "         watch_label_pred_5  watch_label_pred_6  watch_label_pred_7  \\\n",
       "0                  0.016207            0.008363            0.016327   \n",
       "1                  0.003914            0.004203            0.002426   \n",
       "2                  0.020886            0.015152            0.015899   \n",
       "3                  0.007457            0.005436            0.005902   \n",
       "4                  0.003078            0.002982            0.001485   \n",
       "...                     ...                 ...                 ...   \n",
       "2822175            0.002729            0.002421            0.002137   \n",
       "2822176            0.003941            0.003396            0.002627   \n",
       "2822177            0.024828            0.024003            0.017203   \n",
       "2822178            0.004602            0.003731            0.003642   \n",
       "2822179            0.009350            0.012925            0.008306   \n",
       "\n",
       "         watch_label_pred_8  watch_label_pred_9  watch_label  \n",
       "0                  0.005603            0.011711          0.0  \n",
       "1                  0.004887            0.013072          0.0  \n",
       "2                  0.014769            0.050129          5.0  \n",
       "3                  0.004992            0.004729          3.0  \n",
       "4                  0.001810            0.006197          0.0  \n",
       "...                     ...                 ...          ...  \n",
       "2822175            0.002051            0.006627          0.0  \n",
       "2822176            0.002448            0.009732          0.0  \n",
       "2822177            0.018602            0.040693          4.0  \n",
       "2822178            0.004073            0.013245          0.0  \n",
       "2822179            0.010605            0.023703          0.0  \n",
       "\n",
       "[2822180 rows x 13 columns]"
      ]
     },
     "execution_count": 264,
     "metadata": {},
     "output_type": "execute_result"
    }
   ],
   "source": [
    "test_pred_ronghe"
   ]
  },
  {
   "cell_type": "code",
   "execution_count": 389,
   "metadata": {},
   "outputs": [
    {
     "name": "stdout",
     "output_type": "stream",
     "text": [
      "cls: 9 345716 345716\n",
      "cls: 8 307461 138287\n",
      "cls: 7 357938 128409\n",
      "cls: 6 413028 118532\n",
      "cls: 5 450594 108654\n",
      "cls: 4 586456 148164\n",
      "cls: 3 675269 98776\n",
      "cls: 2 738194 98776\n",
      "cls: 1 842284 148164\n",
      "0.0    1768365\n",
      "9.0     241389\n",
      "1.0     148164\n",
      "4.0     139494\n",
      "2.0      95849\n",
      "3.0      94596\n",
      "5.0      85235\n",
      "6.0      85127\n",
      "8.0      83663\n",
      "7.0      80298\n",
      "dtype: int64\n"
     ]
    }
   ],
   "source": [
    "test_pred_ronghe['watch_label'] = get_deal_y_pred(test_pred_ronghe)\n",
    "submit_final = test_pred_ronghe[['userid', 'feedid', 'watch_label', 'is_share_pred']]\n",
    "submit_final.columns = ['user_id', 'video_id', 'watch_label', 'is_share']\n",
    "submit_final['is_share'] = np.round(submit_final['is_share'], 8)\n",
    "submit_final['watch_label'] = submit_final['watch_label'].astype(int)\n",
    "\n",
    "submit_final.to_csv(\"submission.csv\", index=None)"
   ]
  },
  {
   "cell_type": "code",
   "execution_count": 61,
   "metadata": {},
   "outputs": [],
   "source": [
    "valid_pred_lgb.to_feather(\"../data/submit/valid_pred_lgb.feather\")\n",
    "test_pred_lgb.to_feather(\"../data/submit/test_pred_lgb.feather\")"
   ]
  },
  {
   "cell_type": "markdown",
   "metadata": {},
   "source": [
    "## 验证每个类的AUC"
   ]
  },
  {
   "cell_type": "code",
   "execution_count": 57,
   "metadata": {},
   "outputs": [
    {
     "name": "stdout",
     "output_type": "stream",
     "text": [
      "cls: 9 331778 331778\n",
      "cls: 8 471105 165889\n",
      "cls: 7 631372 165889\n",
      "cls: 6 799774 165889\n",
      "cls: 5 973767 165889\n",
      "cls: 4 1317714 331778\n",
      "cls: 3 1483450 165889\n",
      "cls: 2 1638730 165889\n",
      "cls: 1 1713458 165889\n",
      "(1.389676254563362, [0.8463, 0.5038, 0.502, 0.5014, 0.5109, 0.5112, 0.5168, 0.5315, 0.5573, 0.6756])\n"
     ]
    }
   ],
   "source": [
    "valid_pred_nn = pd.read_feather(\"../data/submit/valid_pred_nn.feather\")\n",
    "print(calc_weighted_auc(valid_pred_nn))"
   ]
  },
  {
   "cell_type": "code",
   "execution_count": 58,
   "metadata": {
    "scrolled": true
   },
   "outputs": [
    {
     "name": "stdout",
     "output_type": "stream",
     "text": [
      "1 0.8204684312658791\n",
      "2 0.8312688231428056\n",
      "3 0.8358106167371372\n",
      "4 0.8388184166027295\n",
      "5 0.8398017460547668\n",
      "6 0.840805452552308\n",
      "7 0.8412869127286081\n",
      "8 0.8474089199720032\n",
      "9 0.854785566250586\n"
     ]
    }
   ],
   "source": [
    "for i in range(1, 10):\n",
    "    print(i, fast_auc(watch_y_true[:, i], valid_pred_lgb['watch_label_pred_{}'.format(i)]))"
   ]
  },
  {
   "cell_type": "code",
   "execution_count": 59,
   "metadata": {},
   "outputs": [
    {
     "name": "stdout",
     "output_type": "stream",
     "text": [
      "1 0.8176254325139984\n",
      "2 0.8315665826518253\n",
      "3 0.8365536768507117\n",
      "4 0.8392822962601287\n",
      "5 0.8414716028055667\n",
      "6 0.8407906219314308\n",
      "7 0.8428801426873801\n",
      "8 0.8461030032704183\n",
      "9 0.8516852426035216\n"
     ]
    }
   ],
   "source": [
    "for i in range(1, 10):\n",
    "    print(i, fast_auc(watch_y_true[:, i], valid_pred_nn['watch_label_pred_{}'.format(i)]))"
   ]
  },
  {
   "cell_type": "code",
   "execution_count": 61,
   "metadata": {},
   "outputs": [
    {
     "name": "stdout",
     "output_type": "stream",
     "text": [
      "[0.8232599399817404, 0.835214017588494, 0.8402376088336702, 0.8431899522427675, 0.8446730511752154, 0.8453345267917939, 0.8462283796749352, 0.8519437201502028, 0.8581133390859573]\n",
      "0.8457444226047744\n"
     ]
    }
   ],
   "source": [
    "auc_list = []\n",
    "for i in range(1, 10):\n",
    "    nn_pred = valid_pred_nn['watch_label_pred_{}'.format(i)]\n",
    "    lgb_pred = valid_pred_lgb['watch_label_pred_{}'.format(i)]\n",
    "    score = fast_auc(watch_y_true[:, i], nn_pred * 0.4 + lgb_pred * 0.6)\n",
    "    auc_list.append(score)\n",
    "print(auc_list)\n",
    "print(sum(np.array(auc_list) * np.array([0.1, 0.2, 0.3, 0.4, 0.4, 0.4, 0.4, 0.4, 0.4])) / 3.0)\n",
    "\n",
    "# 0.8403756136922859\n",
    "# 0.8413960074774893"
   ]
  },
  {
   "cell_type": "code",
   "execution_count": 36,
   "metadata": {},
   "outputs": [
    {
     "data": {
      "text/plain": [
       "0.8159854919965331"
      ]
     },
     "execution_count": 36,
     "metadata": {},
     "output_type": "execute_result"
    }
   ],
   "source": [
    "auc_list = [0.7923662967956898,0.807365790512706,0.8124565195308958, \n",
    "            0.8149153442850553,0.8158433717305262, 0.8150350317200666,\n",
    "            0.8164819177881378, 0.8203396688181431, 0.8261589965286208]\n",
    "wauc = sum(np.array(auc_list) * np.array([0.1, 0.2, 0.3, 0.4, 0.4, 0.4, 0.4, 0.4, 0.4]))\n",
    "wauc / 3.0"
   ]
  },
  {
   "cell_type": "code",
   "execution_count": 37,
   "metadata": {},
   "outputs": [
    {
     "data": {
      "text/plain": [
       "0.8350390456206211"
      ]
     },
     "execution_count": 37,
     "metadata": {},
     "output_type": "execute_result"
    }
   ],
   "source": [
    "auc_list = [0.8161075033448782,\n",
    " 0.825195625654561,\n",
    "0.8287671623155689,\n",
    " 0.830859231649306,\n",
    " 0.832416803626909,\n",
    " 0.834209622234266,\n",
    " 0.8340127054655736,\n",
    " 0.8413445439089122,\n",
    " 0.851749874869514]\n",
    "wauc = sum(np.array(auc_list) * np.array([0.1, 0.2, 0.3, 0.4, 0.4, 0.4, 0.4, 0.4, 0.4]))\n",
    "wauc / 3.0"
   ]
  },
  {
   "cell_type": "code",
   "execution_count": null,
   "metadata": {},
   "outputs": [],
   "source": []
  },
  {
   "cell_type": "code",
   "execution_count": null,
   "metadata": {},
   "outputs": [],
   "source": []
  },
  {
   "cell_type": "code",
   "execution_count": 45,
   "metadata": {},
   "outputs": [
    {
     "data": {
      "text/html": [
       "<div>\n",
       "<style scoped>\n",
       "    .dataframe tbody tr th:only-of-type {\n",
       "        vertical-align: middle;\n",
       "    }\n",
       "\n",
       "    .dataframe tbody tr th {\n",
       "        vertical-align: top;\n",
       "    }\n",
       "\n",
       "    .dataframe thead th {\n",
       "        text-align: right;\n",
       "    }\n",
       "</style>\n",
       "<table border=\"1\" class=\"dataframe\">\n",
       "  <thead>\n",
       "    <tr style=\"text-align: right;\">\n",
       "      <th></th>\n",
       "      <th>userid</th>\n",
       "      <th>feedid</th>\n",
       "      <th>is_share</th>\n",
       "      <th>watch_label</th>\n",
       "      <th>is_share_pred</th>\n",
       "      <th>watch_label_pred_1</th>\n",
       "      <th>watch_label_pred_2</th>\n",
       "      <th>watch_label_pred_3</th>\n",
       "      <th>watch_label_pred_4</th>\n",
       "      <th>watch_label_pred_5</th>\n",
       "      <th>watch_label_pred_6</th>\n",
       "      <th>watch_label_pred_7</th>\n",
       "      <th>watch_label_pred_8</th>\n",
       "      <th>watch_label_pred_9</th>\n",
       "      <th>watch_label_pred</th>\n",
       "    </tr>\n",
       "  </thead>\n",
       "  <tbody>\n",
       "    <tr>\n",
       "      <th>0</th>\n",
       "      <td>4866878</td>\n",
       "      <td>1759</td>\n",
       "      <td>0.0</td>\n",
       "      <td>0.0</td>\n",
       "      <td>0.000418</td>\n",
       "      <td>0.012677</td>\n",
       "      <td>0.002941</td>\n",
       "      <td>0.001699</td>\n",
       "      <td>0.001354</td>\n",
       "      <td>0.001237</td>\n",
       "      <td>0.001015</td>\n",
       "      <td>0.000950</td>\n",
       "      <td>0.001164</td>\n",
       "      <td>0.002783</td>\n",
       "      <td>0.0</td>\n",
       "    </tr>\n",
       "    <tr>\n",
       "      <th>1</th>\n",
       "      <td>4866878</td>\n",
       "      <td>25144</td>\n",
       "      <td>0.0</td>\n",
       "      <td>0.0</td>\n",
       "      <td>0.000911</td>\n",
       "      <td>0.029733</td>\n",
       "      <td>0.008756</td>\n",
       "      <td>0.006393</td>\n",
       "      <td>0.005491</td>\n",
       "      <td>0.003290</td>\n",
       "      <td>0.002214</td>\n",
       "      <td>0.002567</td>\n",
       "      <td>0.002842</td>\n",
       "      <td>0.004891</td>\n",
       "      <td>0.0</td>\n",
       "    </tr>\n",
       "    <tr>\n",
       "      <th>2</th>\n",
       "      <td>4866878</td>\n",
       "      <td>6693</td>\n",
       "      <td>0.0</td>\n",
       "      <td>0.0</td>\n",
       "      <td>0.001121</td>\n",
       "      <td>0.005774</td>\n",
       "      <td>0.001828</td>\n",
       "      <td>0.001286</td>\n",
       "      <td>0.001226</td>\n",
       "      <td>0.000919</td>\n",
       "      <td>0.000826</td>\n",
       "      <td>0.000863</td>\n",
       "      <td>0.000981</td>\n",
       "      <td>0.001596</td>\n",
       "      <td>0.0</td>\n",
       "    </tr>\n",
       "    <tr>\n",
       "      <th>3</th>\n",
       "      <td>951097</td>\n",
       "      <td>12968</td>\n",
       "      <td>0.0</td>\n",
       "      <td>0.0</td>\n",
       "      <td>0.003867</td>\n",
       "      <td>0.025786</td>\n",
       "      <td>0.018319</td>\n",
       "      <td>0.013750</td>\n",
       "      <td>0.009624</td>\n",
       "      <td>0.007628</td>\n",
       "      <td>0.007235</td>\n",
       "      <td>0.006858</td>\n",
       "      <td>0.007319</td>\n",
       "      <td>0.037426</td>\n",
       "      <td>0.0</td>\n",
       "    </tr>\n",
       "    <tr>\n",
       "      <th>4</th>\n",
       "      <td>951097</td>\n",
       "      <td>3636</td>\n",
       "      <td>0.0</td>\n",
       "      <td>0.0</td>\n",
       "      <td>0.006019</td>\n",
       "      <td>0.010155</td>\n",
       "      <td>0.002680</td>\n",
       "      <td>0.001626</td>\n",
       "      <td>0.001112</td>\n",
       "      <td>0.000905</td>\n",
       "      <td>0.000905</td>\n",
       "      <td>0.000656</td>\n",
       "      <td>0.000991</td>\n",
       "      <td>0.002908</td>\n",
       "      <td>0.0</td>\n",
       "    </tr>\n",
       "    <tr>\n",
       "      <th>...</th>\n",
       "      <td>...</td>\n",
       "      <td>...</td>\n",
       "      <td>...</td>\n",
       "      <td>...</td>\n",
       "      <td>...</td>\n",
       "      <td>...</td>\n",
       "      <td>...</td>\n",
       "      <td>...</td>\n",
       "      <td>...</td>\n",
       "      <td>...</td>\n",
       "      <td>...</td>\n",
       "      <td>...</td>\n",
       "      <td>...</td>\n",
       "      <td>...</td>\n",
       "      <td>...</td>\n",
       "    </tr>\n",
       "    <tr>\n",
       "      <th>5529631</th>\n",
       "      <td>3824966</td>\n",
       "      <td>29998</td>\n",
       "      <td>0.0</td>\n",
       "      <td>0.0</td>\n",
       "      <td>0.000299</td>\n",
       "      <td>0.055854</td>\n",
       "      <td>0.037241</td>\n",
       "      <td>0.028434</td>\n",
       "      <td>0.022137</td>\n",
       "      <td>0.020169</td>\n",
       "      <td>0.017898</td>\n",
       "      <td>0.015856</td>\n",
       "      <td>0.024097</td>\n",
       "      <td>0.032193</td>\n",
       "      <td>6.0</td>\n",
       "    </tr>\n",
       "    <tr>\n",
       "      <th>5529632</th>\n",
       "      <td>3824966</td>\n",
       "      <td>26273</td>\n",
       "      <td>0.0</td>\n",
       "      <td>0.0</td>\n",
       "      <td>0.000109</td>\n",
       "      <td>0.020432</td>\n",
       "      <td>0.014438</td>\n",
       "      <td>0.010923</td>\n",
       "      <td>0.007143</td>\n",
       "      <td>0.007135</td>\n",
       "      <td>0.004888</td>\n",
       "      <td>0.004258</td>\n",
       "      <td>0.005956</td>\n",
       "      <td>0.011829</td>\n",
       "      <td>0.0</td>\n",
       "    </tr>\n",
       "    <tr>\n",
       "      <th>5529633</th>\n",
       "      <td>1687377</td>\n",
       "      <td>17585</td>\n",
       "      <td>0.0</td>\n",
       "      <td>0.0</td>\n",
       "      <td>0.037426</td>\n",
       "      <td>0.030489</td>\n",
       "      <td>0.009203</td>\n",
       "      <td>0.005521</td>\n",
       "      <td>0.003650</td>\n",
       "      <td>0.003132</td>\n",
       "      <td>0.002562</td>\n",
       "      <td>0.002213</td>\n",
       "      <td>0.002848</td>\n",
       "      <td>0.009592</td>\n",
       "      <td>0.0</td>\n",
       "    </tr>\n",
       "    <tr>\n",
       "      <th>5529634</th>\n",
       "      <td>1286468</td>\n",
       "      <td>41270</td>\n",
       "      <td>0.0</td>\n",
       "      <td>0.0</td>\n",
       "      <td>0.005920</td>\n",
       "      <td>0.032904</td>\n",
       "      <td>0.021192</td>\n",
       "      <td>0.014144</td>\n",
       "      <td>0.009696</td>\n",
       "      <td>0.008966</td>\n",
       "      <td>0.007898</td>\n",
       "      <td>0.007117</td>\n",
       "      <td>0.008542</td>\n",
       "      <td>0.024772</td>\n",
       "      <td>2.0</td>\n",
       "    </tr>\n",
       "    <tr>\n",
       "      <th>5529635</th>\n",
       "      <td>3814011</td>\n",
       "      <td>20262</td>\n",
       "      <td>0.0</td>\n",
       "      <td>1.0</td>\n",
       "      <td>0.001367</td>\n",
       "      <td>0.188290</td>\n",
       "      <td>0.145352</td>\n",
       "      <td>0.113069</td>\n",
       "      <td>0.067496</td>\n",
       "      <td>0.056300</td>\n",
       "      <td>0.048248</td>\n",
       "      <td>0.044300</td>\n",
       "      <td>0.031882</td>\n",
       "      <td>0.055769</td>\n",
       "      <td>8.0</td>\n",
       "    </tr>\n",
       "  </tbody>\n",
       "</table>\n",
       "<p>5529636 rows × 15 columns</p>\n",
       "</div>"
      ],
      "text/plain": [
       "          userid  feedid  is_share  watch_label  is_share_pred  \\\n",
       "0        4866878    1759       0.0          0.0       0.000418   \n",
       "1        4866878   25144       0.0          0.0       0.000911   \n",
       "2        4866878    6693       0.0          0.0       0.001121   \n",
       "3         951097   12968       0.0          0.0       0.003867   \n",
       "4         951097    3636       0.0          0.0       0.006019   \n",
       "...          ...     ...       ...          ...            ...   \n",
       "5529631  3824966   29998       0.0          0.0       0.000299   \n",
       "5529632  3824966   26273       0.0          0.0       0.000109   \n",
       "5529633  1687377   17585       0.0          0.0       0.037426   \n",
       "5529634  1286468   41270       0.0          0.0       0.005920   \n",
       "5529635  3814011   20262       0.0          1.0       0.001367   \n",
       "\n",
       "         watch_label_pred_1  watch_label_pred_2  watch_label_pred_3  \\\n",
       "0                  0.012677            0.002941            0.001699   \n",
       "1                  0.029733            0.008756            0.006393   \n",
       "2                  0.005774            0.001828            0.001286   \n",
       "3                  0.025786            0.018319            0.013750   \n",
       "4                  0.010155            0.002680            0.001626   \n",
       "...                     ...                 ...                 ...   \n",
       "5529631            0.055854            0.037241            0.028434   \n",
       "5529632            0.020432            0.014438            0.010923   \n",
       "5529633            0.030489            0.009203            0.005521   \n",
       "5529634            0.032904            0.021192            0.014144   \n",
       "5529635            0.188290            0.145352            0.113069   \n",
       "\n",
       "         watch_label_pred_4  watch_label_pred_5  watch_label_pred_6  \\\n",
       "0                  0.001354            0.001237            0.001015   \n",
       "1                  0.005491            0.003290            0.002214   \n",
       "2                  0.001226            0.000919            0.000826   \n",
       "3                  0.009624            0.007628            0.007235   \n",
       "4                  0.001112            0.000905            0.000905   \n",
       "...                     ...                 ...                 ...   \n",
       "5529631            0.022137            0.020169            0.017898   \n",
       "5529632            0.007143            0.007135            0.004888   \n",
       "5529633            0.003650            0.003132            0.002562   \n",
       "5529634            0.009696            0.008966            0.007898   \n",
       "5529635            0.067496            0.056300            0.048248   \n",
       "\n",
       "         watch_label_pred_7  watch_label_pred_8  watch_label_pred_9  \\\n",
       "0                  0.000950            0.001164            0.002783   \n",
       "1                  0.002567            0.002842            0.004891   \n",
       "2                  0.000863            0.000981            0.001596   \n",
       "3                  0.006858            0.007319            0.037426   \n",
       "4                  0.000656            0.000991            0.002908   \n",
       "...                     ...                 ...                 ...   \n",
       "5529631            0.015856            0.024097            0.032193   \n",
       "5529632            0.004258            0.005956            0.011829   \n",
       "5529633            0.002213            0.002848            0.009592   \n",
       "5529634            0.007117            0.008542            0.024772   \n",
       "5529635            0.044300            0.031882            0.055769   \n",
       "\n",
       "         watch_label_pred  \n",
       "0                     0.0  \n",
       "1                     0.0  \n",
       "2                     0.0  \n",
       "3                     0.0  \n",
       "4                     0.0  \n",
       "...                   ...  \n",
       "5529631               6.0  \n",
       "5529632               0.0  \n",
       "5529633               0.0  \n",
       "5529634               2.0  \n",
       "5529635               8.0  \n",
       "\n",
       "[5529636 rows x 15 columns]"
      ]
     },
     "execution_count": 45,
     "metadata": {},
     "output_type": "execute_result"
    }
   ],
   "source": [
    "valid_pred_lgb"
   ]
  },
  {
   "cell_type": "code",
   "execution_count": 53,
   "metadata": {},
   "outputs": [
    {
     "data": {
      "text/plain": [
       "0.02128458209335804"
      ]
     },
     "execution_count": 53,
     "metadata": {},
     "output_type": "execute_result"
    }
   ],
   "source": [
    "valid_pred_nn['watch_label_pred_9'].mean()"
   ]
  },
  {
   "cell_type": "code",
   "execution_count": 54,
   "metadata": {},
   "outputs": [
    {
     "data": {
      "text/plain": [
       "0.022054674928990547"
      ]
     },
     "execution_count": 54,
     "metadata": {},
     "output_type": "execute_result"
    }
   ],
   "source": [
    "valid_pred_lgb['watch_label_pred_9'].mean()"
   ]
  },
  {
   "cell_type": "code",
   "execution_count": 55,
   "metadata": {},
   "outputs": [
    {
     "data": {
      "text/plain": [
       "0.04068950191140175"
      ]
     },
     "execution_count": 55,
     "metadata": {},
     "output_type": "execute_result"
    }
   ],
   "source": [
    "valid_pred_nn['watch_label_pred_9'].std()"
   ]
  },
  {
   "cell_type": "code",
   "execution_count": 56,
   "metadata": {},
   "outputs": [
    {
     "data": {
      "text/plain": [
       "0.03279500886956574"
      ]
     },
     "execution_count": 56,
     "metadata": {},
     "output_type": "execute_result"
    }
   ],
   "source": [
    "valid_pred_lgb['watch_label_pred_9'].std()"
   ]
  },
  {
   "cell_type": "code",
   "execution_count": 282,
   "metadata": {},
   "outputs": [],
   "source": [
    "\n",
    "def get_deal_y_pred(valid_14):\n",
    "    nums = valid_14.shape[0]    # 数据集大小\n",
    "    ## 每类的取值个数 [9,8,7,6,5,4,3,2,1]\n",
    "    class_nums = np.array([int(nums*0.035)]*9) * np.array([3.5, 1.4, 1.3, 1.2, 1.1, 2.0, 1.0, 1.0, 1.5])\n",
    "    ## 需要返回的结果\n",
    "    y_pred_res = np.zeros(nums)\n",
    "    \n",
    "    cls_2_996fws = {i: np.percentile(valid_14['watch_label_pred_{}'.format(i)], 99.6) \n",
    "                   for i in range(1, 10)}   # 每个类对应的99分位数  概率更大\n",
    "    \n",
    "    cls_2_99fws = {i: np.percentile(valid_14['watch_label_pred_{}'.format(i)], 99) \n",
    "                   for i in range(1, 10)}   # 每个类对应的99分位数  概率更大\n",
    "    \n",
    "    cls_2_97fws = {i: np.percentile(valid_14['watch_label_pred_{}'.format(i)], 97) \n",
    "                   for i in range(1, 10)}   # 每个类对应的97分位数  概率更小\n",
    "    \n",
    "    cls_2_90fws = {i: np.percentile(valid_14['watch_label_pred_{}'.format(i)], 95) \n",
    "                   for i in range(1, 10)}   # 每个类对应的90分位数  概率更小\n",
    "    \n",
    "    idx2cls_prob = {}   ## 已经访问过的记录： index -> (cls, prob)\n",
    "    \n",
    "    for i, n in enumerate(class_nums):\n",
    "        probs = valid_14['watch_label_pred_{}'.format(9-i)]   # 概率，最先是第9类\n",
    "        idxes = np.argsort(-1 * probs).values\n",
    "        \n",
    "        idx = 0   # 开始遍历的索引的位置，需要赋值到答案中\n",
    "        cnt = 0   # 总共遍历得到的个数\n",
    "        while cnt < n:\n",
    "            if (idxes[idx] not in idx2cls_prob) or (cnt <= (nums * 0.005) and i <= 5 and \n",
    "                                                    idx2cls_prob[idxes[idx]][1] <= cls_2_996fws[idx2cls_prob[idxes[idx]][0]]):\n",
    "                y_pred_res[idxes[idx]] = 9 - i\n",
    "                cnt += 1\n",
    "                idx2cls_prob[idxes[idx]] = (9-i, probs[idxes[idx]])\n",
    "            elif (idxes[idx] not in idx2cls_prob) or (cnt <= (nums * 0.01) and i <= 5 and \n",
    "                                                    idx2cls_prob[idxes[idx]][1] <= cls_2_99fws[idx2cls_prob[idxes[idx]][0]]):\n",
    "                y_pred_res[idxes[idx]] = 9 - i\n",
    "                cnt += 1\n",
    "                idx2cls_prob[idxes[idx]] = (9-i, probs[idxes[idx]])\n",
    "            elif (idxes[idx] not in idx2cls_prob) or ((nums * 0.01) <= cnt and cnt <= (nums * 0.02) and i <= 5 and \n",
    "                                                    idx2cls_prob[idxes[idx]][1] <= cls_2_97fws[idx2cls_prob[idxes[idx]][0]]):\n",
    "                y_pred_res[idxes[idx]] = 9 - i\n",
    "                cnt += 1\n",
    "                idx2cls_prob[idxes[idx]] = (9-i, probs[idxes[idx]])\n",
    "                \n",
    "            elif (idxes[idx] not in idx2cls_prob) or (cnt <= (nums * 0.003) and i > 5 and \n",
    "                                                    idx2cls_prob[idxes[idx]][1] <= cls_2_90fws[idx2cls_prob[idxes[idx]][0]]):\n",
    "                y_pred_res[idxes[idx]] = 9 - i\n",
    "                cnt += 1\n",
    "                idx2cls_prob[idxes[idx]] = (9-i, probs[idxes[idx]])\n",
    "            idx += 1\n",
    "        print('cls:', 9-i, idx, cnt)\n",
    "    print(pd.Series(y_pred_res).value_counts())\n",
    "    return y_pred_res"
   ]
  },
  {
   "cell_type": "code",
   "execution_count": null,
   "metadata": {},
   "outputs": [],
   "source": []
  }
 ],
 "metadata": {
  "kernelspec": {
   "display_name": "Python 3",
   "language": "python",
   "name": "python3"
  },
  "language_info": {
   "codemirror_mode": {
    "name": "ipython",
    "version": 3
   },
   "file_extension": ".py",
   "mimetype": "text/x-python",
   "name": "python",
   "nbconvert_exporter": "python",
   "pygments_lexer": "ipython3",
   "version": "3.6.5"
  },
  "toc": {
   "base_numbering": 1,
   "nav_menu": {},
   "number_sections": true,
   "sideBar": true,
   "skip_h1_title": false,
   "title_cell": "Table of Contents",
   "title_sidebar": "Contents",
   "toc_cell": false,
   "toc_position": {},
   "toc_section_display": true,
   "toc_window_display": false
  },
  "varInspector": {
   "cols": {
    "lenName": 16,
    "lenType": 16,
    "lenVar": 40
   },
   "kernels_config": {
    "python": {
     "delete_cmd_postfix": "",
     "delete_cmd_prefix": "del ",
     "library": "var_list.py",
     "varRefreshCmd": "print(var_dic_list())"
    },
    "r": {
     "delete_cmd_postfix": ") ",
     "delete_cmd_prefix": "rm(",
     "library": "var_list.r",
     "varRefreshCmd": "cat(var_dic_list()) "
    }
   },
   "oldHeight": 548,
   "position": {
    "height": "40px",
    "left": "1070px",
    "right": "20px",
    "top": "120px",
    "width": "357px"
   },
   "types_to_exclude": [
    "module",
    "function",
    "builtin_function_or_method",
    "instance",
    "_Feature"
   ],
   "varInspector_section_display": "none",
   "window_display": false
  }
 },
 "nbformat": 4,
 "nbformat_minor": 2
}
