{
 "cells": [
  {
   "cell_type": "code",
   "execution_count": 38,
   "metadata": {},
   "outputs": [],
   "source": [
    "import pandas as pd \n",
    "import os\n",
    "import time \n",
    "import gc\n",
    "from tqdm import tqdm\n",
    "from utils import reduce_mem, uAUC, ProNE, HyperParam, get_logger\n",
    "from sklearn.metrics import *\n",
    "import torch\n",
    "import logging\n",
    "from gensim.models import word2vec\n",
    "from sklearn.decomposition import PCA, TruncatedSVD, SparsePCA\n",
    "import networkx as nx\n",
    "from sklearn.preprocessing import LabelEncoder,OneHotEncoder, StandardScaler, MinMaxScaler\n",
    "from sklearn.feature_extraction.text import CountVectorizer,TfidfVectorizer,HashingVectorizer\n",
    "import warnings\n",
    "\n",
    "pd.set_option('display.max_columns', None)\n",
    "warnings.filterwarnings(\"ignore\")"
   ]
  },
  {
   "cell_type": "markdown",
   "metadata": {},
   "source": [
    "## 训练集采样，减少样本"
   ]
  },
  {
   "cell_type": "code",
   "execution_count": 2,
   "metadata": {},
   "outputs": [
    {
     "name": "stdout",
     "output_type": "stream",
     "text": [
      "(80276856, 9) (2822180, 2) (5910800, 8) (49731, 10)\n"
     ]
    }
   ],
   "source": [
    "train = pd.read_pickle(\"data/train.pkl\")\n",
    "train['index'] = train.index\n",
    "test = pd.read_pickle(\"data/test.pkl\")\n",
    "user_info = pd.read_pickle(\"data/user_info.pkl\")\n",
    "video_info = pd.read_pickle(\"data/video_info.pkl\")\n",
    "print(train.shape, test.shape, user_info.shape, video_info.shape)"
   ]
  },
  {
   "cell_type": "code",
   "execution_count": 3,
   "metadata": {},
   "outputs": [
    {
     "name": "stdout",
     "output_type": "stream",
     "text": [
      "正样本个数 7353024, 负样本个数 72923832\n",
      "负样本个数： (18726628, 9) (5419720, 9)\n",
      "(31499372, 9)\n"
     ]
    }
   ],
   "source": [
    "train_pos = train[train['is_watch'] == 1]\n",
    "train_neg = train[train['is_watch'] == 0]\n",
    "print(\"正样本个数 {}, 负样本个数 {}\".format(train_pos.shape[0], train_neg.shape[0]))\n",
    "\n",
    "test_userid = test['user_id'].unique()\n",
    "train_neg1 = train_neg[train_neg['user_id'].isin(test_userid)]\n",
    "train_neg2 = train_neg[~train_neg['user_id'].isin(test_userid)]\n",
    "train_neg2 = train_neg2.sample(frac=0.1, random_state=2021)\n",
    "print(\"负样本个数：\", train_neg1.shape, train_neg2.shape)\n",
    "\n",
    "\n",
    "train = pd.concat([train_pos, train_neg1, train_neg2], ignore_index=True)\n",
    "print(train.shape)\n",
    "\n",
    "train.sort_values(by='index', inplace=True)\n",
    "train['date_'] = train['pt_d'].map(dict(zip(list(train['pt_d'].unique()), range(1, 15))))\n",
    "del train['index'], train['pt_d']"
   ]
  },
  {
   "cell_type": "code",
   "execution_count": 4,
   "metadata": {},
   "outputs": [
    {
     "name": "stdout",
     "output_type": "stream",
     "text": [
      "(31499372, 8) (2822180, 3)\n"
     ]
    }
   ],
   "source": [
    "train = train.reset_index(drop=True)\n",
    "test['date_'] = 15\n",
    "print(train.shape, test.shape)"
   ]
  },
  {
   "cell_type": "code",
   "execution_count": 5,
   "metadata": {},
   "outputs": [
    {
     "name": "stdout",
     "output_type": "stream",
     "text": [
      "训练集用户数: 3170872, 测试集用户数: 492174\n",
      "训练集和测试集用户重合数: 422143\n",
      "训练集视频数: 30540, 测试集视频数: 23686\n",
      "训练集和测试集视频重合数: 23364\n"
     ]
    }
   ],
   "source": [
    "print(\"训练集用户数: {}, 测试集用户数: {}\".format(train['user_id'].nunique(), test['user_id'].nunique()))\n",
    "print(\"训练集和测试集用户重合数: {}\".format(len(set(train['user_id'].unique()) & set( test['user_id'].unique()))))\n",
    "\n",
    "print(\"训练集视频数: {}, 测试集视频数: {}\".format(train['video_id'].nunique(), test['video_id'].nunique()))\n",
    "print(\"训练集和测试集视频重合数: {}\".format(len(set(train['video_id'].unique()) & set( test['video_id'].unique()))))"
   ]
  },
  {
   "cell_type": "code",
   "execution_count": null,
   "metadata": {},
   "outputs": [],
   "source": []
  },
  {
   "cell_type": "markdown",
   "metadata": {},
   "source": [
    "## 视频信息表的处理"
   ]
  },
  {
   "cell_type": "code",
   "execution_count": 6,
   "metadata": {
    "scrolled": true
   },
   "outputs": [],
   "source": [
    "video_info = pd.read_pickle(\"data/video_info.pkl\")\n",
    "video_info['video_release_date'] = pd.to_datetime(video_info['video_release_date'])\n",
    "## 发布的年份\n",
    "video_info['video_release_year'] = video_info['video_release_date'].apply(lambda x: x.year)\n",
    "## 发布至今有多少天了\n",
    "video_info['video_release_ndays'] = pd.to_datetime('20210501') - video_info['video_release_date']\n",
    "video_info['video_release_ndays'] = video_info['video_release_ndays'].apply(lambda x: x.days)"
   ]
  },
  {
   "cell_type": "code",
   "execution_count": 7,
   "metadata": {},
   "outputs": [],
   "source": [
    "video_info = video_info[['video_id', 'video_score', 'video_second_class', 'video_duration',\n",
    "                         'video_release_year', 'video_release_ndays']]\n",
    "video_info['video_class'] = video_info['video_second_class'].fillna('剧情').apply(lambda x: x.split(',')[0].strip())\n",
    "del video_info['video_second_class']"
   ]
  },
  {
   "cell_type": "code",
   "execution_count": 8,
   "metadata": {
    "scrolled": true
   },
   "outputs": [],
   "source": [
    "### 保存\n",
    "\n",
    "train.to_pickle(\"data/features/train.pkl\")\n",
    "test.to_pickle(\"data/features/test.pkl\")\n",
    "video_info.to_pickle(\"data/features/video_info.pkl\")\n",
    "user_info.to_pickle(\"data/features/user_info.pkl\")"
   ]
  },
  {
   "cell_type": "code",
   "execution_count": null,
   "metadata": {},
   "outputs": [],
   "source": []
  },
  {
   "cell_type": "code",
   "execution_count": null,
   "metadata": {},
   "outputs": [],
   "source": []
  },
  {
   "cell_type": "markdown",
   "metadata": {},
   "source": [
    "## 特征工程"
   ]
  },
  {
   "cell_type": "markdown",
   "metadata": {},
   "source": [
    "### word2vec特征"
   ]
  },
  {
   "cell_type": "code",
   "execution_count": 62,
   "metadata": {},
   "outputs": [
    {
     "name": "stdout",
     "output_type": "stream",
     "text": [
      "(34321552, 8)\n"
     ]
    },
    {
     "data": {
      "text/plain": [
       "0"
      ]
     },
     "execution_count": 62,
     "metadata": {},
     "output_type": "execute_result"
    }
   ],
   "source": [
    "df = pd.concat([train, test], ignore_index=True)\n",
    "print(df.shape)\n",
    "\n",
    "del train, test\n",
    "gc.collect()\n",
    "\n",
    "df.columns = ['userid', 'feedid', 'is_watch', 'is_share', 'is_collect', 'is_comment', 'watch_label', 'date_']"
   ]
  },
  {
   "cell_type": "code",
   "execution_count": 79,
   "metadata": {},
   "outputs": [
    {
     "name": "stdout",
     "output_type": "stream",
     "text": [
      "序列的个数: 3240903\n"
     ]
    }
   ],
   "source": [
    "df['feedid'] = df['feedid'].astype(str)\n",
    "user_dict = df.groupby('userid')['feedid'].agg(list)\n",
    "user_fid_list = user_dict.values.tolist()\n",
    "print(\"序列的个数: {}\".format(len(user_fid_list)))\n",
    "\n",
    "## 训练word2vec \n",
    "logging.basicConfig(format='%(asctime)s : %(levelname)s : %(message)s', level=logging.INFO)"
   ]
  },
  {
   "cell_type": "code",
   "execution_count": 81,
   "metadata": {
    "scrolled": true
   },
   "outputs": [
    {
     "name": "stderr",
     "output_type": "stream",
     "text": [
      "2021-08-16 14:31:29,380 : INFO : collecting all words and their counts\n",
      "2021-08-16 14:31:29,382 : INFO : PROGRESS: at sentence #0, processed 0 words, keeping 0 word types\n",
      "2021-08-16 14:31:29,420 : INFO : PROGRESS: at sentence #10000, processed 105406 words, keeping 11622 word types\n",
      "2021-08-16 14:31:29,471 : INFO : PROGRESS: at sentence #20000, processed 214615 words, keeping 14858 word types\n",
      "2021-08-16 14:31:29,511 : INFO : PROGRESS: at sentence #30000, processed 317769 words, keeping 16570 word types\n",
      "2021-08-16 14:31:29,554 : INFO : PROGRESS: at sentence #40000, processed 426139 words, keeping 17671 word types\n",
      "2021-08-16 14:31:29,590 : INFO : PROGRESS: at sentence #50000, processed 530209 words, keeping 18500 word types\n",
      "2021-08-16 14:31:29,629 : INFO : PROGRESS: at sentence #60000, processed 637890 words, keeping 19388 word types\n",
      "2021-08-16 14:31:29,670 : INFO : PROGRESS: at sentence #70000, processed 739524 words, keeping 19820 word types\n",
      "2021-08-16 14:31:29,705 : INFO : PROGRESS: at sentence #80000, processed 846455 words, keeping 20274 word types\n",
      "2021-08-16 14:31:29,746 : INFO : PROGRESS: at sentence #90000, processed 948879 words, keeping 20601 word types\n",
      "2021-08-16 14:31:29,778 : INFO : PROGRESS: at sentence #100000, processed 1050900 words, keeping 20864 word types\n",
      "2021-08-16 14:31:29,814 : INFO : PROGRESS: at sentence #110000, processed 1153933 words, keeping 21137 word types\n",
      "2021-08-16 14:31:29,864 : INFO : PROGRESS: at sentence #120000, processed 1261648 words, keeping 21366 word types\n",
      "2021-08-16 14:31:29,898 : INFO : PROGRESS: at sentence #130000, processed 1369582 words, keeping 21624 word types\n",
      "2021-08-16 14:31:29,938 : INFO : PROGRESS: at sentence #140000, processed 1471016 words, keeping 21829 word types\n",
      "2021-08-16 14:31:29,985 : INFO : PROGRESS: at sentence #150000, processed 1580515 words, keeping 22021 word types\n",
      "2021-08-16 14:31:30,031 : INFO : PROGRESS: at sentence #160000, processed 1685149 words, keeping 22205 word types\n",
      "2021-08-16 14:31:30,073 : INFO : PROGRESS: at sentence #170000, processed 1789547 words, keeping 22342 word types\n",
      "2021-08-16 14:31:30,120 : INFO : PROGRESS: at sentence #180000, processed 1899012 words, keeping 22502 word types\n",
      "2021-08-16 14:31:30,159 : INFO : PROGRESS: at sentence #190000, processed 1999530 words, keeping 22620 word types\n",
      "2021-08-16 14:31:30,205 : INFO : PROGRESS: at sentence #200000, processed 2105630 words, keeping 22784 word types\n",
      "2021-08-16 14:31:30,247 : INFO : PROGRESS: at sentence #210000, processed 2207636 words, keeping 22922 word types\n",
      "2021-08-16 14:31:30,282 : INFO : PROGRESS: at sentence #220000, processed 2307521 words, keeping 23035 word types\n",
      "2021-08-16 14:31:30,321 : INFO : PROGRESS: at sentence #230000, processed 2412530 words, keeping 23117 word types\n",
      "2021-08-16 14:31:30,354 : INFO : PROGRESS: at sentence #240000, processed 2515402 words, keeping 23228 word types\n",
      "2021-08-16 14:31:30,391 : INFO : PROGRESS: at sentence #250000, processed 2618590 words, keeping 23340 word types\n",
      "2021-08-16 14:31:30,430 : INFO : PROGRESS: at sentence #260000, processed 2725361 words, keeping 23458 word types\n",
      "2021-08-16 14:31:30,470 : INFO : PROGRESS: at sentence #270000, processed 2827823 words, keeping 23567 word types\n",
      "2021-08-16 14:31:30,510 : INFO : PROGRESS: at sentence #280000, processed 2932984 words, keeping 23683 word types\n",
      "2021-08-16 14:31:30,552 : INFO : PROGRESS: at sentence #290000, processed 3039077 words, keeping 23778 word types\n",
      "2021-08-16 14:31:30,599 : INFO : PROGRESS: at sentence #300000, processed 3144956 words, keeping 23864 word types\n",
      "2021-08-16 14:31:30,641 : INFO : PROGRESS: at sentence #310000, processed 3254668 words, keeping 23943 word types\n",
      "2021-08-16 14:31:30,681 : INFO : PROGRESS: at sentence #320000, processed 3359387 words, keeping 24031 word types\n",
      "2021-08-16 14:31:30,723 : INFO : PROGRESS: at sentence #330000, processed 3469858 words, keeping 24110 word types\n",
      "2021-08-16 14:31:30,762 : INFO : PROGRESS: at sentence #340000, processed 3574785 words, keeping 24203 word types\n",
      "2021-08-16 14:31:30,798 : INFO : PROGRESS: at sentence #350000, processed 3681858 words, keeping 24283 word types\n",
      "2021-08-16 14:31:30,838 : INFO : PROGRESS: at sentence #360000, processed 3784518 words, keeping 24369 word types\n",
      "2021-08-16 14:31:30,879 : INFO : PROGRESS: at sentence #370000, processed 3890678 words, keeping 24447 word types\n",
      "2021-08-16 14:31:30,920 : INFO : PROGRESS: at sentence #380000, processed 4000025 words, keeping 24524 word types\n",
      "2021-08-16 14:31:30,961 : INFO : PROGRESS: at sentence #390000, processed 4101842 words, keeping 24605 word types\n",
      "2021-08-16 14:31:30,998 : INFO : PROGRESS: at sentence #400000, processed 4207268 words, keeping 24663 word types\n",
      "2021-08-16 14:31:31,031 : INFO : PROGRESS: at sentence #410000, processed 4306829 words, keeping 24728 word types\n",
      "2021-08-16 14:31:31,066 : INFO : PROGRESS: at sentence #420000, processed 4415640 words, keeping 24798 word types\n",
      "2021-08-16 14:31:31,101 : INFO : PROGRESS: at sentence #430000, processed 4526940 words, keeping 24871 word types\n",
      "2021-08-16 14:31:31,138 : INFO : PROGRESS: at sentence #440000, processed 4630635 words, keeping 24930 word types\n",
      "2021-08-16 14:31:31,179 : INFO : PROGRESS: at sentence #450000, processed 4741949 words, keeping 24985 word types\n",
      "2021-08-16 14:31:31,219 : INFO : PROGRESS: at sentence #460000, processed 4847029 words, keeping 25050 word types\n",
      "2021-08-16 14:31:31,261 : INFO : PROGRESS: at sentence #470000, processed 4951673 words, keeping 25125 word types\n",
      "2021-08-16 14:31:31,300 : INFO : PROGRESS: at sentence #480000, processed 5048895 words, keeping 25165 word types\n",
      "2021-08-16 14:31:31,337 : INFO : PROGRESS: at sentence #490000, processed 5151976 words, keeping 25199 word types\n",
      "2021-08-16 14:31:31,376 : INFO : PROGRESS: at sentence #500000, processed 5266589 words, keeping 25253 word types\n",
      "2021-08-16 14:31:31,414 : INFO : PROGRESS: at sentence #510000, processed 5371355 words, keeping 25299 word types\n",
      "2021-08-16 14:31:31,452 : INFO : PROGRESS: at sentence #520000, processed 5476611 words, keeping 25365 word types\n",
      "2021-08-16 14:31:31,489 : INFO : PROGRESS: at sentence #530000, processed 5580238 words, keeping 25433 word types\n",
      "2021-08-16 14:31:31,527 : INFO : PROGRESS: at sentence #540000, processed 5687341 words, keeping 25470 word types\n",
      "2021-08-16 14:31:31,562 : INFO : PROGRESS: at sentence #550000, processed 5795097 words, keeping 25528 word types\n",
      "2021-08-16 14:31:31,600 : INFO : PROGRESS: at sentence #560000, processed 5897027 words, keeping 25574 word types\n",
      "2021-08-16 14:31:31,635 : INFO : PROGRESS: at sentence #570000, processed 6000563 words, keeping 25617 word types\n",
      "2021-08-16 14:31:31,671 : INFO : PROGRESS: at sentence #580000, processed 6094014 words, keeping 25666 word types\n",
      "2021-08-16 14:31:31,714 : INFO : PROGRESS: at sentence #590000, processed 6199523 words, keeping 25692 word types\n",
      "2021-08-16 14:31:31,747 : INFO : PROGRESS: at sentence #600000, processed 6302132 words, keeping 25728 word types\n",
      "2021-08-16 14:31:31,789 : INFO : PROGRESS: at sentence #610000, processed 6417202 words, keeping 25805 word types\n",
      "2021-08-16 14:31:31,826 : INFO : PROGRESS: at sentence #620000, processed 6532871 words, keeping 25850 word types\n",
      "2021-08-16 14:31:31,863 : INFO : PROGRESS: at sentence #630000, processed 6638726 words, keeping 25899 word types\n",
      "2021-08-16 14:31:31,902 : INFO : PROGRESS: at sentence #640000, processed 6743700 words, keeping 25934 word types\n",
      "2021-08-16 14:31:31,934 : INFO : PROGRESS: at sentence #650000, processed 6852795 words, keeping 25967 word types\n",
      "2021-08-16 14:31:31,975 : INFO : PROGRESS: at sentence #660000, processed 6967716 words, keeping 26028 word types\n",
      "2021-08-16 14:31:32,005 : INFO : PROGRESS: at sentence #670000, processed 7070878 words, keeping 26079 word types\n",
      "2021-08-16 14:31:32,046 : INFO : PROGRESS: at sentence #680000, processed 7176728 words, keeping 26111 word types\n",
      "2021-08-16 14:31:32,079 : INFO : PROGRESS: at sentence #690000, processed 7280128 words, keeping 26138 word types\n",
      "2021-08-16 14:31:32,116 : INFO : PROGRESS: at sentence #700000, processed 7380827 words, keeping 26164 word types\n",
      "2021-08-16 14:31:32,156 : INFO : PROGRESS: at sentence #710000, processed 7486588 words, keeping 26206 word types\n"
     ]
    },
    {
     "name": "stderr",
     "output_type": "stream",
     "text": [
      "2021-08-16 14:31:32,198 : INFO : PROGRESS: at sentence #720000, processed 7590215 words, keeping 26238 word types\n",
      "2021-08-16 14:31:32,240 : INFO : PROGRESS: at sentence #730000, processed 7692417 words, keeping 26276 word types\n",
      "2021-08-16 14:31:32,282 : INFO : PROGRESS: at sentence #740000, processed 7802620 words, keeping 26320 word types\n",
      "2021-08-16 14:31:32,324 : INFO : PROGRESS: at sentence #750000, processed 7907550 words, keeping 26352 word types\n",
      "2021-08-16 14:31:32,358 : INFO : PROGRESS: at sentence #760000, processed 8015258 words, keeping 26399 word types\n",
      "2021-08-16 14:31:32,393 : INFO : PROGRESS: at sentence #770000, processed 8118069 words, keeping 26441 word types\n",
      "2021-08-16 14:31:32,432 : INFO : PROGRESS: at sentence #780000, processed 8223761 words, keeping 26483 word types\n",
      "2021-08-16 14:31:32,468 : INFO : PROGRESS: at sentence #790000, processed 8323479 words, keeping 26527 word types\n",
      "2021-08-16 14:31:32,504 : INFO : PROGRESS: at sentence #800000, processed 8428878 words, keeping 26565 word types\n",
      "2021-08-16 14:31:32,541 : INFO : PROGRESS: at sentence #810000, processed 8534403 words, keeping 26608 word types\n",
      "2021-08-16 14:31:32,575 : INFO : PROGRESS: at sentence #820000, processed 8631020 words, keeping 26651 word types\n",
      "2021-08-16 14:31:32,612 : INFO : PROGRESS: at sentence #830000, processed 8736082 words, keeping 26685 word types\n",
      "2021-08-16 14:31:32,650 : INFO : PROGRESS: at sentence #840000, processed 8842638 words, keeping 26708 word types\n",
      "2021-08-16 14:31:32,688 : INFO : PROGRESS: at sentence #850000, processed 8953912 words, keeping 26765 word types\n",
      "2021-08-16 14:31:32,728 : INFO : PROGRESS: at sentence #860000, processed 9061558 words, keeping 26789 word types\n",
      "2021-08-16 14:31:32,764 : INFO : PROGRESS: at sentence #870000, processed 9167498 words, keeping 26835 word types\n",
      "2021-08-16 14:31:32,804 : INFO : PROGRESS: at sentence #880000, processed 9272374 words, keeping 26879 word types\n",
      "2021-08-16 14:31:32,844 : INFO : PROGRESS: at sentence #890000, processed 9376558 words, keeping 26903 word types\n",
      "2021-08-16 14:31:32,885 : INFO : PROGRESS: at sentence #900000, processed 9481344 words, keeping 26948 word types\n",
      "2021-08-16 14:31:32,923 : INFO : PROGRESS: at sentence #910000, processed 9582228 words, keeping 26998 word types\n",
      "2021-08-16 14:31:32,959 : INFO : PROGRESS: at sentence #920000, processed 9681908 words, keeping 27031 word types\n",
      "2021-08-16 14:31:32,997 : INFO : PROGRESS: at sentence #930000, processed 9787206 words, keeping 27062 word types\n",
      "2021-08-16 14:31:33,030 : INFO : PROGRESS: at sentence #940000, processed 9895059 words, keeping 27099 word types\n",
      "2021-08-16 14:31:33,068 : INFO : PROGRESS: at sentence #950000, processed 10004121 words, keeping 27128 word types\n",
      "2021-08-16 14:31:33,107 : INFO : PROGRESS: at sentence #960000, processed 10113871 words, keeping 27164 word types\n",
      "2021-08-16 14:31:33,145 : INFO : PROGRESS: at sentence #970000, processed 10215622 words, keeping 27185 word types\n",
      "2021-08-16 14:31:33,178 : INFO : PROGRESS: at sentence #980000, processed 10325753 words, keeping 27213 word types\n",
      "2021-08-16 14:31:33,213 : INFO : PROGRESS: at sentence #990000, processed 10421655 words, keeping 27246 word types\n",
      "2021-08-16 14:31:33,247 : INFO : PROGRESS: at sentence #1000000, processed 10528293 words, keeping 27265 word types\n",
      "2021-08-16 14:31:33,281 : INFO : PROGRESS: at sentence #1010000, processed 10631410 words, keeping 27304 word types\n",
      "2021-08-16 14:31:33,319 : INFO : PROGRESS: at sentence #1020000, processed 10730350 words, keeping 27332 word types\n",
      "2021-08-16 14:31:33,353 : INFO : PROGRESS: at sentence #1030000, processed 10825012 words, keeping 27365 word types\n",
      "2021-08-16 14:31:33,396 : INFO : PROGRESS: at sentence #1040000, processed 10935348 words, keeping 27390 word types\n",
      "2021-08-16 14:31:33,432 : INFO : PROGRESS: at sentence #1050000, processed 11044525 words, keeping 27418 word types\n",
      "2021-08-16 14:31:33,471 : INFO : PROGRESS: at sentence #1060000, processed 11148699 words, keeping 27448 word types\n",
      "2021-08-16 14:31:33,505 : INFO : PROGRESS: at sentence #1070000, processed 11253640 words, keeping 27478 word types\n",
      "2021-08-16 14:31:33,545 : INFO : PROGRESS: at sentence #1080000, processed 11362458 words, keeping 27500 word types\n",
      "2021-08-16 14:31:33,586 : INFO : PROGRESS: at sentence #1090000, processed 11469157 words, keeping 27526 word types\n",
      "2021-08-16 14:31:33,623 : INFO : PROGRESS: at sentence #1100000, processed 11569854 words, keeping 27545 word types\n",
      "2021-08-16 14:31:33,664 : INFO : PROGRESS: at sentence #1110000, processed 11680828 words, keeping 27569 word types\n",
      "2021-08-16 14:31:33,706 : INFO : PROGRESS: at sentence #1120000, processed 11787144 words, keeping 27607 word types\n",
      "2021-08-16 14:31:33,746 : INFO : PROGRESS: at sentence #1130000, processed 11892470 words, keeping 27638 word types\n",
      "2021-08-16 14:31:33,785 : INFO : PROGRESS: at sentence #1140000, processed 12006500 words, keeping 27660 word types\n",
      "2021-08-16 14:31:33,824 : INFO : PROGRESS: at sentence #1150000, processed 12121958 words, keeping 27684 word types\n",
      "2021-08-16 14:31:33,865 : INFO : PROGRESS: at sentence #1160000, processed 12237165 words, keeping 27712 word types\n",
      "2021-08-16 14:31:33,902 : INFO : PROGRESS: at sentence #1170000, processed 12342905 words, keeping 27725 word types\n",
      "2021-08-16 14:31:33,938 : INFO : PROGRESS: at sentence #1180000, processed 12446358 words, keeping 27757 word types\n",
      "2021-08-16 14:31:33,976 : INFO : PROGRESS: at sentence #1190000, processed 12552926 words, keeping 27785 word types\n",
      "2021-08-16 14:31:34,014 : INFO : PROGRESS: at sentence #1200000, processed 12658581 words, keeping 27806 word types\n",
      "2021-08-16 14:31:34,053 : INFO : PROGRESS: at sentence #1210000, processed 12763421 words, keeping 27832 word types\n",
      "2021-08-16 14:31:34,093 : INFO : PROGRESS: at sentence #1220000, processed 12877047 words, keeping 27870 word types\n",
      "2021-08-16 14:31:34,134 : INFO : PROGRESS: at sentence #1230000, processed 12986463 words, keeping 27901 word types\n",
      "2021-08-16 14:31:34,167 : INFO : PROGRESS: at sentence #1240000, processed 13092512 words, keeping 27922 word types\n",
      "2021-08-16 14:31:34,203 : INFO : PROGRESS: at sentence #1250000, processed 13195742 words, keeping 27940 word types\n",
      "2021-08-16 14:31:34,242 : INFO : PROGRESS: at sentence #1260000, processed 13300199 words, keeping 27972 word types\n",
      "2021-08-16 14:31:34,278 : INFO : PROGRESS: at sentence #1270000, processed 13413792 words, keeping 27985 word types\n",
      "2021-08-16 14:31:34,315 : INFO : PROGRESS: at sentence #1280000, processed 13515516 words, keeping 28007 word types\n",
      "2021-08-16 14:31:34,349 : INFO : PROGRESS: at sentence #1290000, processed 13616222 words, keeping 28023 word types\n",
      "2021-08-16 14:31:34,388 : INFO : PROGRESS: at sentence #1300000, processed 13723963 words, keeping 28045 word types\n",
      "2021-08-16 14:31:34,429 : INFO : PROGRESS: at sentence #1310000, processed 13834519 words, keeping 28076 word types\n",
      "2021-08-16 14:31:34,466 : INFO : PROGRESS: at sentence #1320000, processed 13944496 words, keeping 28101 word types\n",
      "2021-08-16 14:31:34,511 : INFO : PROGRESS: at sentence #1330000, processed 14045355 words, keeping 28121 word types\n",
      "2021-08-16 14:31:34,556 : INFO : PROGRESS: at sentence #1340000, processed 14158856 words, keeping 28138 word types\n",
      "2021-08-16 14:31:34,596 : INFO : PROGRESS: at sentence #1350000, processed 14267395 words, keeping 28156 word types\n",
      "2021-08-16 14:31:34,631 : INFO : PROGRESS: at sentence #1360000, processed 14373267 words, keeping 28185 word types\n",
      "2021-08-16 14:31:34,670 : INFO : PROGRESS: at sentence #1370000, processed 14479657 words, keeping 28203 word types\n",
      "2021-08-16 14:31:34,707 : INFO : PROGRESS: at sentence #1380000, processed 14582065 words, keeping 28226 word types\n",
      "2021-08-16 14:31:34,743 : INFO : PROGRESS: at sentence #1390000, processed 14681633 words, keeping 28239 word types\n",
      "2021-08-16 14:31:34,780 : INFO : PROGRESS: at sentence #1400000, processed 14790796 words, keeping 28261 word types\n",
      "2021-08-16 14:31:34,820 : INFO : PROGRESS: at sentence #1410000, processed 14895252 words, keeping 28302 word types\n",
      "2021-08-16 14:31:34,852 : INFO : PROGRESS: at sentence #1420000, processed 14999487 words, keeping 28318 word types\n",
      "2021-08-16 14:31:34,889 : INFO : PROGRESS: at sentence #1430000, processed 15103511 words, keeping 28340 word types\n"
     ]
    },
    {
     "name": "stderr",
     "output_type": "stream",
     "text": [
      "2021-08-16 14:31:34,929 : INFO : PROGRESS: at sentence #1440000, processed 15216128 words, keeping 28361 word types\n",
      "2021-08-16 14:31:34,969 : INFO : PROGRESS: at sentence #1450000, processed 15323234 words, keeping 28385 word types\n",
      "2021-08-16 14:31:35,004 : INFO : PROGRESS: at sentence #1460000, processed 15428451 words, keeping 28406 word types\n",
      "2021-08-16 14:31:35,043 : INFO : PROGRESS: at sentence #1470000, processed 15536980 words, keeping 28421 word types\n",
      "2021-08-16 14:31:35,078 : INFO : PROGRESS: at sentence #1480000, processed 15644727 words, keeping 28439 word types\n",
      "2021-08-16 14:31:35,115 : INFO : PROGRESS: at sentence #1490000, processed 15752985 words, keeping 28462 word types\n",
      "2021-08-16 14:31:35,148 : INFO : PROGRESS: at sentence #1500000, processed 15854513 words, keeping 28481 word types\n",
      "2021-08-16 14:31:35,190 : INFO : PROGRESS: at sentence #1510000, processed 15974920 words, keeping 28510 word types\n",
      "2021-08-16 14:31:35,231 : INFO : PROGRESS: at sentence #1520000, processed 16089721 words, keeping 28532 word types\n",
      "2021-08-16 14:31:35,271 : INFO : PROGRESS: at sentence #1530000, processed 16201494 words, keeping 28544 word types\n",
      "2021-08-16 14:31:35,310 : INFO : PROGRESS: at sentence #1540000, processed 16310439 words, keeping 28566 word types\n",
      "2021-08-16 14:31:35,348 : INFO : PROGRESS: at sentence #1550000, processed 16419420 words, keeping 28583 word types\n",
      "2021-08-16 14:31:35,390 : INFO : PROGRESS: at sentence #1560000, processed 16532548 words, keeping 28620 word types\n",
      "2021-08-16 14:31:35,427 : INFO : PROGRESS: at sentence #1570000, processed 16637304 words, keeping 28639 word types\n",
      "2021-08-16 14:31:35,466 : INFO : PROGRESS: at sentence #1580000, processed 16747345 words, keeping 28662 word types\n",
      "2021-08-16 14:31:35,506 : INFO : PROGRESS: at sentence #1590000, processed 16859736 words, keeping 28679 word types\n",
      "2021-08-16 14:31:35,545 : INFO : PROGRESS: at sentence #1600000, processed 16964298 words, keeping 28693 word types\n",
      "2021-08-16 14:31:35,583 : INFO : PROGRESS: at sentence #1610000, processed 17072898 words, keeping 28705 word types\n",
      "2021-08-16 14:31:35,624 : INFO : PROGRESS: at sentence #1620000, processed 17178418 words, keeping 28718 word types\n",
      "2021-08-16 14:31:35,667 : INFO : PROGRESS: at sentence #1630000, processed 17284060 words, keeping 28738 word types\n",
      "2021-08-16 14:31:35,705 : INFO : PROGRESS: at sentence #1640000, processed 17385535 words, keeping 28751 word types\n",
      "2021-08-16 14:31:35,744 : INFO : PROGRESS: at sentence #1650000, processed 17495091 words, keeping 28772 word types\n",
      "2021-08-16 14:31:35,780 : INFO : PROGRESS: at sentence #1660000, processed 17597561 words, keeping 28782 word types\n",
      "2021-08-16 14:31:35,820 : INFO : PROGRESS: at sentence #1670000, processed 17710625 words, keeping 28795 word types\n",
      "2021-08-16 14:31:35,859 : INFO : PROGRESS: at sentence #1680000, processed 17819565 words, keeping 28813 word types\n",
      "2021-08-16 14:31:35,897 : INFO : PROGRESS: at sentence #1690000, processed 17920245 words, keeping 28828 word types\n",
      "2021-08-16 14:31:35,933 : INFO : PROGRESS: at sentence #1700000, processed 18020857 words, keeping 28855 word types\n",
      "2021-08-16 14:31:35,966 : INFO : PROGRESS: at sentence #1710000, processed 18124781 words, keeping 28871 word types\n",
      "2021-08-16 14:31:36,006 : INFO : PROGRESS: at sentence #1720000, processed 18231231 words, keeping 28887 word types\n",
      "2021-08-16 14:31:36,042 : INFO : PROGRESS: at sentence #1730000, processed 18332683 words, keeping 28902 word types\n",
      "2021-08-16 14:31:36,081 : INFO : PROGRESS: at sentence #1740000, processed 18434079 words, keeping 28913 word types\n",
      "2021-08-16 14:31:36,116 : INFO : PROGRESS: at sentence #1750000, processed 18546379 words, keeping 28930 word types\n",
      "2021-08-16 14:31:36,152 : INFO : PROGRESS: at sentence #1760000, processed 18651826 words, keeping 28950 word types\n",
      "2021-08-16 14:31:36,190 : INFO : PROGRESS: at sentence #1770000, processed 18752355 words, keeping 28962 word types\n",
      "2021-08-16 14:31:36,228 : INFO : PROGRESS: at sentence #1780000, processed 18860643 words, keeping 28978 word types\n",
      "2021-08-16 14:31:36,266 : INFO : PROGRESS: at sentence #1790000, processed 18964945 words, keeping 28993 word types\n",
      "2021-08-16 14:31:36,308 : INFO : PROGRESS: at sentence #1800000, processed 19074428 words, keeping 29015 word types\n",
      "2021-08-16 14:31:36,347 : INFO : PROGRESS: at sentence #1810000, processed 19188866 words, keeping 29036 word types\n",
      "2021-08-16 14:31:36,386 : INFO : PROGRESS: at sentence #1820000, processed 19292755 words, keeping 29052 word types\n",
      "2021-08-16 14:31:36,430 : INFO : PROGRESS: at sentence #1830000, processed 19401430 words, keeping 29064 word types\n",
      "2021-08-16 14:31:36,471 : INFO : PROGRESS: at sentence #1840000, processed 19508288 words, keeping 29077 word types\n",
      "2021-08-16 14:31:36,511 : INFO : PROGRESS: at sentence #1850000, processed 19610573 words, keeping 29101 word types\n",
      "2021-08-16 14:31:36,557 : INFO : PROGRESS: at sentence #1860000, processed 19731500 words, keeping 29125 word types\n",
      "2021-08-16 14:31:36,591 : INFO : PROGRESS: at sentence #1870000, processed 19837657 words, keeping 29138 word types\n",
      "2021-08-16 14:31:36,632 : INFO : PROGRESS: at sentence #1880000, processed 19948448 words, keeping 29152 word types\n",
      "2021-08-16 14:31:36,663 : INFO : PROGRESS: at sentence #1890000, processed 20053581 words, keeping 29166 word types\n",
      "2021-08-16 14:31:36,705 : INFO : PROGRESS: at sentence #1900000, processed 20158528 words, keeping 29203 word types\n",
      "2021-08-16 14:31:36,738 : INFO : PROGRESS: at sentence #1910000, processed 20269522 words, keeping 29211 word types\n",
      "2021-08-16 14:31:36,776 : INFO : PROGRESS: at sentence #1920000, processed 20374334 words, keeping 29228 word types\n",
      "2021-08-16 14:31:36,817 : INFO : PROGRESS: at sentence #1930000, processed 20475353 words, keeping 29243 word types\n",
      "2021-08-16 14:31:36,850 : INFO : PROGRESS: at sentence #1940000, processed 20581843 words, keeping 29254 word types\n",
      "2021-08-16 14:31:36,889 : INFO : PROGRESS: at sentence #1950000, processed 20684803 words, keeping 29269 word types\n",
      "2021-08-16 14:31:36,925 : INFO : PROGRESS: at sentence #1960000, processed 20791051 words, keeping 29298 word types\n",
      "2021-08-16 14:31:36,962 : INFO : PROGRESS: at sentence #1970000, processed 20892377 words, keeping 29304 word types\n",
      "2021-08-16 14:31:37,001 : INFO : PROGRESS: at sentence #1980000, processed 21001562 words, keeping 29320 word types\n",
      "2021-08-16 14:31:37,039 : INFO : PROGRESS: at sentence #1990000, processed 21117285 words, keeping 29341 word types\n",
      "2021-08-16 14:31:37,077 : INFO : PROGRESS: at sentence #2000000, processed 21219469 words, keeping 29359 word types\n",
      "2021-08-16 14:31:37,115 : INFO : PROGRESS: at sentence #2010000, processed 21323507 words, keeping 29376 word types\n",
      "2021-08-16 14:31:37,154 : INFO : PROGRESS: at sentence #2020000, processed 21424893 words, keeping 29389 word types\n",
      "2021-08-16 14:31:37,197 : INFO : PROGRESS: at sentence #2030000, processed 21529927 words, keeping 29402 word types\n",
      "2021-08-16 14:31:37,234 : INFO : PROGRESS: at sentence #2040000, processed 21631740 words, keeping 29416 word types\n",
      "2021-08-16 14:31:37,272 : INFO : PROGRESS: at sentence #2050000, processed 21734279 words, keeping 29428 word types\n",
      "2021-08-16 14:31:37,320 : INFO : PROGRESS: at sentence #2060000, processed 21842598 words, keeping 29442 word types\n",
      "2021-08-16 14:31:37,360 : INFO : PROGRESS: at sentence #2070000, processed 21947259 words, keeping 29461 word types\n",
      "2021-08-16 14:31:37,404 : INFO : PROGRESS: at sentence #2080000, processed 22059728 words, keeping 29478 word types\n",
      "2021-08-16 14:31:37,440 : INFO : PROGRESS: at sentence #2090000, processed 22174996 words, keeping 29491 word types\n",
      "2021-08-16 14:31:37,477 : INFO : PROGRESS: at sentence #2100000, processed 22274640 words, keeping 29500 word types\n",
      "2021-08-16 14:31:37,520 : INFO : PROGRESS: at sentence #2110000, processed 22385470 words, keeping 29515 word types\n",
      "2021-08-16 14:31:37,555 : INFO : PROGRESS: at sentence #2120000, processed 22492546 words, keeping 29522 word types\n",
      "2021-08-16 14:31:37,597 : INFO : PROGRESS: at sentence #2130000, processed 22606581 words, keeping 29539 word types\n",
      "2021-08-16 14:31:37,631 : INFO : PROGRESS: at sentence #2140000, processed 22710312 words, keeping 29555 word types\n"
     ]
    },
    {
     "name": "stderr",
     "output_type": "stream",
     "text": [
      "2021-08-16 14:31:37,672 : INFO : PROGRESS: at sentence #2150000, processed 22811897 words, keeping 29568 word types\n",
      "2021-08-16 14:31:37,707 : INFO : PROGRESS: at sentence #2160000, processed 22926771 words, keeping 29587 word types\n",
      "2021-08-16 14:31:37,748 : INFO : PROGRESS: at sentence #2170000, processed 23028868 words, keeping 29602 word types\n",
      "2021-08-16 14:31:37,784 : INFO : PROGRESS: at sentence #2180000, processed 23137388 words, keeping 29610 word types\n",
      "2021-08-16 14:31:37,824 : INFO : PROGRESS: at sentence #2190000, processed 23241133 words, keeping 29625 word types\n",
      "2021-08-16 14:31:37,860 : INFO : PROGRESS: at sentence #2200000, processed 23343598 words, keeping 29627 word types\n",
      "2021-08-16 14:31:37,901 : INFO : PROGRESS: at sentence #2210000, processed 23446369 words, keeping 29644 word types\n",
      "2021-08-16 14:31:37,938 : INFO : PROGRESS: at sentence #2220000, processed 23555504 words, keeping 29660 word types\n",
      "2021-08-16 14:31:37,975 : INFO : PROGRESS: at sentence #2230000, processed 23657216 words, keeping 29669 word types\n",
      "2021-08-16 14:31:38,015 : INFO : PROGRESS: at sentence #2240000, processed 23770874 words, keeping 29680 word types\n",
      "2021-08-16 14:31:38,062 : INFO : PROGRESS: at sentence #2250000, processed 23885586 words, keeping 29691 word types\n",
      "2021-08-16 14:31:38,102 : INFO : PROGRESS: at sentence #2260000, processed 23998462 words, keeping 29700 word types\n",
      "2021-08-16 14:31:38,141 : INFO : PROGRESS: at sentence #2270000, processed 24098380 words, keeping 29715 word types\n",
      "2021-08-16 14:31:38,183 : INFO : PROGRESS: at sentence #2280000, processed 24207719 words, keeping 29736 word types\n",
      "2021-08-16 14:31:38,225 : INFO : PROGRESS: at sentence #2290000, processed 24313867 words, keeping 29752 word types\n",
      "2021-08-16 14:31:38,259 : INFO : PROGRESS: at sentence #2300000, processed 24420424 words, keeping 29777 word types\n",
      "2021-08-16 14:31:38,299 : INFO : PROGRESS: at sentence #2310000, processed 24523926 words, keeping 29796 word types\n",
      "2021-08-16 14:31:38,332 : INFO : PROGRESS: at sentence #2320000, processed 24623772 words, keeping 29806 word types\n",
      "2021-08-16 14:31:38,372 : INFO : PROGRESS: at sentence #2330000, processed 24729824 words, keeping 29816 word types\n",
      "2021-08-16 14:31:38,406 : INFO : PROGRESS: at sentence #2340000, processed 24833118 words, keeping 29833 word types\n",
      "2021-08-16 14:31:38,442 : INFO : PROGRESS: at sentence #2350000, processed 24939109 words, keeping 29847 word types\n",
      "2021-08-16 14:31:38,479 : INFO : PROGRESS: at sentence #2360000, processed 25040921 words, keeping 29864 word types\n",
      "2021-08-16 14:31:38,524 : INFO : PROGRESS: at sentence #2370000, processed 25151985 words, keeping 29870 word types\n",
      "2021-08-16 14:31:38,564 : INFO : PROGRESS: at sentence #2380000, processed 25263679 words, keeping 29894 word types\n",
      "2021-08-16 14:31:38,602 : INFO : PROGRESS: at sentence #2390000, processed 25364489 words, keeping 29907 word types\n",
      "2021-08-16 14:31:38,648 : INFO : PROGRESS: at sentence #2400000, processed 25475285 words, keeping 29922 word types\n",
      "2021-08-16 14:31:38,684 : INFO : PROGRESS: at sentence #2410000, processed 25576724 words, keeping 29933 word types\n",
      "2021-08-16 14:31:38,728 : INFO : PROGRESS: at sentence #2420000, processed 25682474 words, keeping 29947 word types\n",
      "2021-08-16 14:31:38,762 : INFO : PROGRESS: at sentence #2430000, processed 25784388 words, keeping 29955 word types\n",
      "2021-08-16 14:31:38,802 : INFO : PROGRESS: at sentence #2440000, processed 25883191 words, keeping 29970 word types\n",
      "2021-08-16 14:31:38,843 : INFO : PROGRESS: at sentence #2450000, processed 25995539 words, keeping 29980 word types\n",
      "2021-08-16 14:31:38,882 : INFO : PROGRESS: at sentence #2460000, processed 26102518 words, keeping 30001 word types\n",
      "2021-08-16 14:31:38,921 : INFO : PROGRESS: at sentence #2470000, processed 26204499 words, keeping 30010 word types\n",
      "2021-08-16 14:31:38,966 : INFO : PROGRESS: at sentence #2480000, processed 26308058 words, keeping 30027 word types\n",
      "2021-08-16 14:31:39,016 : INFO : PROGRESS: at sentence #2490000, processed 26415012 words, keeping 30043 word types\n",
      "2021-08-16 14:31:39,053 : INFO : PROGRESS: at sentence #2500000, processed 26522645 words, keeping 30055 word types\n",
      "2021-08-16 14:31:39,103 : INFO : PROGRESS: at sentence #2510000, processed 26635595 words, keeping 30078 word types\n",
      "2021-08-16 14:31:39,137 : INFO : PROGRESS: at sentence #2520000, processed 26738374 words, keeping 30092 word types\n",
      "2021-08-16 14:31:39,176 : INFO : PROGRESS: at sentence #2530000, processed 26840785 words, keeping 30101 word types\n",
      "2021-08-16 14:31:39,217 : INFO : PROGRESS: at sentence #2540000, processed 26948660 words, keeping 30110 word types\n",
      "2021-08-16 14:31:39,255 : INFO : PROGRESS: at sentence #2550000, processed 27054663 words, keeping 30118 word types\n",
      "2021-08-16 14:31:39,296 : INFO : PROGRESS: at sentence #2560000, processed 27164638 words, keeping 30120 word types\n",
      "2021-08-16 14:31:39,332 : INFO : PROGRESS: at sentence #2570000, processed 27264151 words, keeping 30130 word types\n",
      "2021-08-16 14:31:39,370 : INFO : PROGRESS: at sentence #2580000, processed 27365067 words, keeping 30139 word types\n",
      "2021-08-16 14:31:39,404 : INFO : PROGRESS: at sentence #2590000, processed 27467913 words, keeping 30146 word types\n",
      "2021-08-16 14:31:39,440 : INFO : PROGRESS: at sentence #2600000, processed 27575459 words, keeping 30165 word types\n",
      "2021-08-16 14:31:39,480 : INFO : PROGRESS: at sentence #2610000, processed 27682856 words, keeping 30182 word types\n",
      "2021-08-16 14:31:39,514 : INFO : PROGRESS: at sentence #2620000, processed 27782481 words, keeping 30188 word types\n",
      "2021-08-16 14:31:39,554 : INFO : PROGRESS: at sentence #2630000, processed 27883516 words, keeping 30200 word types\n",
      "2021-08-16 14:31:39,589 : INFO : PROGRESS: at sentence #2640000, processed 27984951 words, keeping 30209 word types\n",
      "2021-08-16 14:31:39,627 : INFO : PROGRESS: at sentence #2650000, processed 28088439 words, keeping 30220 word types\n",
      "2021-08-16 14:31:39,666 : INFO : PROGRESS: at sentence #2660000, processed 28187294 words, keeping 30229 word types\n",
      "2021-08-16 14:31:39,703 : INFO : PROGRESS: at sentence #2670000, processed 28296806 words, keeping 30246 word types\n",
      "2021-08-16 14:31:39,743 : INFO : PROGRESS: at sentence #2680000, processed 28406924 words, keeping 30257 word types\n",
      "2021-08-16 14:31:39,780 : INFO : PROGRESS: at sentence #2690000, processed 28512790 words, keeping 30268 word types\n",
      "2021-08-16 14:31:39,818 : INFO : PROGRESS: at sentence #2700000, processed 28611715 words, keeping 30282 word types\n",
      "2021-08-16 14:31:39,850 : INFO : PROGRESS: at sentence #2710000, processed 28709071 words, keeping 30289 word types\n",
      "2021-08-16 14:31:39,889 : INFO : PROGRESS: at sentence #2720000, processed 28808057 words, keeping 30302 word types\n",
      "2021-08-16 14:31:39,926 : INFO : PROGRESS: at sentence #2730000, processed 28907308 words, keeping 30311 word types\n",
      "2021-08-16 14:31:39,968 : INFO : PROGRESS: at sentence #2740000, processed 29011757 words, keeping 30324 word types\n",
      "2021-08-16 14:31:40,009 : INFO : PROGRESS: at sentence #2750000, processed 29118528 words, keeping 30344 word types\n",
      "2021-08-16 14:31:40,050 : INFO : PROGRESS: at sentence #2760000, processed 29224081 words, keeping 30355 word types\n",
      "2021-08-16 14:31:40,087 : INFO : PROGRESS: at sentence #2770000, processed 29328936 words, keeping 30359 word types\n",
      "2021-08-16 14:31:40,124 : INFO : PROGRESS: at sentence #2780000, processed 29429679 words, keeping 30369 word types\n",
      "2021-08-16 14:31:40,161 : INFO : PROGRESS: at sentence #2790000, processed 29528522 words, keeping 30376 word types\n",
      "2021-08-16 14:31:40,200 : INFO : PROGRESS: at sentence #2800000, processed 29636045 words, keeping 30386 word types\n",
      "2021-08-16 14:31:40,235 : INFO : PROGRESS: at sentence #2810000, processed 29747629 words, keeping 30399 word types\n",
      "2021-08-16 14:31:40,276 : INFO : PROGRESS: at sentence #2820000, processed 29861388 words, keeping 30414 word types\n",
      "2021-08-16 14:31:40,310 : INFO : PROGRESS: at sentence #2830000, processed 29967205 words, keeping 30424 word types\n",
      "2021-08-16 14:31:40,347 : INFO : PROGRESS: at sentence #2840000, processed 30070239 words, keeping 30438 word types\n",
      "2021-08-16 14:31:40,387 : INFO : PROGRESS: at sentence #2850000, processed 30184408 words, keeping 30456 word types\n",
      "2021-08-16 14:31:40,426 : INFO : PROGRESS: at sentence #2860000, processed 30291246 words, keeping 30468 word types\n",
      "2021-08-16 14:31:40,465 : INFO : PROGRESS: at sentence #2870000, processed 30400058 words, keeping 30482 word types\n",
      "2021-08-16 14:31:40,503 : INFO : PROGRESS: at sentence #2880000, processed 30506241 words, keeping 30495 word types\n",
      "2021-08-16 14:31:40,542 : INFO : PROGRESS: at sentence #2890000, processed 30617008 words, keeping 30507 word types\n",
      "2021-08-16 14:31:40,582 : INFO : PROGRESS: at sentence #2900000, processed 30727104 words, keeping 30519 word types\n",
      "2021-08-16 14:31:40,620 : INFO : PROGRESS: at sentence #2910000, processed 30831812 words, keeping 30536 word types\n",
      "2021-08-16 14:31:40,656 : INFO : PROGRESS: at sentence #2920000, processed 30931239 words, keeping 30543 word types\n",
      "2021-08-16 14:31:40,694 : INFO : PROGRESS: at sentence #2930000, processed 31032510 words, keeping 30549 word types\n",
      "2021-08-16 14:31:40,734 : INFO : PROGRESS: at sentence #2940000, processed 31143850 words, keeping 30558 word types\n",
      "2021-08-16 14:31:40,774 : INFO : PROGRESS: at sentence #2950000, processed 31251832 words, keeping 30567 word types\n",
      "2021-08-16 14:31:40,818 : INFO : PROGRESS: at sentence #2960000, processed 31358037 words, keeping 30579 word types\n",
      "2021-08-16 14:31:40,861 : INFO : PROGRESS: at sentence #2970000, processed 31469882 words, keeping 30592 word types\n",
      "2021-08-16 14:31:40,901 : INFO : PROGRESS: at sentence #2980000, processed 31575859 words, keeping 30609 word types\n",
      "2021-08-16 14:31:40,938 : INFO : PROGRESS: at sentence #2990000, processed 31677194 words, keeping 30621 word types\n",
      "2021-08-16 14:31:40,981 : INFO : PROGRESS: at sentence #3000000, processed 31798538 words, keeping 30634 word types\n",
      "2021-08-16 14:31:41,018 : INFO : PROGRESS: at sentence #3010000, processed 31897543 words, keeping 30644 word types\n",
      "2021-08-16 14:31:41,053 : INFO : PROGRESS: at sentence #3020000, processed 32010178 words, keeping 30663 word types\n",
      "2021-08-16 14:31:41,092 : INFO : PROGRESS: at sentence #3030000, processed 32112207 words, keeping 30674 word types\n",
      "2021-08-16 14:31:41,126 : INFO : PROGRESS: at sentence #3040000, processed 32225974 words, keeping 30684 word types\n",
      "2021-08-16 14:31:41,165 : INFO : PROGRESS: at sentence #3050000, processed 32328712 words, keeping 30695 word types\n",
      "2021-08-16 14:31:41,197 : INFO : PROGRESS: at sentence #3060000, processed 32435077 words, keeping 30707 word types\n",
      "2021-08-16 14:31:41,232 : INFO : PROGRESS: at sentence #3070000, processed 32532683 words, keeping 30716 word types\n",
      "2021-08-16 14:31:41,270 : INFO : PROGRESS: at sentence #3080000, processed 32638526 words, keeping 30724 word types\n",
      "2021-08-16 14:31:41,307 : INFO : PROGRESS: at sentence #3090000, processed 32739346 words, keeping 30728 word types\n",
      "2021-08-16 14:31:41,346 : INFO : PROGRESS: at sentence #3100000, processed 32844878 words, keeping 30737 word types\n",
      "2021-08-16 14:31:41,380 : INFO : PROGRESS: at sentence #3110000, processed 32949655 words, keeping 30749 word types\n",
      "2021-08-16 14:31:41,417 : INFO : PROGRESS: at sentence #3120000, processed 33052431 words, keeping 30758 word types\n",
      "2021-08-16 14:31:41,458 : INFO : PROGRESS: at sentence #3130000, processed 33163090 words, keeping 30768 word types\n",
      "2021-08-16 14:31:41,500 : INFO : PROGRESS: at sentence #3140000, processed 33275420 words, keeping 30777 word types\n",
      "2021-08-16 14:31:41,534 : INFO : PROGRESS: at sentence #3150000, processed 33365909 words, keeping 30782 word types\n",
      "2021-08-16 14:31:41,575 : INFO : PROGRESS: at sentence #3160000, processed 33475172 words, keeping 30792 word types\n",
      "2021-08-16 14:31:41,612 : INFO : PROGRESS: at sentence #3170000, processed 33580444 words, keeping 30802 word types\n",
      "2021-08-16 14:31:41,650 : INFO : PROGRESS: at sentence #3180000, processed 33682652 words, keeping 30809 word types\n",
      "2021-08-16 14:31:41,689 : INFO : PROGRESS: at sentence #3190000, processed 33786487 words, keeping 30814 word types\n",
      "2021-08-16 14:31:41,725 : INFO : PROGRESS: at sentence #3200000, processed 33897086 words, keeping 30825 word types\n",
      "2021-08-16 14:31:41,766 : INFO : PROGRESS: at sentence #3210000, processed 33998400 words, keeping 30828 word types\n",
      "2021-08-16 14:31:41,801 : INFO : PROGRESS: at sentence #3220000, processed 34098232 words, keeping 30843 word types\n",
      "2021-08-16 14:31:41,839 : INFO : PROGRESS: at sentence #3230000, processed 34199114 words, keeping 30851 word types\n",
      "2021-08-16 14:31:41,874 : INFO : PROGRESS: at sentence #3240000, processed 34310954 words, keeping 30862 word types\n",
      "2021-08-16 14:31:41,880 : INFO : collected 30862 word types from a corpus of 34321552 raw words and 3240903 sentences\n",
      "2021-08-16 14:31:41,881 : INFO : Loading a fresh vocabulary\n",
      "2021-08-16 14:31:41,986 : INFO : effective_min_count=1 retains 30862 unique words (100% of original 30862, drops 0)\n",
      "2021-08-16 14:31:41,987 : INFO : effective_min_count=1 leaves 34321552 word corpus (100% of original 34321552, drops 0)\n",
      "2021-08-16 14:31:42,079 : INFO : deleting the raw counts dictionary of 30862 items\n",
      "2021-08-16 14:31:42,081 : INFO : sample=0.001 downsamples 29 most-common words\n",
      "2021-08-16 14:31:42,082 : INFO : downsampling leaves estimated 31282209 word corpus (91.1% of prior 34321552)\n",
      "2021-08-16 14:31:42,179 : INFO : estimated required memory for 30862 words and 32 dimensions: 23331672 bytes\n",
      "2021-08-16 14:31:42,180 : INFO : resetting layer weights\n",
      "2021-08-16 14:31:42,530 : INFO : training model with 4 workers on 30862 vocabulary and 32 features, using sg=1 hs=0 sample=0.001 negative=5 window=20\n",
      "2021-08-16 14:31:43,562 : INFO : EPOCH 1 - PROGRESS: at 0.74% examples, 230539 words/s, in_qsize 6, out_qsize 1\n",
      "2021-08-16 14:31:44,571 : INFO : EPOCH 1 - PROGRESS: at 1.55% examples, 239879 words/s, in_qsize 7, out_qsize 0\n",
      "2021-08-16 14:31:45,580 : INFO : EPOCH 1 - PROGRESS: at 2.37% examples, 243334 words/s, in_qsize 7, out_qsize 0\n",
      "2021-08-16 14:31:46,641 : INFO : EPOCH 1 - PROGRESS: at 3.23% examples, 244229 words/s, in_qsize 6, out_qsize 1\n",
      "2021-08-16 14:31:47,661 : INFO : EPOCH 1 - PROGRESS: at 4.04% examples, 244433 words/s, in_qsize 7, out_qsize 0\n",
      "2021-08-16 14:31:48,671 : INFO : EPOCH 1 - PROGRESS: at 4.85% examples, 245426 words/s, in_qsize 7, out_qsize 0\n",
      "2021-08-16 14:31:49,683 : INFO : EPOCH 1 - PROGRESS: at 5.64% examples, 246093 words/s, in_qsize 7, out_qsize 0\n",
      "2021-08-16 14:31:50,689 : INFO : EPOCH 1 - PROGRESS: at 6.50% examples, 247814 words/s, in_qsize 7, out_qsize 0\n",
      "2021-08-16 14:31:51,708 : INFO : EPOCH 1 - PROGRESS: at 7.37% examples, 248725 words/s, in_qsize 7, out_qsize 0\n",
      "2021-08-16 14:31:52,750 : INFO : EPOCH 1 - PROGRESS: at 8.25% examples, 249846 words/s, in_qsize 7, out_qsize 0\n",
      "2021-08-16 14:31:53,758 : INFO : EPOCH 1 - PROGRESS: at 9.05% examples, 250003 words/s, in_qsize 7, out_qsize 0\n",
      "2021-08-16 14:31:54,781 : INFO : EPOCH 1 - PROGRESS: at 9.91% examples, 251319 words/s, in_qsize 7, out_qsize 0\n",
      "2021-08-16 14:31:55,800 : INFO : EPOCH 1 - PROGRESS: at 10.69% examples, 250363 words/s, in_qsize 7, out_qsize 0\n",
      "2021-08-16 14:31:56,906 : INFO : EPOCH 1 - PROGRESS: at 11.44% examples, 247470 words/s, in_qsize 8, out_qsize 1\n",
      "2021-08-16 14:31:57,938 : INFO : EPOCH 1 - PROGRESS: at 12.28% examples, 247580 words/s, in_qsize 7, out_qsize 0\n",
      "2021-08-16 14:31:58,940 : INFO : EPOCH 1 - PROGRESS: at 13.03% examples, 246877 words/s, in_qsize 7, out_qsize 0\n",
      "2021-08-16 14:31:59,974 : INFO : EPOCH 1 - PROGRESS: at 13.78% examples, 245764 words/s, in_qsize 8, out_qsize 0\n",
      "2021-08-16 14:32:00,991 : INFO : EPOCH 1 - PROGRESS: at 14.54% examples, 245360 words/s, in_qsize 8, out_qsize 0\n",
      "2021-08-16 14:32:02,044 : INFO : EPOCH 1 - PROGRESS: at 15.28% examples, 243596 words/s, in_qsize 7, out_qsize 0\n",
      "2021-08-16 14:32:03,072 : INFO : EPOCH 1 - PROGRESS: at 16.15% examples, 244612 words/s, in_qsize 7, out_qsize 0\n",
      "2021-08-16 14:32:04,092 : INFO : EPOCH 1 - PROGRESS: at 16.79% examples, 242664 words/s, in_qsize 7, out_qsize 0\n",
      "2021-08-16 14:32:05,115 : INFO : EPOCH 1 - PROGRESS: at 17.57% examples, 242093 words/s, in_qsize 7, out_qsize 0\n",
      "2021-08-16 14:32:06,119 : INFO : EPOCH 1 - PROGRESS: at 18.33% examples, 241297 words/s, in_qsize 7, out_qsize 0\n"
     ]
    },
    {
     "name": "stderr",
     "output_type": "stream",
     "text": [
      "2021-08-16 14:32:07,137 : INFO : EPOCH 1 - PROGRESS: at 18.97% examples, 239807 words/s, in_qsize 7, out_qsize 0\n",
      "2021-08-16 14:32:08,173 : INFO : EPOCH 1 - PROGRESS: at 19.67% examples, 238950 words/s, in_qsize 7, out_qsize 0\n",
      "2021-08-16 14:32:09,248 : INFO : EPOCH 1 - PROGRESS: at 20.48% examples, 239031 words/s, in_qsize 7, out_qsize 0\n",
      "2021-08-16 14:32:10,257 : INFO : EPOCH 1 - PROGRESS: at 21.38% examples, 240468 words/s, in_qsize 7, out_qsize 0\n",
      "2021-08-16 14:32:11,267 : INFO : EPOCH 1 - PROGRESS: at 22.12% examples, 239885 words/s, in_qsize 7, out_qsize 0\n",
      "2021-08-16 14:32:12,295 : INFO : EPOCH 1 - PROGRESS: at 22.94% examples, 240111 words/s, in_qsize 7, out_qsize 0\n",
      "2021-08-16 14:32:13,381 : INFO : EPOCH 1 - PROGRESS: at 23.78% examples, 240165 words/s, in_qsize 8, out_qsize 0\n",
      "2021-08-16 14:32:14,400 : INFO : EPOCH 1 - PROGRESS: at 24.67% examples, 240967 words/s, in_qsize 7, out_qsize 0\n",
      "2021-08-16 14:32:15,412 : INFO : EPOCH 1 - PROGRESS: at 25.53% examples, 241482 words/s, in_qsize 7, out_qsize 0\n",
      "2021-08-16 14:32:16,423 : INFO : EPOCH 1 - PROGRESS: at 26.36% examples, 242056 words/s, in_qsize 7, out_qsize 0\n",
      "2021-08-16 14:32:17,501 : INFO : EPOCH 1 - PROGRESS: at 27.24% examples, 242617 words/s, in_qsize 7, out_qsize 0\n",
      "2021-08-16 14:32:18,508 : INFO : EPOCH 1 - PROGRESS: at 28.10% examples, 242854 words/s, in_qsize 7, out_qsize 0\n",
      "2021-08-16 14:32:19,520 : INFO : EPOCH 1 - PROGRESS: at 28.90% examples, 243007 words/s, in_qsize 7, out_qsize 0\n",
      "2021-08-16 14:32:20,541 : INFO : EPOCH 1 - PROGRESS: at 29.64% examples, 242627 words/s, in_qsize 7, out_qsize 0\n",
      "2021-08-16 14:32:21,551 : INFO : EPOCH 1 - PROGRESS: at 30.43% examples, 242623 words/s, in_qsize 7, out_qsize 0\n",
      "2021-08-16 14:32:22,559 : INFO : EPOCH 1 - PROGRESS: at 31.16% examples, 242101 words/s, in_qsize 7, out_qsize 0\n",
      "2021-08-16 14:32:23,578 : INFO : EPOCH 1 - PROGRESS: at 32.05% examples, 242479 words/s, in_qsize 7, out_qsize 0\n",
      "2021-08-16 14:32:24,602 : INFO : EPOCH 1 - PROGRESS: at 32.94% examples, 243241 words/s, in_qsize 7, out_qsize 0\n",
      "2021-08-16 14:32:25,646 : INFO : EPOCH 1 - PROGRESS: at 33.77% examples, 243445 words/s, in_qsize 7, out_qsize 0\n",
      "2021-08-16 14:32:26,705 : INFO : EPOCH 1 - PROGRESS: at 34.66% examples, 243949 words/s, in_qsize 7, out_qsize 0\n",
      "2021-08-16 14:32:27,722 : INFO : EPOCH 1 - PROGRESS: at 35.48% examples, 244458 words/s, in_qsize 7, out_qsize 0\n",
      "2021-08-16 14:32:28,738 : INFO : EPOCH 1 - PROGRESS: at 36.29% examples, 244796 words/s, in_qsize 7, out_qsize 0\n",
      "2021-08-16 14:32:29,781 : INFO : EPOCH 1 - PROGRESS: at 37.16% examples, 245079 words/s, in_qsize 7, out_qsize 0\n",
      "2021-08-16 14:32:30,785 : INFO : EPOCH 1 - PROGRESS: at 37.98% examples, 245603 words/s, in_qsize 7, out_qsize 0\n",
      "2021-08-16 14:32:31,829 : INFO : EPOCH 1 - PROGRESS: at 38.87% examples, 245909 words/s, in_qsize 8, out_qsize 0\n",
      "2021-08-16 14:32:32,860 : INFO : EPOCH 1 - PROGRESS: at 39.76% examples, 246399 words/s, in_qsize 7, out_qsize 0\n",
      "2021-08-16 14:32:33,866 : INFO : EPOCH 1 - PROGRESS: at 40.58% examples, 246696 words/s, in_qsize 7, out_qsize 0\n",
      "2021-08-16 14:32:34,929 : INFO : EPOCH 1 - PROGRESS: at 41.43% examples, 246869 words/s, in_qsize 7, out_qsize 0\n",
      "2021-08-16 14:32:36,003 : INFO : EPOCH 1 - PROGRESS: at 42.35% examples, 247325 words/s, in_qsize 7, out_qsize 0\n",
      "2021-08-16 14:32:37,011 : INFO : EPOCH 1 - PROGRESS: at 43.27% examples, 247874 words/s, in_qsize 7, out_qsize 0\n",
      "2021-08-16 14:32:38,024 : INFO : EPOCH 1 - PROGRESS: at 44.14% examples, 248230 words/s, in_qsize 7, out_qsize 0\n",
      "2021-08-16 14:32:39,039 : INFO : EPOCH 1 - PROGRESS: at 45.01% examples, 248713 words/s, in_qsize 7, out_qsize 0\n",
      "2021-08-16 14:32:40,055 : INFO : EPOCH 1 - PROGRESS: at 45.83% examples, 248874 words/s, in_qsize 7, out_qsize 0\n",
      "2021-08-16 14:32:41,064 : INFO : EPOCH 1 - PROGRESS: at 46.67% examples, 249271 words/s, in_qsize 7, out_qsize 0\n",
      "2021-08-16 14:32:42,070 : INFO : EPOCH 1 - PROGRESS: at 47.50% examples, 249637 words/s, in_qsize 7, out_qsize 0\n",
      "2021-08-16 14:32:43,100 : INFO : EPOCH 1 - PROGRESS: at 48.32% examples, 249893 words/s, in_qsize 7, out_qsize 0\n",
      "2021-08-16 14:32:44,104 : INFO : EPOCH 1 - PROGRESS: at 49.17% examples, 250227 words/s, in_qsize 8, out_qsize 0\n",
      "2021-08-16 14:32:45,161 : INFO : EPOCH 1 - PROGRESS: at 50.06% examples, 250472 words/s, in_qsize 7, out_qsize 0\n",
      "2021-08-16 14:32:46,228 : INFO : EPOCH 1 - PROGRESS: at 50.98% examples, 250836 words/s, in_qsize 7, out_qsize 0\n",
      "2021-08-16 14:32:47,301 : INFO : EPOCH 1 - PROGRESS: at 51.89% examples, 251142 words/s, in_qsize 7, out_qsize 0\n",
      "2021-08-16 14:32:48,328 : INFO : EPOCH 1 - PROGRESS: at 52.84% examples, 251598 words/s, in_qsize 7, out_qsize 0\n",
      "2021-08-16 14:32:49,338 : INFO : EPOCH 1 - PROGRESS: at 53.79% examples, 252092 words/s, in_qsize 7, out_qsize 0\n",
      "2021-08-16 14:32:50,372 : INFO : EPOCH 1 - PROGRESS: at 54.69% examples, 252385 words/s, in_qsize 7, out_qsize 0\n",
      "2021-08-16 14:32:51,374 : INFO : EPOCH 1 - PROGRESS: at 55.57% examples, 252784 words/s, in_qsize 7, out_qsize 0\n",
      "2021-08-16 14:32:52,389 : INFO : EPOCH 1 - PROGRESS: at 56.41% examples, 252990 words/s, in_qsize 7, out_qsize 0\n",
      "2021-08-16 14:32:53,427 : INFO : EPOCH 1 - PROGRESS: at 57.27% examples, 253258 words/s, in_qsize 7, out_qsize 0\n",
      "2021-08-16 14:32:54,480 : INFO : EPOCH 1 - PROGRESS: at 58.07% examples, 253073 words/s, in_qsize 8, out_qsize 1\n",
      "2021-08-16 14:32:55,501 : INFO : EPOCH 1 - PROGRESS: at 58.82% examples, 252749 words/s, in_qsize 7, out_qsize 0\n",
      "2021-08-16 14:32:56,589 : INFO : EPOCH 1 - PROGRESS: at 59.70% examples, 252768 words/s, in_qsize 7, out_qsize 0\n",
      "2021-08-16 14:32:57,592 : INFO : EPOCH 1 - PROGRESS: at 60.59% examples, 253000 words/s, in_qsize 7, out_qsize 0\n",
      "2021-08-16 14:32:58,616 : INFO : EPOCH 1 - PROGRESS: at 61.42% examples, 253140 words/s, in_qsize 8, out_qsize 0\n",
      "2021-08-16 14:32:59,660 : INFO : EPOCH 1 - PROGRESS: at 62.37% examples, 253462 words/s, in_qsize 7, out_qsize 0\n",
      "2021-08-16 14:33:00,708 : INFO : EPOCH 1 - PROGRESS: at 63.32% examples, 253742 words/s, in_qsize 7, out_qsize 0\n",
      "2021-08-16 14:33:01,721 : INFO : EPOCH 1 - PROGRESS: at 64.23% examples, 254162 words/s, in_qsize 7, out_qsize 0\n",
      "2021-08-16 14:33:02,733 : INFO : EPOCH 1 - PROGRESS: at 65.09% examples, 254422 words/s, in_qsize 7, out_qsize 0\n",
      "2021-08-16 14:33:03,747 : INFO : EPOCH 1 - PROGRESS: at 65.95% examples, 254683 words/s, in_qsize 7, out_qsize 0\n",
      "2021-08-16 14:33:04,776 : INFO : EPOCH 1 - PROGRESS: at 66.88% examples, 255028 words/s, in_qsize 7, out_qsize 0\n",
      "2021-08-16 14:33:05,815 : INFO : EPOCH 1 - PROGRESS: at 67.84% examples, 255431 words/s, in_qsize 7, out_qsize 0\n",
      "2021-08-16 14:33:06,839 : INFO : EPOCH 1 - PROGRESS: at 68.79% examples, 255770 words/s, in_qsize 7, out_qsize 0\n",
      "2021-08-16 14:33:07,895 : INFO : EPOCH 1 - PROGRESS: at 69.63% examples, 255971 words/s, in_qsize 7, out_qsize 0\n",
      "2021-08-16 14:33:08,933 : INFO : EPOCH 1 - PROGRESS: at 70.54% examples, 256218 words/s, in_qsize 7, out_qsize 0\n",
      "2021-08-16 14:33:09,952 : INFO : EPOCH 1 - PROGRESS: at 71.55% examples, 256727 words/s, in_qsize 7, out_qsize 0\n",
      "2021-08-16 14:33:10,966 : INFO : EPOCH 1 - PROGRESS: at 72.49% examples, 257049 words/s, in_qsize 7, out_qsize 0\n",
      "2021-08-16 14:33:12,025 : INFO : EPOCH 1 - PROGRESS: at 73.40% examples, 257242 words/s, in_qsize 7, out_qsize 0\n",
      "2021-08-16 14:33:13,034 : INFO : EPOCH 1 - PROGRESS: at 74.35% examples, 257662 words/s, in_qsize 7, out_qsize 0\n",
      "2021-08-16 14:33:14,050 : INFO : EPOCH 1 - PROGRESS: at 75.33% examples, 258038 words/s, in_qsize 7, out_qsize 0\n",
      "2021-08-16 14:33:15,080 : INFO : EPOCH 1 - PROGRESS: at 76.28% examples, 258387 words/s, in_qsize 7, out_qsize 0\n",
      "2021-08-16 14:33:16,084 : INFO : EPOCH 1 - PROGRESS: at 77.19% examples, 258692 words/s, in_qsize 7, out_qsize 0\n",
      "2021-08-16 14:33:17,085 : INFO : EPOCH 1 - PROGRESS: at 78.15% examples, 259108 words/s, in_qsize 7, out_qsize 0\n",
      "2021-08-16 14:33:18,101 : INFO : EPOCH 1 - PROGRESS: at 79.03% examples, 259291 words/s, in_qsize 7, out_qsize 0\n",
      "2021-08-16 14:33:19,133 : INFO : EPOCH 1 - PROGRESS: at 80.02% examples, 259599 words/s, in_qsize 7, out_qsize 0\n",
      "2021-08-16 14:33:20,144 : INFO : EPOCH 1 - PROGRESS: at 80.99% examples, 259957 words/s, in_qsize 7, out_qsize 0\n",
      "2021-08-16 14:33:21,166 : INFO : EPOCH 1 - PROGRESS: at 82.01% examples, 260350 words/s, in_qsize 7, out_qsize 0\n"
     ]
    },
    {
     "name": "stderr",
     "output_type": "stream",
     "text": [
      "2021-08-16 14:33:22,193 : INFO : EPOCH 1 - PROGRESS: at 82.92% examples, 260568 words/s, in_qsize 7, out_qsize 0\n",
      "2021-08-16 14:33:23,248 : INFO : EPOCH 1 - PROGRESS: at 83.90% examples, 260695 words/s, in_qsize 7, out_qsize 0\n",
      "2021-08-16 14:33:24,252 : INFO : EPOCH 1 - PROGRESS: at 84.78% examples, 260762 words/s, in_qsize 7, out_qsize 0\n",
      "2021-08-16 14:33:25,288 : INFO : EPOCH 1 - PROGRESS: at 85.63% examples, 260679 words/s, in_qsize 7, out_qsize 0\n",
      "2021-08-16 14:33:26,298 : INFO : EPOCH 1 - PROGRESS: at 86.58% examples, 260922 words/s, in_qsize 7, out_qsize 0\n",
      "2021-08-16 14:33:27,340 : INFO : EPOCH 1 - PROGRESS: at 87.49% examples, 261174 words/s, in_qsize 7, out_qsize 0\n",
      "2021-08-16 14:33:28,345 : INFO : EPOCH 1 - PROGRESS: at 88.36% examples, 261329 words/s, in_qsize 7, out_qsize 0\n",
      "2021-08-16 14:33:29,368 : INFO : EPOCH 1 - PROGRESS: at 89.17% examples, 261276 words/s, in_qsize 6, out_qsize 1\n",
      "2021-08-16 14:33:30,398 : INFO : EPOCH 1 - PROGRESS: at 90.05% examples, 261297 words/s, in_qsize 7, out_qsize 0\n",
      "2021-08-16 14:33:31,447 : INFO : EPOCH 1 - PROGRESS: at 90.99% examples, 261506 words/s, in_qsize 7, out_qsize 0\n",
      "2021-08-16 14:33:32,473 : INFO : EPOCH 1 - PROGRESS: at 91.89% examples, 261698 words/s, in_qsize 7, out_qsize 0\n",
      "2021-08-16 14:33:33,480 : INFO : EPOCH 1 - PROGRESS: at 92.81% examples, 261937 words/s, in_qsize 7, out_qsize 0\n",
      "2021-08-16 14:33:34,489 : INFO : EPOCH 1 - PROGRESS: at 93.74% examples, 262245 words/s, in_qsize 7, out_qsize 0\n",
      "2021-08-16 14:33:35,518 : INFO : EPOCH 1 - PROGRESS: at 94.75% examples, 262573 words/s, in_qsize 7, out_qsize 0\n",
      "2021-08-16 14:33:36,563 : INFO : EPOCH 1 - PROGRESS: at 95.73% examples, 262855 words/s, in_qsize 7, out_qsize 0\n",
      "2021-08-16 14:33:37,632 : INFO : EPOCH 1 - PROGRESS: at 96.77% examples, 263204 words/s, in_qsize 7, out_qsize 0\n",
      "2021-08-16 14:33:38,657 : INFO : EPOCH 1 - PROGRESS: at 97.78% examples, 263538 words/s, in_qsize 7, out_qsize 0\n",
      "2021-08-16 14:33:39,707 : INFO : EPOCH 1 - PROGRESS: at 98.77% examples, 263790 words/s, in_qsize 7, out_qsize 0\n",
      "2021-08-16 14:33:40,722 : INFO : EPOCH 1 - PROGRESS: at 99.77% examples, 264120 words/s, in_qsize 7, out_qsize 0\n",
      "2021-08-16 14:33:40,866 : INFO : worker thread finished; awaiting finish of 3 more threads\n",
      "2021-08-16 14:33:40,940 : INFO : worker thread finished; awaiting finish of 2 more threads\n",
      "2021-08-16 14:33:40,955 : INFO : worker thread finished; awaiting finish of 1 more threads\n",
      "2021-08-16 14:33:40,979 : INFO : worker thread finished; awaiting finish of 0 more threads\n",
      "2021-08-16 14:33:40,980 : INFO : EPOCH - 1 : training on 34321552 raw words (31281290 effective words) took 118.4s, 264153 effective words/s\n",
      "2021-08-16 14:33:42,052 : INFO : EPOCH 2 - PROGRESS: at 0.95% examples, 279303 words/s, in_qsize 7, out_qsize 0\n",
      "2021-08-16 14:33:43,079 : INFO : EPOCH 2 - PROGRESS: at 1.95% examples, 293240 words/s, in_qsize 7, out_qsize 0\n",
      "2021-08-16 14:33:44,087 : INFO : EPOCH 2 - PROGRESS: at 2.96% examples, 296657 words/s, in_qsize 7, out_qsize 0\n",
      "2021-08-16 14:33:45,107 : INFO : EPOCH 2 - PROGRESS: at 3.93% examples, 295107 words/s, in_qsize 7, out_qsize 0\n",
      "2021-08-16 14:33:46,181 : INFO : EPOCH 2 - PROGRESS: at 4.95% examples, 296577 words/s, in_qsize 7, out_qsize 0\n",
      "2021-08-16 14:33:47,232 : INFO : EPOCH 2 - PROGRESS: at 6.01% examples, 298558 words/s, in_qsize 7, out_qsize 0\n",
      "2021-08-16 14:33:48,251 : INFO : EPOCH 2 - PROGRESS: at 7.04% examples, 300061 words/s, in_qsize 7, out_qsize 0\n",
      "2021-08-16 14:33:49,292 : INFO : EPOCH 2 - PROGRESS: at 8.07% examples, 300465 words/s, in_qsize 7, out_qsize 0\n",
      "2021-08-16 14:33:50,307 : INFO : EPOCH 2 - PROGRESS: at 9.06% examples, 300706 words/s, in_qsize 7, out_qsize 0\n",
      "2021-08-16 14:33:51,327 : INFO : EPOCH 2 - PROGRESS: at 10.03% examples, 300811 words/s, in_qsize 7, out_qsize 0\n",
      "2021-08-16 14:33:52,363 : INFO : EPOCH 2 - PROGRESS: at 10.98% examples, 299602 words/s, in_qsize 7, out_qsize 0\n",
      "2021-08-16 14:33:53,437 : INFO : EPOCH 2 - PROGRESS: at 12.02% examples, 299800 words/s, in_qsize 7, out_qsize 0\n",
      "2021-08-16 14:33:54,443 : INFO : EPOCH 2 - PROGRESS: at 13.03% examples, 300716 words/s, in_qsize 7, out_qsize 0\n",
      "2021-08-16 14:33:55,497 : INFO : EPOCH 2 - PROGRESS: at 13.99% examples, 300050 words/s, in_qsize 7, out_qsize 0\n",
      "2021-08-16 14:33:56,558 : INFO : EPOCH 2 - PROGRESS: at 15.07% examples, 300406 words/s, in_qsize 7, out_qsize 0\n",
      "2021-08-16 14:33:57,595 : INFO : EPOCH 2 - PROGRESS: at 16.09% examples, 301119 words/s, in_qsize 7, out_qsize 0\n",
      "2021-08-16 14:33:58,596 : INFO : EPOCH 2 - PROGRESS: at 17.03% examples, 300959 words/s, in_qsize 7, out_qsize 0\n",
      "2021-08-16 14:33:59,605 : INFO : EPOCH 2 - PROGRESS: at 18.08% examples, 301618 words/s, in_qsize 7, out_qsize 0\n",
      "2021-08-16 14:34:00,652 : INFO : EPOCH 2 - PROGRESS: at 19.06% examples, 301614 words/s, in_qsize 7, out_qsize 0\n",
      "2021-08-16 14:34:01,660 : INFO : EPOCH 2 - PROGRESS: at 20.04% examples, 301809 words/s, in_qsize 7, out_qsize 0\n",
      "2021-08-16 14:34:02,663 : INFO : EPOCH 2 - PROGRESS: at 20.99% examples, 301903 words/s, in_qsize 7, out_qsize 0\n",
      "2021-08-16 14:34:03,700 : INFO : EPOCH 2 - PROGRESS: at 22.00% examples, 301646 words/s, in_qsize 7, out_qsize 0\n",
      "2021-08-16 14:34:04,731 : INFO : EPOCH 2 - PROGRESS: at 23.02% examples, 301899 words/s, in_qsize 7, out_qsize 0\n",
      "2021-08-16 14:34:05,769 : INFO : EPOCH 2 - PROGRESS: at 24.01% examples, 301664 words/s, in_qsize 7, out_qsize 0\n",
      "2021-08-16 14:34:06,810 : INFO : EPOCH 2 - PROGRESS: at 25.08% examples, 302087 words/s, in_qsize 7, out_qsize 0\n",
      "2021-08-16 14:34:07,844 : INFO : EPOCH 2 - PROGRESS: at 26.10% examples, 302180 words/s, in_qsize 7, out_qsize 0\n",
      "2021-08-16 14:34:08,909 : INFO : EPOCH 2 - PROGRESS: at 27.13% examples, 302349 words/s, in_qsize 7, out_qsize 0\n",
      "2021-08-16 14:34:09,960 : INFO : EPOCH 2 - PROGRESS: at 28.21% examples, 302607 words/s, in_qsize 7, out_qsize 0\n",
      "2021-08-16 14:34:11,000 : INFO : EPOCH 2 - PROGRESS: at 29.24% examples, 302878 words/s, in_qsize 7, out_qsize 0\n",
      "2021-08-16 14:34:12,006 : INFO : EPOCH 2 - PROGRESS: at 30.18% examples, 302683 words/s, in_qsize 7, out_qsize 0\n",
      "2021-08-16 14:34:13,007 : INFO : EPOCH 2 - PROGRESS: at 31.23% examples, 303036 words/s, in_qsize 7, out_qsize 0\n",
      "2021-08-16 14:34:14,078 : INFO : EPOCH 2 - PROGRESS: at 32.27% examples, 302789 words/s, in_qsize 7, out_qsize 0\n",
      "2021-08-16 14:34:15,156 : INFO : EPOCH 2 - PROGRESS: at 33.31% examples, 302750 words/s, in_qsize 7, out_qsize 0\n",
      "2021-08-16 14:34:16,160 : INFO : EPOCH 2 - PROGRESS: at 34.31% examples, 303100 words/s, in_qsize 7, out_qsize 0\n",
      "2021-08-16 14:34:17,179 : INFO : EPOCH 2 - PROGRESS: at 35.30% examples, 303308 words/s, in_qsize 7, out_qsize 0\n",
      "2021-08-16 14:34:18,229 : INFO : EPOCH 2 - PROGRESS: at 36.20% examples, 302815 words/s, in_qsize 7, out_qsize 0\n",
      "2021-08-16 14:34:19,239 : INFO : EPOCH 2 - PROGRESS: at 37.24% examples, 303270 words/s, in_qsize 7, out_qsize 0\n",
      "2021-08-16 14:34:20,276 : INFO : EPOCH 2 - PROGRESS: at 38.15% examples, 302869 words/s, in_qsize 7, out_qsize 0\n",
      "2021-08-16 14:34:21,342 : INFO : EPOCH 2 - PROGRESS: at 39.19% examples, 302899 words/s, in_qsize 7, out_qsize 0\n",
      "2021-08-16 14:34:22,352 : INFO : EPOCH 2 - PROGRESS: at 40.15% examples, 302710 words/s, in_qsize 6, out_qsize 1\n",
      "2021-08-16 14:34:23,369 : INFO : EPOCH 2 - PROGRESS: at 41.00% examples, 301655 words/s, in_qsize 7, out_qsize 0\n",
      "2021-08-16 14:34:24,380 : INFO : EPOCH 2 - PROGRESS: at 41.89% examples, 301292 words/s, in_qsize 7, out_qsize 0\n",
      "2021-08-16 14:34:25,429 : INFO : EPOCH 2 - PROGRESS: at 42.84% examples, 300670 words/s, in_qsize 7, out_qsize 0\n",
      "2021-08-16 14:34:26,451 : INFO : EPOCH 2 - PROGRESS: at 43.79% examples, 300467 words/s, in_qsize 7, out_qsize 0\n",
      "2021-08-16 14:34:27,459 : INFO : EPOCH 2 - PROGRESS: at 44.78% examples, 300745 words/s, in_qsize 7, out_qsize 0\n",
      "2021-08-16 14:34:28,490 : INFO : EPOCH 2 - PROGRESS: at 45.71% examples, 300503 words/s, in_qsize 7, out_qsize 0\n",
      "2021-08-16 14:34:29,501 : INFO : EPOCH 2 - PROGRESS: at 46.67% examples, 300629 words/s, in_qsize 7, out_qsize 0\n",
      "2021-08-16 14:34:30,518 : INFO : EPOCH 2 - PROGRESS: at 47.58% examples, 300509 words/s, in_qsize 7, out_qsize 0\n",
      "2021-08-16 14:34:31,524 : INFO : EPOCH 2 - PROGRESS: at 48.54% examples, 300629 words/s, in_qsize 8, out_qsize 0\n",
      "2021-08-16 14:34:32,567 : INFO : EPOCH 2 - PROGRESS: at 49.49% examples, 300519 words/s, in_qsize 7, out_qsize 0\n"
     ]
    },
    {
     "name": "stderr",
     "output_type": "stream",
     "text": [
      "2021-08-16 14:34:33,639 : INFO : EPOCH 2 - PROGRESS: at 50.54% examples, 300577 words/s, in_qsize 7, out_qsize 0\n",
      "2021-08-16 14:34:34,701 : INFO : EPOCH 2 - PROGRESS: at 51.56% examples, 300711 words/s, in_qsize 7, out_qsize 0\n",
      "2021-08-16 14:34:35,730 : INFO : EPOCH 2 - PROGRESS: at 52.62% examples, 300974 words/s, in_qsize 7, out_qsize 0\n",
      "2021-08-16 14:34:36,735 : INFO : EPOCH 2 - PROGRESS: at 53.65% examples, 301188 words/s, in_qsize 7, out_qsize 0\n",
      "2021-08-16 14:34:37,738 : INFO : EPOCH 2 - PROGRESS: at 54.63% examples, 301282 words/s, in_qsize 7, out_qsize 0\n",
      "2021-08-16 14:34:38,744 : INFO : EPOCH 2 - PROGRESS: at 55.60% examples, 301360 words/s, in_qsize 7, out_qsize 0\n",
      "2021-08-16 14:34:39,767 : INFO : EPOCH 2 - PROGRESS: at 56.57% examples, 301324 words/s, in_qsize 7, out_qsize 0\n",
      "2021-08-16 14:34:40,779 : INFO : EPOCH 2 - PROGRESS: at 57.54% examples, 301537 words/s, in_qsize 7, out_qsize 0\n",
      "2021-08-16 14:34:41,803 : INFO : EPOCH 2 - PROGRESS: at 58.49% examples, 301377 words/s, in_qsize 7, out_qsize 0\n",
      "2021-08-16 14:34:42,847 : INFO : EPOCH 2 - PROGRESS: at 59.48% examples, 301337 words/s, in_qsize 7, out_qsize 0\n",
      "2021-08-16 14:34:43,884 : INFO : EPOCH 2 - PROGRESS: at 60.53% examples, 301557 words/s, in_qsize 7, out_qsize 0\n",
      "2021-08-16 14:34:44,888 : INFO : EPOCH 2 - PROGRESS: at 61.45% examples, 301458 words/s, in_qsize 7, out_qsize 0\n",
      "2021-08-16 14:34:45,930 : INFO : EPOCH 2 - PROGRESS: at 62.52% examples, 301624 words/s, in_qsize 7, out_qsize 0\n",
      "2021-08-16 14:34:46,937 : INFO : EPOCH 2 - PROGRESS: at 63.54% examples, 301808 words/s, in_qsize 7, out_qsize 0\n",
      "2021-08-16 14:34:47,959 : INFO : EPOCH 2 - PROGRESS: at 64.48% examples, 301808 words/s, in_qsize 7, out_qsize 0\n",
      "2021-08-16 14:34:48,960 : INFO : EPOCH 2 - PROGRESS: at 65.49% examples, 301995 words/s, in_qsize 7, out_qsize 0\n",
      "2021-08-16 14:34:49,987 : INFO : EPOCH 2 - PROGRESS: at 66.48% examples, 302058 words/s, in_qsize 7, out_qsize 0\n",
      "2021-08-16 14:34:50,990 : INFO : EPOCH 2 - PROGRESS: at 67.43% examples, 302008 words/s, in_qsize 7, out_qsize 0\n",
      "2021-08-16 14:34:52,028 : INFO : EPOCH 2 - PROGRESS: at 68.46% examples, 302062 words/s, in_qsize 7, out_qsize 0\n",
      "2021-08-16 14:34:53,074 : INFO : EPOCH 2 - PROGRESS: at 69.42% examples, 302031 words/s, in_qsize 7, out_qsize 0\n",
      "2021-08-16 14:34:54,150 : INFO : EPOCH 2 - PROGRESS: at 70.44% examples, 302007 words/s, in_qsize 7, out_qsize 0\n",
      "2021-08-16 14:34:55,183 : INFO : EPOCH 2 - PROGRESS: at 71.49% examples, 302169 words/s, in_qsize 7, out_qsize 0\n",
      "2021-08-16 14:34:56,198 : INFO : EPOCH 2 - PROGRESS: at 72.51% examples, 302295 words/s, in_qsize 7, out_qsize 0\n",
      "2021-08-16 14:34:57,248 : INFO : EPOCH 2 - PROGRESS: at 73.51% examples, 302278 words/s, in_qsize 7, out_qsize 0\n",
      "2021-08-16 14:34:58,257 : INFO : EPOCH 2 - PROGRESS: at 74.52% examples, 302419 words/s, in_qsize 7, out_qsize 0\n",
      "2021-08-16 14:34:59,268 : INFO : EPOCH 2 - PROGRESS: at 75.55% examples, 302533 words/s, in_qsize 7, out_qsize 0\n",
      "2021-08-16 14:35:00,292 : INFO : EPOCH 2 - PROGRESS: at 76.57% examples, 302594 words/s, in_qsize 7, out_qsize 0\n",
      "2021-08-16 14:35:01,294 : INFO : EPOCH 2 - PROGRESS: at 77.47% examples, 302416 words/s, in_qsize 7, out_qsize 0\n",
      "2021-08-16 14:35:02,334 : INFO : EPOCH 2 - PROGRESS: at 78.52% examples, 302549 words/s, in_qsize 7, out_qsize 0\n",
      "2021-08-16 14:35:03,356 : INFO : EPOCH 2 - PROGRESS: at 79.55% examples, 302631 words/s, in_qsize 7, out_qsize 0\n",
      "2021-08-16 14:35:04,359 : INFO : EPOCH 2 - PROGRESS: at 80.53% examples, 302673 words/s, in_qsize 7, out_qsize 0\n",
      "2021-08-16 14:35:05,370 : INFO : EPOCH 2 - PROGRESS: at 81.59% examples, 302781 words/s, in_qsize 7, out_qsize 0\n",
      "2021-08-16 14:35:06,405 : INFO : EPOCH 2 - PROGRESS: at 82.60% examples, 302795 words/s, in_qsize 7, out_qsize 0\n",
      "2021-08-16 14:35:07,425 : INFO : EPOCH 2 - PROGRESS: at 83.68% examples, 302967 words/s, in_qsize 7, out_qsize 0\n",
      "2021-08-16 14:35:08,466 : INFO : EPOCH 2 - PROGRESS: at 84.72% examples, 302942 words/s, in_qsize 7, out_qsize 0\n",
      "2021-08-16 14:35:09,509 : INFO : EPOCH 2 - PROGRESS: at 85.78% examples, 303041 words/s, in_qsize 7, out_qsize 0\n",
      "2021-08-16 14:35:10,510 : INFO : EPOCH 2 - PROGRESS: at 86.79% examples, 303185 words/s, in_qsize 7, out_qsize 0\n",
      "2021-08-16 14:35:11,512 : INFO : EPOCH 2 - PROGRESS: at 87.70% examples, 303095 words/s, in_qsize 7, out_qsize 0\n",
      "2021-08-16 14:35:12,554 : INFO : EPOCH 2 - PROGRESS: at 88.69% examples, 303098 words/s, in_qsize 7, out_qsize 0\n",
      "2021-08-16 14:35:13,558 : INFO : EPOCH 2 - PROGRESS: at 89.66% examples, 303143 words/s, in_qsize 7, out_qsize 0\n",
      "2021-08-16 14:35:14,567 : INFO : EPOCH 2 - PROGRESS: at 90.69% examples, 303235 words/s, in_qsize 7, out_qsize 0\n",
      "2021-08-16 14:35:15,571 : INFO : EPOCH 2 - PROGRESS: at 91.64% examples, 303262 words/s, in_qsize 7, out_qsize 0\n",
      "2021-08-16 14:35:16,584 : INFO : EPOCH 2 - PROGRESS: at 92.56% examples, 303189 words/s, in_qsize 7, out_qsize 0\n",
      "2021-08-16 14:35:17,630 : INFO : EPOCH 2 - PROGRESS: at 93.61% examples, 303270 words/s, in_qsize 7, out_qsize 0\n",
      "2021-08-16 14:35:18,660 : INFO : EPOCH 2 - PROGRESS: at 94.66% examples, 303402 words/s, in_qsize 7, out_qsize 0\n",
      "2021-08-16 14:35:19,709 : INFO : EPOCH 2 - PROGRESS: at 95.71% examples, 303465 words/s, in_qsize 7, out_qsize 0\n",
      "2021-08-16 14:35:20,711 : INFO : EPOCH 2 - PROGRESS: at 96.69% examples, 303495 words/s, in_qsize 7, out_qsize 0\n",
      "2021-08-16 14:35:21,740 : INFO : EPOCH 2 - PROGRESS: at 97.73% examples, 303506 words/s, in_qsize 7, out_qsize 0\n",
      "2021-08-16 14:35:22,772 : INFO : EPOCH 2 - PROGRESS: at 98.77% examples, 303617 words/s, in_qsize 7, out_qsize 0\n",
      "2021-08-16 14:35:23,781 : INFO : EPOCH 2 - PROGRESS: at 99.80% examples, 303705 words/s, in_qsize 7, out_qsize 0\n",
      "2021-08-16 14:35:23,883 : INFO : worker thread finished; awaiting finish of 3 more threads\n",
      "2021-08-16 14:35:23,948 : INFO : worker thread finished; awaiting finish of 2 more threads\n",
      "2021-08-16 14:35:23,964 : INFO : worker thread finished; awaiting finish of 1 more threads\n",
      "2021-08-16 14:35:23,995 : INFO : worker thread finished; awaiting finish of 0 more threads\n",
      "2021-08-16 14:35:23,996 : INFO : EPOCH - 2 : training on 34321552 raw words (31281485 effective words) took 103.0s, 303688 effective words/s\n",
      "2021-08-16 14:35:25,037 : INFO : EPOCH 3 - PROGRESS: at 0.95% examples, 287836 words/s, in_qsize 7, out_qsize 0\n",
      "2021-08-16 14:35:26,040 : INFO : EPOCH 3 - PROGRESS: at 1.95% examples, 301221 words/s, in_qsize 7, out_qsize 0\n",
      "2021-08-16 14:35:27,062 : INFO : EPOCH 3 - PROGRESS: at 2.99% examples, 303810 words/s, in_qsize 7, out_qsize 0\n",
      "2021-08-16 14:35:28,125 : INFO : EPOCH 3 - PROGRESS: at 4.04% examples, 303576 words/s, in_qsize 7, out_qsize 0\n",
      "2021-08-16 14:35:29,175 : INFO : EPOCH 3 - PROGRESS: at 5.07% examples, 304880 words/s, in_qsize 7, out_qsize 0\n",
      "2021-08-16 14:35:30,216 : INFO : EPOCH 3 - PROGRESS: at 6.11% examples, 306019 words/s, in_qsize 7, out_qsize 0\n",
      "2021-08-16 14:35:31,224 : INFO : EPOCH 3 - PROGRESS: at 7.16% examples, 306893 words/s, in_qsize 7, out_qsize 0\n",
      "2021-08-16 14:35:32,232 : INFO : EPOCH 3 - PROGRESS: at 8.19% examples, 307733 words/s, in_qsize 7, out_qsize 0\n",
      "2021-08-16 14:35:33,239 : INFO : EPOCH 3 - PROGRESS: at 9.15% examples, 306484 words/s, in_qsize 7, out_qsize 0\n",
      "2021-08-16 14:35:34,244 : INFO : EPOCH 3 - PROGRESS: at 10.06% examples, 304660 words/s, in_qsize 7, out_qsize 0\n",
      "2021-08-16 14:35:35,298 : INFO : EPOCH 3 - PROGRESS: at 11.10% examples, 304985 words/s, in_qsize 7, out_qsize 0\n",
      "2021-08-16 14:35:36,317 : INFO : EPOCH 3 - PROGRESS: at 12.13% examples, 306014 words/s, in_qsize 7, out_qsize 0\n",
      "2021-08-16 14:35:37,317 : INFO : EPOCH 3 - PROGRESS: at 13.08% examples, 305332 words/s, in_qsize 7, out_qsize 0\n",
      "2021-08-16 14:35:38,366 : INFO : EPOCH 3 - PROGRESS: at 14.10% examples, 305689 words/s, in_qsize 7, out_qsize 0\n",
      "2021-08-16 14:35:39,446 : INFO : EPOCH 3 - PROGRESS: at 15.18% examples, 305260 words/s, in_qsize 7, out_qsize 0\n",
      "2021-08-16 14:35:40,487 : INFO : EPOCH 3 - PROGRESS: at 16.21% examples, 305625 words/s, in_qsize 7, out_qsize 0\n",
      "2021-08-16 14:35:41,543 : INFO : EPOCH 3 - PROGRESS: at 17.12% examples, 303716 words/s, in_qsize 8, out_qsize 0\n",
      "2021-08-16 14:35:42,597 : INFO : EPOCH 3 - PROGRESS: at 18.18% examples, 303395 words/s, in_qsize 7, out_qsize 0\n",
      "2021-08-16 14:35:43,604 : INFO : EPOCH 3 - PROGRESS: at 19.12% examples, 303561 words/s, in_qsize 8, out_qsize 1\n"
     ]
    },
    {
     "name": "stderr",
     "output_type": "stream",
     "text": [
      "2021-08-16 14:35:44,604 : INFO : EPOCH 3 - PROGRESS: at 20.10% examples, 303764 words/s, in_qsize 8, out_qsize 0\n",
      "2021-08-16 14:35:45,630 : INFO : EPOCH 3 - PROGRESS: at 21.09% examples, 303856 words/s, in_qsize 7, out_qsize 0\n",
      "2021-08-16 14:35:46,667 : INFO : EPOCH 3 - PROGRESS: at 22.12% examples, 303932 words/s, in_qsize 7, out_qsize 0\n",
      "2021-08-16 14:35:47,675 : INFO : EPOCH 3 - PROGRESS: at 23.17% examples, 304725 words/s, in_qsize 7, out_qsize 0\n",
      "2021-08-16 14:35:48,679 : INFO : EPOCH 3 - PROGRESS: at 24.13% examples, 304407 words/s, in_qsize 7, out_qsize 0\n",
      "2021-08-16 14:35:49,710 : INFO : EPOCH 3 - PROGRESS: at 25.21% examples, 304870 words/s, in_qsize 7, out_qsize 0\n",
      "2021-08-16 14:35:50,736 : INFO : EPOCH 3 - PROGRESS: at 26.21% examples, 304975 words/s, in_qsize 7, out_qsize 0\n",
      "2021-08-16 14:35:51,742 : INFO : EPOCH 3 - PROGRESS: at 27.22% examples, 305355 words/s, in_qsize 7, out_qsize 0\n",
      "2021-08-16 14:35:52,757 : INFO : EPOCH 3 - PROGRESS: at 28.28% examples, 305573 words/s, in_qsize 7, out_qsize 0\n",
      "2021-08-16 14:35:53,801 : INFO : EPOCH 3 - PROGRESS: at 29.27% examples, 305390 words/s, in_qsize 7, out_qsize 0\n",
      "2021-08-16 14:35:54,802 : INFO : EPOCH 3 - PROGRESS: at 30.27% examples, 305745 words/s, in_qsize 7, out_qsize 0\n",
      "2021-08-16 14:35:55,828 : INFO : EPOCH 3 - PROGRESS: at 31.32% examples, 305758 words/s, in_qsize 7, out_qsize 0\n",
      "2021-08-16 14:35:56,894 : INFO : EPOCH 3 - PROGRESS: at 32.39% examples, 305762 words/s, in_qsize 7, out_qsize 0\n",
      "2021-08-16 14:35:57,980 : INFO : EPOCH 3 - PROGRESS: at 33.42% examples, 305560 words/s, in_qsize 7, out_qsize 0\n",
      "2021-08-16 14:35:58,997 : INFO : EPOCH 3 - PROGRESS: at 34.45% examples, 305968 words/s, in_qsize 7, out_qsize 0\n",
      "2021-08-16 14:36:00,006 : INFO : EPOCH 3 - PROGRESS: at 35.40% examples, 305926 words/s, in_qsize 7, out_qsize 0\n",
      "2021-08-16 14:36:01,016 : INFO : EPOCH 3 - PROGRESS: at 36.32% examples, 305687 words/s, in_qsize 7, out_qsize 0\n",
      "2021-08-16 14:36:02,100 : INFO : EPOCH 3 - PROGRESS: at 37.38% examples, 305711 words/s, in_qsize 7, out_qsize 0\n",
      "2021-08-16 14:36:03,164 : INFO : EPOCH 3 - PROGRESS: at 38.40% examples, 305719 words/s, in_qsize 7, out_qsize 0\n",
      "2021-08-16 14:36:04,207 : INFO : EPOCH 3 - PROGRESS: at 39.44% examples, 305845 words/s, in_qsize 7, out_qsize 0\n",
      "2021-08-16 14:36:05,208 : INFO : EPOCH 3 - PROGRESS: at 40.43% examples, 306102 words/s, in_qsize 7, out_qsize 0\n",
      "2021-08-16 14:36:06,214 : INFO : EPOCH 3 - PROGRESS: at 41.40% examples, 306104 words/s, in_qsize 7, out_qsize 0\n",
      "2021-08-16 14:36:07,215 : INFO : EPOCH 3 - PROGRESS: at 42.35% examples, 305921 words/s, in_qsize 7, out_qsize 0\n",
      "2021-08-16 14:36:08,261 : INFO : EPOCH 3 - PROGRESS: at 43.41% examples, 306008 words/s, in_qsize 7, out_qsize 0\n",
      "2021-08-16 14:36:09,323 : INFO : EPOCH 3 - PROGRESS: at 44.47% examples, 306180 words/s, in_qsize 7, out_qsize 0\n",
      "2021-08-16 14:36:10,335 : INFO : EPOCH 3 - PROGRESS: at 45.46% examples, 306349 words/s, in_qsize 7, out_qsize 0\n",
      "2021-08-16 14:36:11,362 : INFO : EPOCH 3 - PROGRESS: at 46.41% examples, 305986 words/s, in_qsize 7, out_qsize 0\n",
      "2021-08-16 14:36:12,364 : INFO : EPOCH 3 - PROGRESS: at 47.33% examples, 306100 words/s, in_qsize 7, out_qsize 0\n",
      "2021-08-16 14:36:13,375 : INFO : EPOCH 3 - PROGRESS: at 48.24% examples, 305902 words/s, in_qsize 7, out_qsize 0\n",
      "2021-08-16 14:36:14,439 : INFO : EPOCH 3 - PROGRESS: at 49.27% examples, 305904 words/s, in_qsize 7, out_qsize 0\n",
      "2021-08-16 14:36:15,509 : INFO : EPOCH 3 - PROGRESS: at 50.29% examples, 305870 words/s, in_qsize 7, out_qsize 0\n",
      "2021-08-16 14:36:16,561 : INFO : EPOCH 3 - PROGRESS: at 51.33% examples, 305967 words/s, in_qsize 7, out_qsize 0\n",
      "2021-08-16 14:36:17,585 : INFO : EPOCH 3 - PROGRESS: at 52.38% examples, 306169 words/s, in_qsize 7, out_qsize 0\n",
      "2021-08-16 14:36:18,622 : INFO : EPOCH 3 - PROGRESS: at 53.45% examples, 306282 words/s, in_qsize 7, out_qsize 0\n",
      "2021-08-16 14:36:19,630 : INFO : EPOCH 3 - PROGRESS: at 54.46% examples, 306406 words/s, in_qsize 7, out_qsize 0\n",
      "2021-08-16 14:36:20,659 : INFO : EPOCH 3 - PROGRESS: at 55.46% examples, 306420 words/s, in_qsize 7, out_qsize 0\n",
      "2021-08-16 14:36:21,719 : INFO : EPOCH 3 - PROGRESS: at 56.44% examples, 306271 words/s, in_qsize 7, out_qsize 0\n",
      "2021-08-16 14:36:22,724 : INFO : EPOCH 3 - PROGRESS: at 57.41% examples, 306438 words/s, in_qsize 7, out_qsize 0\n",
      "2021-08-16 14:36:23,732 : INFO : EPOCH 3 - PROGRESS: at 58.36% examples, 306273 words/s, in_qsize 7, out_qsize 0\n",
      "2021-08-16 14:36:24,747 : INFO : EPOCH 3 - PROGRESS: at 59.35% examples, 306294 words/s, in_qsize 7, out_qsize 0\n",
      "2021-08-16 14:36:25,779 : INFO : EPOCH 3 - PROGRESS: at 60.41% examples, 306447 words/s, in_qsize 7, out_qsize 0\n",
      "2021-08-16 14:36:26,786 : INFO : EPOCH 3 - PROGRESS: at 61.34% examples, 306251 words/s, in_qsize 7, out_qsize 0\n",
      "2021-08-16 14:36:27,827 : INFO : EPOCH 3 - PROGRESS: at 62.40% examples, 306361 words/s, in_qsize 7, out_qsize 0\n",
      "2021-08-16 14:36:28,830 : INFO : EPOCH 3 - PROGRESS: at 63.43% examples, 306481 words/s, in_qsize 7, out_qsize 0\n",
      "2021-08-16 14:36:29,858 : INFO : EPOCH 3 - PROGRESS: at 64.37% examples, 306379 words/s, in_qsize 7, out_qsize 0\n",
      "2021-08-16 14:36:30,869 : INFO : EPOCH 3 - PROGRESS: at 65.37% examples, 306459 words/s, in_qsize 7, out_qsize 0\n",
      "2021-08-16 14:36:31,879 : INFO : EPOCH 3 - PROGRESS: at 66.37% examples, 306537 words/s, in_qsize 7, out_qsize 0\n",
      "2021-08-16 14:36:32,894 : INFO : EPOCH 3 - PROGRESS: at 67.30% examples, 306361 words/s, in_qsize 7, out_qsize 0\n",
      "2021-08-16 14:36:33,915 : INFO : EPOCH 3 - PROGRESS: at 68.32% examples, 306296 words/s, in_qsize 7, out_qsize 0\n",
      "2021-08-16 14:36:34,917 : INFO : EPOCH 3 - PROGRESS: at 69.27% examples, 306281 words/s, in_qsize 8, out_qsize 1\n",
      "2021-08-16 14:36:35,971 : INFO : EPOCH 3 - PROGRESS: at 70.21% examples, 306043 words/s, in_qsize 7, out_qsize 0\n",
      "2021-08-16 14:36:36,978 : INFO : EPOCH 3 - PROGRESS: at 71.23% examples, 306136 words/s, in_qsize 7, out_qsize 0\n",
      "2021-08-16 14:36:37,987 : INFO : EPOCH 3 - PROGRESS: at 72.23% examples, 306097 words/s, in_qsize 7, out_qsize 0\n",
      "2021-08-16 14:36:39,012 : INFO : EPOCH 3 - PROGRESS: at 73.21% examples, 305999 words/s, in_qsize 7, out_qsize 0\n",
      "2021-08-16 14:36:40,036 : INFO : EPOCH 3 - PROGRESS: at 74.20% examples, 306050 words/s, in_qsize 7, out_qsize 0\n",
      "2021-08-16 14:36:41,044 : INFO : EPOCH 3 - PROGRESS: at 75.28% examples, 306223 words/s, in_qsize 7, out_qsize 0\n",
      "2021-08-16 14:36:42,064 : INFO : EPOCH 3 - PROGRESS: at 76.26% examples, 306156 words/s, in_qsize 7, out_qsize 0\n",
      "2021-08-16 14:36:43,068 : INFO : EPOCH 3 - PROGRESS: at 77.12% examples, 305693 words/s, in_qsize 7, out_qsize 0\n",
      "2021-08-16 14:36:44,068 : INFO : EPOCH 3 - PROGRESS: at 77.86% examples, 304802 words/s, in_qsize 7, out_qsize 0\n",
      "2021-08-16 14:36:45,098 : INFO : EPOCH 3 - PROGRESS: at 78.67% examples, 304054 words/s, in_qsize 7, out_qsize 0\n",
      "2021-08-16 14:36:46,102 : INFO : EPOCH 3 - PROGRESS: at 79.55% examples, 303637 words/s, in_qsize 7, out_qsize 0\n",
      "2021-08-16 14:36:47,110 : INFO : EPOCH 3 - PROGRESS: at 80.40% examples, 303099 words/s, in_qsize 7, out_qsize 0\n",
      "2021-08-16 14:36:48,114 : INFO : EPOCH 3 - PROGRESS: at 81.35% examples, 302900 words/s, in_qsize 7, out_qsize 0\n",
      "2021-08-16 14:36:49,118 : INFO : EPOCH 3 - PROGRESS: at 82.32% examples, 302814 words/s, in_qsize 7, out_qsize 0\n",
      "2021-08-16 14:36:50,151 : INFO : EPOCH 3 - PROGRESS: at 83.28% examples, 302628 words/s, in_qsize 7, out_qsize 0\n",
      "2021-08-16 14:36:51,168 : INFO : EPOCH 3 - PROGRESS: at 84.35% examples, 302697 words/s, in_qsize 7, out_qsize 0\n",
      "2021-08-16 14:36:52,168 : INFO : EPOCH 3 - PROGRESS: at 85.34% examples, 302733 words/s, in_qsize 7, out_qsize 0\n",
      "2021-08-16 14:36:53,207 : INFO : EPOCH 3 - PROGRESS: at 86.42% examples, 302847 words/s, in_qsize 7, out_qsize 0\n",
      "2021-08-16 14:36:54,264 : INFO : EPOCH 3 - PROGRESS: at 87.38% examples, 302818 words/s, in_qsize 7, out_qsize 0\n",
      "2021-08-16 14:36:55,275 : INFO : EPOCH 3 - PROGRESS: at 88.36% examples, 302909 words/s, in_qsize 7, out_qsize 0\n",
      "2021-08-16 14:36:56,287 : INFO : EPOCH 3 - PROGRESS: at 89.28% examples, 302812 words/s, in_qsize 7, out_qsize 0\n",
      "2021-08-16 14:36:57,306 : INFO : EPOCH 3 - PROGRESS: at 90.32% examples, 302897 words/s, in_qsize 7, out_qsize 0\n",
      "2021-08-16 14:36:58,319 : INFO : EPOCH 3 - PROGRESS: at 91.28% examples, 302882 words/s, in_qsize 7, out_qsize 0\n"
     ]
    },
    {
     "name": "stderr",
     "output_type": "stream",
     "text": [
      "2021-08-16 14:36:59,357 : INFO : EPOCH 3 - PROGRESS: at 92.28% examples, 302907 words/s, in_qsize 7, out_qsize 0\n",
      "2021-08-16 14:37:00,375 : INFO : EPOCH 3 - PROGRESS: at 93.26% examples, 303005 words/s, in_qsize 7, out_qsize 0\n",
      "2021-08-16 14:37:01,410 : INFO : EPOCH 3 - PROGRESS: at 94.30% examples, 303125 words/s, in_qsize 7, out_qsize 0\n",
      "2021-08-16 14:37:02,424 : INFO : EPOCH 3 - PROGRESS: at 95.34% examples, 303208 words/s, in_qsize 7, out_qsize 0\n",
      "2021-08-16 14:37:03,462 : INFO : EPOCH 3 - PROGRESS: at 96.34% examples, 303131 words/s, in_qsize 7, out_qsize 0\n",
      "2021-08-16 14:37:04,464 : INFO : EPOCH 3 - PROGRESS: at 97.35% examples, 303222 words/s, in_qsize 7, out_qsize 0\n",
      "2021-08-16 14:37:05,487 : INFO : EPOCH 3 - PROGRESS: at 98.31% examples, 303101 words/s, in_qsize 7, out_qsize 0\n",
      "2021-08-16 14:37:06,525 : INFO : EPOCH 3 - PROGRESS: at 99.37% examples, 303199 words/s, in_qsize 7, out_qsize 0\n",
      "2021-08-16 14:37:07,039 : INFO : worker thread finished; awaiting finish of 3 more threads\n",
      "2021-08-16 14:37:07,113 : INFO : worker thread finished; awaiting finish of 2 more threads\n",
      "2021-08-16 14:37:07,128 : INFO : worker thread finished; awaiting finish of 1 more threads\n",
      "2021-08-16 14:37:07,154 : INFO : worker thread finished; awaiting finish of 0 more threads\n",
      "2021-08-16 14:37:07,155 : INFO : EPOCH - 3 : training on 34321552 raw words (31282367 effective words) took 103.1s, 303275 effective words/s\n",
      "2021-08-16 14:37:08,192 : INFO : EPOCH 4 - PROGRESS: at 0.95% examples, 289899 words/s, in_qsize 7, out_qsize 0\n",
      "2021-08-16 14:37:09,244 : INFO : EPOCH 4 - PROGRESS: at 2.01% examples, 303818 words/s, in_qsize 7, out_qsize 0\n",
      "2021-08-16 14:37:10,268 : INFO : EPOCH 4 - PROGRESS: at 3.08% examples, 308097 words/s, in_qsize 7, out_qsize 0\n",
      "2021-08-16 14:37:11,294 : INFO : EPOCH 4 - PROGRESS: at 4.04% examples, 303011 words/s, in_qsize 7, out_qsize 0\n",
      "2021-08-16 14:37:12,358 : INFO : EPOCH 4 - PROGRESS: at 5.07% examples, 303592 words/s, in_qsize 7, out_qsize 0\n",
      "2021-08-16 14:37:13,415 : INFO : EPOCH 4 - PROGRESS: at 6.12% examples, 304233 words/s, in_qsize 7, out_qsize 0\n",
      "2021-08-16 14:37:14,440 : INFO : EPOCH 4 - PROGRESS: at 7.16% examples, 304622 words/s, in_qsize 7, out_qsize 0\n",
      "2021-08-16 14:37:15,452 : INFO : EPOCH 4 - PROGRESS: at 8.19% examples, 305565 words/s, in_qsize 7, out_qsize 0\n",
      "2021-08-16 14:37:16,465 : INFO : EPOCH 4 - PROGRESS: at 9.20% examples, 306316 words/s, in_qsize 7, out_qsize 0\n",
      "2021-08-16 14:37:17,483 : INFO : EPOCH 4 - PROGRESS: at 10.17% examples, 305864 words/s, in_qsize 7, out_qsize 0\n",
      "2021-08-16 14:37:18,529 : INFO : EPOCH 4 - PROGRESS: at 11.20% examples, 306291 words/s, in_qsize 7, out_qsize 0\n",
      "2021-08-16 14:37:19,623 : INFO : EPOCH 4 - PROGRESS: at 12.28% examples, 305846 words/s, in_qsize 8, out_qsize 1\n",
      "2021-08-16 14:37:20,689 : INFO : EPOCH 4 - PROGRESS: at 13.19% examples, 303257 words/s, in_qsize 7, out_qsize 0\n",
      "2021-08-16 14:37:21,695 : INFO : EPOCH 4 - PROGRESS: at 14.05% examples, 300888 words/s, in_qsize 7, out_qsize 0\n",
      "2021-08-16 14:37:22,708 : INFO : EPOCH 4 - PROGRESS: at 15.01% examples, 299790 words/s, in_qsize 7, out_qsize 0\n",
      "2021-08-16 14:37:23,776 : INFO : EPOCH 4 - PROGRESS: at 15.84% examples, 296751 words/s, in_qsize 8, out_qsize 0\n",
      "2021-08-16 14:37:24,781 : INFO : EPOCH 4 - PROGRESS: at 16.76% examples, 296199 words/s, in_qsize 7, out_qsize 0\n",
      "2021-08-16 14:37:25,806 : INFO : EPOCH 4 - PROGRESS: at 17.80% examples, 296414 words/s, in_qsize 7, out_qsize 0\n",
      "2021-08-16 14:37:26,833 : INFO : EPOCH 4 - PROGRESS: at 18.74% examples, 296069 words/s, in_qsize 7, out_qsize 0\n",
      "2021-08-16 14:37:27,852 : INFO : EPOCH 4 - PROGRESS: at 19.67% examples, 295946 words/s, in_qsize 7, out_qsize 0\n",
      "2021-08-16 14:37:28,905 : INFO : EPOCH 4 - PROGRESS: at 20.59% examples, 295187 words/s, in_qsize 7, out_qsize 0\n",
      "2021-08-16 14:37:29,992 : INFO : EPOCH 4 - PROGRESS: at 21.65% examples, 295397 words/s, in_qsize 7, out_qsize 0\n",
      "2021-08-16 14:37:31,004 : INFO : EPOCH 4 - PROGRESS: at 22.62% examples, 295381 words/s, in_qsize 7, out_qsize 0\n",
      "2021-08-16 14:37:32,020 : INFO : EPOCH 4 - PROGRESS: at 23.54% examples, 294970 words/s, in_qsize 7, out_qsize 0\n",
      "2021-08-16 14:37:33,069 : INFO : EPOCH 4 - PROGRESS: at 24.62% examples, 295534 words/s, in_qsize 7, out_qsize 0\n",
      "2021-08-16 14:37:34,121 : INFO : EPOCH 4 - PROGRESS: at 25.64% examples, 295707 words/s, in_qsize 7, out_qsize 0\n",
      "2021-08-16 14:37:35,131 : INFO : EPOCH 4 - PROGRESS: at 26.64% examples, 296374 words/s, in_qsize 7, out_qsize 0\n",
      "2021-08-16 14:37:36,166 : INFO : EPOCH 4 - PROGRESS: at 27.60% examples, 296120 words/s, in_qsize 7, out_qsize 0\n",
      "2021-08-16 14:37:37,200 : INFO : EPOCH 4 - PROGRESS: at 28.68% examples, 296703 words/s, in_qsize 7, out_qsize 0\n",
      "2021-08-16 14:37:38,202 : INFO : EPOCH 4 - PROGRESS: at 29.66% examples, 297261 words/s, in_qsize 7, out_qsize 0\n",
      "2021-08-16 14:37:39,219 : INFO : EPOCH 4 - PROGRESS: at 30.67% examples, 297418 words/s, in_qsize 7, out_qsize 0\n",
      "2021-08-16 14:37:40,224 : INFO : EPOCH 4 - PROGRESS: at 31.70% examples, 297589 words/s, in_qsize 7, out_qsize 0\n",
      "2021-08-16 14:37:41,233 : INFO : EPOCH 4 - PROGRESS: at 32.61% examples, 297304 words/s, in_qsize 7, out_qsize 0\n",
      "2021-08-16 14:37:42,331 : INFO : EPOCH 4 - PROGRESS: at 33.65% examples, 297270 words/s, in_qsize 7, out_qsize 0\n",
      "2021-08-16 14:37:43,359 : INFO : EPOCH 4 - PROGRESS: at 34.65% examples, 297568 words/s, in_qsize 7, out_qsize 0\n",
      "2021-08-16 14:37:44,362 : INFO : EPOCH 4 - PROGRESS: at 35.58% examples, 297815 words/s, in_qsize 7, out_qsize 0\n",
      "2021-08-16 14:37:45,390 : INFO : EPOCH 4 - PROGRESS: at 36.55% examples, 297846 words/s, in_qsize 7, out_qsize 0\n",
      "2021-08-16 14:37:46,422 : INFO : EPOCH 4 - PROGRESS: at 37.50% examples, 297579 words/s, in_qsize 5, out_qsize 2\n",
      "2021-08-16 14:37:47,485 : INFO : EPOCH 4 - PROGRESS: at 38.51% examples, 297835 words/s, in_qsize 7, out_qsize 0\n",
      "2021-08-16 14:37:48,505 : INFO : EPOCH 4 - PROGRESS: at 39.55% examples, 298306 words/s, in_qsize 7, out_qsize 0\n",
      "2021-08-16 14:37:49,512 : INFO : EPOCH 4 - PROGRESS: at 40.55% examples, 298703 words/s, in_qsize 7, out_qsize 0\n",
      "2021-08-16 14:37:50,587 : INFO : EPOCH 4 - PROGRESS: at 41.55% examples, 298608 words/s, in_qsize 7, out_qsize 0\n",
      "2021-08-16 14:37:51,589 : INFO : EPOCH 4 - PROGRESS: at 42.56% examples, 298992 words/s, in_qsize 7, out_qsize 0\n",
      "2021-08-16 14:37:52,616 : INFO : EPOCH 4 - PROGRESS: at 43.45% examples, 298178 words/s, in_qsize 6, out_qsize 1\n",
      "2021-08-16 14:37:53,647 : INFO : EPOCH 4 - PROGRESS: at 44.35% examples, 297751 words/s, in_qsize 7, out_qsize 0\n",
      "2021-08-16 14:37:54,714 : INFO : EPOCH 4 - PROGRESS: at 45.25% examples, 297187 words/s, in_qsize 7, out_qsize 0\n",
      "2021-08-16 14:37:55,749 : INFO : EPOCH 4 - PROGRESS: at 46.18% examples, 296785 words/s, in_qsize 7, out_qsize 0\n",
      "2021-08-16 14:37:56,753 : INFO : EPOCH 4 - PROGRESS: at 47.05% examples, 296703 words/s, in_qsize 7, out_qsize 0\n",
      "2021-08-16 14:37:57,794 : INFO : EPOCH 4 - PROGRESS: at 48.02% examples, 296863 words/s, in_qsize 7, out_qsize 0\n",
      "2021-08-16 14:37:58,797 : INFO : EPOCH 4 - PROGRESS: at 48.97% examples, 297079 words/s, in_qsize 7, out_qsize 0\n",
      "2021-08-16 14:37:59,809 : INFO : EPOCH 4 - PROGRESS: at 49.94% examples, 297197 words/s, in_qsize 7, out_qsize 0\n",
      "2021-08-16 14:38:00,874 : INFO : EPOCH 4 - PROGRESS: at 50.98% examples, 297380 words/s, in_qsize 7, out_qsize 0\n",
      "2021-08-16 14:38:01,956 : INFO : EPOCH 4 - PROGRESS: at 52.01% examples, 297441 words/s, in_qsize 7, out_qsize 0\n",
      "2021-08-16 14:38:03,009 : INFO : EPOCH 4 - PROGRESS: at 53.08% examples, 297631 words/s, in_qsize 7, out_qsize 0\n",
      "2021-08-16 14:38:04,029 : INFO : EPOCH 4 - PROGRESS: at 54.09% examples, 297830 words/s, in_qsize 7, out_qsize 0\n",
      "2021-08-16 14:38:05,059 : INFO : EPOCH 4 - PROGRESS: at 55.12% examples, 297990 words/s, in_qsize 7, out_qsize 0\n",
      "2021-08-16 14:38:06,102 : INFO : EPOCH 4 - PROGRESS: at 56.08% examples, 297924 words/s, in_qsize 7, out_qsize 0\n",
      "2021-08-16 14:38:07,120 : INFO : EPOCH 4 - PROGRESS: at 57.05% examples, 298006 words/s, in_qsize 7, out_qsize 0\n",
      "2021-08-16 14:38:08,202 : INFO : EPOCH 4 - PROGRESS: at 58.02% examples, 297921 words/s, in_qsize 7, out_qsize 0\n",
      "2021-08-16 14:38:09,223 : INFO : EPOCH 4 - PROGRESS: at 59.01% examples, 298086 words/s, in_qsize 7, out_qsize 0\n",
      "2021-08-16 14:38:10,229 : INFO : EPOCH 4 - PROGRESS: at 60.03% examples, 298323 words/s, in_qsize 7, out_qsize 0\n"
     ]
    },
    {
     "name": "stderr",
     "output_type": "stream",
     "text": [
      "2021-08-16 14:38:11,249 : INFO : EPOCH 4 - PROGRESS: at 61.00% examples, 298212 words/s, in_qsize 7, out_qsize 0\n",
      "2021-08-16 14:38:12,254 : INFO : EPOCH 4 - PROGRESS: at 61.93% examples, 298179 words/s, in_qsize 7, out_qsize 0\n",
      "2021-08-16 14:38:13,275 : INFO : EPOCH 4 - PROGRESS: at 63.00% examples, 298473 words/s, in_qsize 7, out_qsize 0\n",
      "2021-08-16 14:38:14,300 : INFO : EPOCH 4 - PROGRESS: at 63.98% examples, 298499 words/s, in_qsize 8, out_qsize 0\n",
      "2021-08-16 14:38:15,318 : INFO : EPOCH 4 - PROGRESS: at 64.87% examples, 298252 words/s, in_qsize 7, out_qsize 0\n",
      "2021-08-16 14:38:16,355 : INFO : EPOCH 4 - PROGRESS: at 65.69% examples, 297690 words/s, in_qsize 7, out_qsize 0\n",
      "2021-08-16 14:38:17,380 : INFO : EPOCH 4 - PROGRESS: at 66.60% examples, 297477 words/s, in_qsize 7, out_qsize 0\n",
      "2021-08-16 14:38:18,401 : INFO : EPOCH 4 - PROGRESS: at 67.55% examples, 297283 words/s, in_qsize 7, out_qsize 0\n",
      "2021-08-16 14:38:19,413 : INFO : EPOCH 4 - PROGRESS: at 68.46% examples, 297009 words/s, in_qsize 7, out_qsize 0\n",
      "2021-08-16 14:38:20,443 : INFO : EPOCH 4 - PROGRESS: at 69.31% examples, 296638 words/s, in_qsize 7, out_qsize 0\n",
      "2021-08-16 14:38:21,536 : INFO : EPOCH 4 - PROGRESS: at 70.33% examples, 296621 words/s, in_qsize 7, out_qsize 0\n",
      "2021-08-16 14:38:22,555 : INFO : EPOCH 4 - PROGRESS: at 71.25% examples, 296431 words/s, in_qsize 7, out_qsize 0\n",
      "2021-08-16 14:38:23,578 : INFO : EPOCH 4 - PROGRESS: at 72.20% examples, 296235 words/s, in_qsize 7, out_qsize 0\n",
      "2021-08-16 14:38:24,617 : INFO : EPOCH 4 - PROGRESS: at 72.99% examples, 295416 words/s, in_qsize 8, out_qsize 0\n",
      "2021-08-16 14:38:25,661 : INFO : EPOCH 4 - PROGRESS: at 73.87% examples, 295047 words/s, in_qsize 7, out_qsize 0\n",
      "2021-08-16 14:38:26,663 : INFO : EPOCH 4 - PROGRESS: at 74.70% examples, 294616 words/s, in_qsize 7, out_qsize 0\n",
      "2021-08-16 14:38:27,690 : INFO : EPOCH 4 - PROGRESS: at 75.60% examples, 294322 words/s, in_qsize 7, out_qsize 0\n",
      "2021-08-16 14:38:28,708 : INFO : EPOCH 4 - PROGRESS: at 76.48% examples, 293961 words/s, in_qsize 7, out_qsize 0\n",
      "2021-08-16 14:38:29,742 : INFO : EPOCH 4 - PROGRESS: at 77.35% examples, 293669 words/s, in_qsize 7, out_qsize 0\n",
      "2021-08-16 14:38:30,786 : INFO : EPOCH 4 - PROGRESS: at 78.31% examples, 293453 words/s, in_qsize 7, out_qsize 0\n",
      "2021-08-16 14:38:31,804 : INFO : EPOCH 4 - PROGRESS: at 79.18% examples, 293235 words/s, in_qsize 7, out_qsize 0\n",
      "2021-08-16 14:38:32,867 : INFO : EPOCH 4 - PROGRESS: at 80.14% examples, 292957 words/s, in_qsize 8, out_qsize 0\n",
      "2021-08-16 14:38:33,869 : INFO : EPOCH 4 - PROGRESS: at 81.05% examples, 292799 words/s, in_qsize 7, out_qsize 0\n",
      "2021-08-16 14:38:34,905 : INFO : EPOCH 4 - PROGRESS: at 82.01% examples, 292605 words/s, in_qsize 7, out_qsize 0\n",
      "2021-08-16 14:38:35,919 : INFO : EPOCH 4 - PROGRESS: at 82.89% examples, 292420 words/s, in_qsize 7, out_qsize 0\n",
      "2021-08-16 14:38:36,928 : INFO : EPOCH 4 - PROGRESS: at 83.84% examples, 292235 words/s, in_qsize 7, out_qsize 0\n",
      "2021-08-16 14:38:37,967 : INFO : EPOCH 4 - PROGRESS: at 84.72% examples, 291848 words/s, in_qsize 7, out_qsize 0\n",
      "2021-08-16 14:38:38,970 : INFO : EPOCH 4 - PROGRESS: at 85.63% examples, 291705 words/s, in_qsize 7, out_qsize 0\n",
      "2021-08-16 14:38:39,971 : INFO : EPOCH 4 - PROGRESS: at 86.49% examples, 291377 words/s, in_qsize 7, out_qsize 0\n",
      "2021-08-16 14:38:40,980 : INFO : EPOCH 4 - PROGRESS: at 87.29% examples, 291043 words/s, in_qsize 7, out_qsize 0\n",
      "2021-08-16 14:38:41,987 : INFO : EPOCH 4 - PROGRESS: at 88.18% examples, 290982 words/s, in_qsize 7, out_qsize 0\n",
      "2021-08-16 14:38:42,993 : INFO : EPOCH 4 - PROGRESS: at 89.03% examples, 290754 words/s, in_qsize 7, out_qsize 0\n",
      "2021-08-16 14:38:43,996 : INFO : EPOCH 4 - PROGRESS: at 90.00% examples, 290823 words/s, in_qsize 7, out_qsize 0\n",
      "2021-08-16 14:38:45,002 : INFO : EPOCH 4 - PROGRESS: at 90.91% examples, 290774 words/s, in_qsize 7, out_qsize 0\n",
      "2021-08-16 14:38:46,012 : INFO : EPOCH 4 - PROGRESS: at 91.69% examples, 290361 words/s, in_qsize 7, out_qsize 0\n",
      "2021-08-16 14:38:47,013 : INFO : EPOCH 4 - PROGRESS: at 92.56% examples, 290276 words/s, in_qsize 7, out_qsize 0\n",
      "2021-08-16 14:38:48,014 : INFO : EPOCH 4 - PROGRESS: at 93.47% examples, 290168 words/s, in_qsize 7, out_qsize 0\n",
      "2021-08-16 14:38:49,036 : INFO : EPOCH 4 - PROGRESS: at 94.33% examples, 289917 words/s, in_qsize 7, out_qsize 0\n",
      "2021-08-16 14:38:50,049 : INFO : EPOCH 4 - PROGRESS: at 95.29% examples, 289870 words/s, in_qsize 7, out_qsize 0\n",
      "2021-08-16 14:38:51,054 : INFO : EPOCH 4 - PROGRESS: at 96.25% examples, 289935 words/s, in_qsize 7, out_qsize 0\n",
      "2021-08-16 14:38:52,111 : INFO : EPOCH 4 - PROGRESS: at 97.27% examples, 289991 words/s, in_qsize 7, out_qsize 0\n",
      "2021-08-16 14:38:53,140 : INFO : EPOCH 4 - PROGRESS: at 98.31% examples, 290242 words/s, in_qsize 7, out_qsize 0\n",
      "2021-08-16 14:38:54,143 : INFO : EPOCH 4 - PROGRESS: at 99.34% examples, 290475 words/s, in_qsize 7, out_qsize 0\n",
      "2021-08-16 14:38:54,695 : INFO : worker thread finished; awaiting finish of 3 more threads\n",
      "2021-08-16 14:38:54,765 : INFO : worker thread finished; awaiting finish of 2 more threads\n",
      "2021-08-16 14:38:54,796 : INFO : worker thread finished; awaiting finish of 1 more threads\n",
      "2021-08-16 14:38:54,813 : INFO : worker thread finished; awaiting finish of 0 more threads\n",
      "2021-08-16 14:38:54,814 : INFO : EPOCH - 4 : training on 34321552 raw words (31281064 effective words) took 107.6s, 290596 effective words/s\n",
      "2021-08-16 14:38:55,889 : INFO : EPOCH 5 - PROGRESS: at 0.95% examples, 279550 words/s, in_qsize 7, out_qsize 0\n",
      "2021-08-16 14:38:56,903 : INFO : EPOCH 5 - PROGRESS: at 1.95% examples, 295126 words/s, in_qsize 7, out_qsize 0\n",
      "2021-08-16 14:38:57,949 : INFO : EPOCH 5 - PROGRESS: at 2.99% examples, 297328 words/s, in_qsize 7, out_qsize 0\n",
      "2021-08-16 14:38:58,952 : INFO : EPOCH 5 - PROGRESS: at 4.00% examples, 300949 words/s, in_qsize 7, out_qsize 0\n",
      "2021-08-16 14:39:00,013 : INFO : EPOCH 5 - PROGRESS: at 4.95% examples, 296943 words/s, in_qsize 7, out_qsize 0\n",
      "2021-08-16 14:39:01,016 : INFO : EPOCH 5 - PROGRESS: at 5.89% examples, 295444 words/s, in_qsize 7, out_qsize 0\n",
      "2021-08-16 14:39:02,038 : INFO : EPOCH 5 - PROGRESS: at 6.81% examples, 292282 words/s, in_qsize 7, out_qsize 0\n",
      "2021-08-16 14:39:03,038 : INFO : EPOCH 5 - PROGRESS: at 7.78% examples, 292823 words/s, in_qsize 7, out_qsize 0\n",
      "2021-08-16 14:39:04,039 : INFO : EPOCH 5 - PROGRESS: at 8.74% examples, 293342 words/s, in_qsize 7, out_qsize 0\n",
      "2021-08-16 14:39:05,159 : INFO : EPOCH 5 - PROGRESS: at 9.60% examples, 287884 words/s, in_qsize 7, out_qsize 0\n",
      "2021-08-16 14:39:06,161 : INFO : EPOCH 5 - PROGRESS: at 10.41% examples, 284717 words/s, in_qsize 7, out_qsize 0\n",
      "2021-08-16 14:39:07,162 : INFO : EPOCH 5 - PROGRESS: at 11.26% examples, 283561 words/s, in_qsize 7, out_qsize 0\n",
      "2021-08-16 14:39:08,186 : INFO : EPOCH 5 - PROGRESS: at 12.24% examples, 284474 words/s, in_qsize 7, out_qsize 0\n",
      "2021-08-16 14:39:09,218 : INFO : EPOCH 5 - PROGRESS: at 13.19% examples, 284923 words/s, in_qsize 7, out_qsize 0\n",
      "2021-08-16 14:39:10,259 : INFO : EPOCH 5 - PROGRESS: at 14.23% examples, 286758 words/s, in_qsize 7, out_qsize 0\n",
      "2021-08-16 14:39:11,304 : INFO : EPOCH 5 - PROGRESS: at 15.28% examples, 288141 words/s, in_qsize 7, out_qsize 0\n",
      "2021-08-16 14:39:12,342 : INFO : EPOCH 5 - PROGRESS: at 16.32% examples, 289629 words/s, in_qsize 7, out_qsize 0\n",
      "2021-08-16 14:39:13,363 : INFO : EPOCH 5 - PROGRESS: at 17.30% examples, 290260 words/s, in_qsize 7, out_qsize 0\n",
      "2021-08-16 14:39:14,373 : INFO : EPOCH 5 - PROGRESS: at 18.36% examples, 291327 words/s, in_qsize 7, out_qsize 0\n",
      "2021-08-16 14:39:15,428 : INFO : EPOCH 5 - PROGRESS: at 19.28% examples, 291392 words/s, in_qsize 7, out_qsize 0\n",
      "2021-08-16 14:39:16,470 : INFO : EPOCH 5 - PROGRESS: at 20.26% examples, 291405 words/s, in_qsize 7, out_qsize 0\n",
      "2021-08-16 14:39:17,478 : INFO : EPOCH 5 - PROGRESS: at 21.26% examples, 292457 words/s, in_qsize 7, out_qsize 0\n",
      "2021-08-16 14:39:18,483 : INFO : EPOCH 5 - PROGRESS: at 22.18% examples, 291897 words/s, in_qsize 7, out_qsize 0\n",
      "2021-08-16 14:39:19,490 : INFO : EPOCH 5 - PROGRESS: at 23.05% examples, 290972 words/s, in_qsize 7, out_qsize 0\n",
      "2021-08-16 14:39:20,506 : INFO : EPOCH 5 - PROGRESS: at 23.98% examples, 290739 words/s, in_qsize 7, out_qsize 0\n",
      "2021-08-16 14:39:21,533 : INFO : EPOCH 5 - PROGRESS: at 24.96% examples, 290715 words/s, in_qsize 7, out_qsize 0\n"
     ]
    },
    {
     "name": "stderr",
     "output_type": "stream",
     "text": [
      "2021-08-16 14:39:22,592 : INFO : EPOCH 5 - PROGRESS: at 25.99% examples, 290975 words/s, in_qsize 7, out_qsize 2\n",
      "2021-08-16 14:39:23,675 : INFO : EPOCH 5 - PROGRESS: at 27.01% examples, 291369 words/s, in_qsize 7, out_qsize 0\n",
      "2021-08-16 14:39:24,733 : INFO : EPOCH 5 - PROGRESS: at 28.10% examples, 291929 words/s, in_qsize 7, out_qsize 0\n",
      "2021-08-16 14:39:25,779 : INFO : EPOCH 5 - PROGRESS: at 29.13% examples, 292483 words/s, in_qsize 7, out_qsize 0\n",
      "2021-08-16 14:39:26,781 : INFO : EPOCH 5 - PROGRESS: at 30.11% examples, 292928 words/s, in_qsize 7, out_qsize 0\n",
      "2021-08-16 14:39:27,782 : INFO : EPOCH 5 - PROGRESS: at 31.10% examples, 293305 words/s, in_qsize 7, out_qsize 0\n",
      "2021-08-16 14:39:28,881 : INFO : EPOCH 5 - PROGRESS: at 32.17% examples, 293131 words/s, in_qsize 7, out_qsize 0\n",
      "2021-08-16 14:39:29,916 : INFO : EPOCH 5 - PROGRESS: at 33.08% examples, 292724 words/s, in_qsize 6, out_qsize 1\n",
      "2021-08-16 14:39:30,926 : INFO : EPOCH 5 - PROGRESS: at 34.00% examples, 292533 words/s, in_qsize 7, out_qsize 0\n",
      "2021-08-16 14:39:31,998 : INFO : EPOCH 5 - PROGRESS: at 34.88% examples, 291631 words/s, in_qsize 7, out_qsize 0\n",
      "2021-08-16 14:39:33,056 : INFO : EPOCH 5 - PROGRESS: at 35.75% examples, 291161 words/s, in_qsize 7, out_qsize 0\n",
      "2021-08-16 14:39:34,086 : INFO : EPOCH 5 - PROGRESS: at 36.69% examples, 291130 words/s, in_qsize 7, out_qsize 0\n",
      "2021-08-16 14:39:35,097 : INFO : EPOCH 5 - PROGRESS: at 37.60% examples, 290963 words/s, in_qsize 7, out_qsize 0\n",
      "2021-08-16 14:39:36,174 : INFO : EPOCH 5 - PROGRESS: at 38.63% examples, 291280 words/s, in_qsize 7, out_qsize 0\n",
      "2021-08-16 14:39:37,200 : INFO : EPOCH 5 - PROGRESS: at 39.66% examples, 291862 words/s, in_qsize 7, out_qsize 0\n",
      "2021-08-16 14:39:38,208 : INFO : EPOCH 5 - PROGRESS: at 40.66% examples, 292401 words/s, in_qsize 7, out_qsize 0\n",
      "2021-08-16 14:39:39,223 : INFO : EPOCH 5 - PROGRESS: at 41.63% examples, 292630 words/s, in_qsize 7, out_qsize 0\n",
      "2021-08-16 14:39:40,247 : INFO : EPOCH 5 - PROGRESS: at 42.59% examples, 292600 words/s, in_qsize 7, out_qsize 0\n",
      "2021-08-16 14:39:41,263 : INFO : EPOCH 5 - PROGRESS: at 43.55% examples, 292594 words/s, in_qsize 6, out_qsize 1\n",
      "2021-08-16 14:39:42,310 : INFO : EPOCH 5 - PROGRESS: at 44.50% examples, 292386 words/s, in_qsize 7, out_qsize 0\n",
      "2021-08-16 14:39:43,355 : INFO : EPOCH 5 - PROGRESS: at 45.38% examples, 291897 words/s, in_qsize 7, out_qsize 0\n",
      "2021-08-16 14:39:44,437 : INFO : EPOCH 5 - PROGRESS: at 46.30% examples, 291343 words/s, in_qsize 8, out_qsize 1\n",
      "2021-08-16 14:39:45,466 : INFO : EPOCH 5 - PROGRESS: at 47.11% examples, 290863 words/s, in_qsize 7, out_qsize 0\n",
      "2021-08-16 14:39:46,504 : INFO : EPOCH 5 - PROGRESS: at 47.94% examples, 290280 words/s, in_qsize 7, out_qsize 0\n",
      "2021-08-16 14:39:47,524 : INFO : EPOCH 5 - PROGRESS: at 48.85% examples, 290185 words/s, in_qsize 7, out_qsize 0\n",
      "2021-08-16 14:39:48,595 : INFO : EPOCH 5 - PROGRESS: at 49.83% examples, 290280 words/s, in_qsize 7, out_qsize 0\n",
      "2021-08-16 14:39:49,599 : INFO : EPOCH 5 - PROGRESS: at 50.84% examples, 290745 words/s, in_qsize 7, out_qsize 0\n",
      "2021-08-16 14:39:50,620 : INFO : EPOCH 5 - PROGRESS: at 51.78% examples, 290771 words/s, in_qsize 7, out_qsize 0\n",
      "2021-08-16 14:39:51,627 : INFO : EPOCH 5 - PROGRESS: at 52.86% examples, 291319 words/s, in_qsize 7, out_qsize 0\n",
      "2021-08-16 14:39:52,638 : INFO : EPOCH 5 - PROGRESS: at 53.87% examples, 291668 words/s, in_qsize 7, out_qsize 0\n",
      "2021-08-16 14:39:53,657 : INFO : EPOCH 5 - PROGRESS: at 54.86% examples, 291848 words/s, in_qsize 7, out_qsize 0\n",
      "2021-08-16 14:39:54,657 : INFO : EPOCH 5 - PROGRESS: at 55.78% examples, 291941 words/s, in_qsize 7, out_qsize 0\n",
      "2021-08-16 14:39:55,682 : INFO : EPOCH 5 - PROGRESS: at 56.64% examples, 291472 words/s, in_qsize 7, out_qsize 0\n",
      "2021-08-16 14:39:56,701 : INFO : EPOCH 5 - PROGRESS: at 57.38% examples, 290651 words/s, in_qsize 7, out_qsize 0\n",
      "2021-08-16 14:39:57,789 : INFO : EPOCH 5 - PROGRESS: at 58.24% examples, 289945 words/s, in_qsize 7, out_qsize 0\n",
      "2021-08-16 14:39:58,810 : INFO : EPOCH 5 - PROGRESS: at 59.09% examples, 289517 words/s, in_qsize 7, out_qsize 0\n",
      "2021-08-16 14:39:59,866 : INFO : EPOCH 5 - PROGRESS: at 59.94% examples, 288833 words/s, in_qsize 7, out_qsize 0\n",
      "2021-08-16 14:40:00,897 : INFO : EPOCH 5 - PROGRESS: at 60.77% examples, 288146 words/s, in_qsize 7, out_qsize 0\n",
      "2021-08-16 14:40:01,979 : INFO : EPOCH 5 - PROGRESS: at 61.57% examples, 287383 words/s, in_qsize 7, out_qsize 0\n",
      "2021-08-16 14:40:02,980 : INFO : EPOCH 5 - PROGRESS: at 62.52% examples, 287400 words/s, in_qsize 7, out_qsize 0\n",
      "2021-08-16 14:40:04,007 : INFO : EPOCH 5 - PROGRESS: at 63.54% examples, 287698 words/s, in_qsize 7, out_qsize 0\n",
      "2021-08-16 14:40:05,029 : INFO : EPOCH 5 - PROGRESS: at 64.48% examples, 287904 words/s, in_qsize 7, out_qsize 0\n",
      "2021-08-16 14:40:06,063 : INFO : EPOCH 5 - PROGRESS: at 65.52% examples, 288266 words/s, in_qsize 7, out_qsize 0\n",
      "2021-08-16 14:40:07,094 : INFO : EPOCH 5 - PROGRESS: at 66.50% examples, 288511 words/s, in_qsize 7, out_qsize 0\n",
      "2021-08-16 14:40:08,103 : INFO : EPOCH 5 - PROGRESS: at 67.49% examples, 288748 words/s, in_qsize 7, out_qsize 0\n",
      "2021-08-16 14:40:09,116 : INFO : EPOCH 5 - PROGRESS: at 68.46% examples, 288839 words/s, in_qsize 7, out_qsize 0\n",
      "2021-08-16 14:40:10,180 : INFO : EPOCH 5 - PROGRESS: at 69.42% examples, 288925 words/s, in_qsize 7, out_qsize 0\n",
      "2021-08-16 14:40:11,281 : INFO : EPOCH 5 - PROGRESS: at 70.44% examples, 288991 words/s, in_qsize 7, out_qsize 0\n",
      "2021-08-16 14:40:12,332 : INFO : EPOCH 5 - PROGRESS: at 71.49% examples, 289254 words/s, in_qsize 7, out_qsize 0\n",
      "2021-08-16 14:40:13,334 : INFO : EPOCH 5 - PROGRESS: at 72.49% examples, 289472 words/s, in_qsize 7, out_qsize 0\n",
      "2021-08-16 14:40:14,351 : INFO : EPOCH 5 - PROGRESS: at 73.42% examples, 289522 words/s, in_qsize 7, out_qsize 0\n",
      "2021-08-16 14:40:15,353 : INFO : EPOCH 5 - PROGRESS: at 74.41% examples, 289726 words/s, in_qsize 7, out_qsize 0\n",
      "2021-08-16 14:40:16,375 : INFO : EPOCH 5 - PROGRESS: at 75.44% examples, 289949 words/s, in_qsize 7, out_qsize 0\n",
      "2021-08-16 14:40:17,385 : INFO : EPOCH 5 - PROGRESS: at 76.41% examples, 290123 words/s, in_qsize 7, out_qsize 0\n",
      "2021-08-16 14:40:18,420 : INFO : EPOCH 5 - PROGRESS: at 77.38% examples, 290197 words/s, in_qsize 7, out_qsize 0\n",
      "2021-08-16 14:40:19,436 : INFO : EPOCH 5 - PROGRESS: at 78.40% examples, 290455 words/s, in_qsize 7, out_qsize 0\n",
      "2021-08-16 14:40:20,445 : INFO : EPOCH 5 - PROGRESS: at 79.39% examples, 290619 words/s, in_qsize 7, out_qsize 0\n",
      "2021-08-16 14:40:21,466 : INFO : EPOCH 5 - PROGRESS: at 80.46% examples, 290942 words/s, in_qsize 7, out_qsize 0\n",
      "2021-08-16 14:40:22,472 : INFO : EPOCH 5 - PROGRESS: at 81.44% examples, 290988 words/s, in_qsize 7, out_qsize 0\n",
      "2021-08-16 14:40:23,483 : INFO : EPOCH 5 - PROGRESS: at 82.32% examples, 290710 words/s, in_qsize 7, out_qsize 0\n",
      "2021-08-16 14:40:24,494 : INFO : EPOCH 5 - PROGRESS: at 83.12% examples, 290240 words/s, in_qsize 7, out_qsize 0\n",
      "2021-08-16 14:40:25,548 : INFO : EPOCH 5 - PROGRESS: at 84.11% examples, 290024 words/s, in_qsize 7, out_qsize 0\n",
      "2021-08-16 14:40:26,559 : INFO : EPOCH 5 - PROGRESS: at 84.93% examples, 289577 words/s, in_qsize 7, out_qsize 0\n",
      "2021-08-16 14:40:27,574 : INFO : EPOCH 5 - PROGRESS: at 85.78% examples, 289224 words/s, in_qsize 7, out_qsize 0\n",
      "2021-08-16 14:40:28,586 : INFO : EPOCH 5 - PROGRESS: at 86.71% examples, 289188 words/s, in_qsize 7, out_qsize 0\n",
      "2021-08-16 14:40:29,601 : INFO : EPOCH 5 - PROGRESS: at 87.66% examples, 289299 words/s, in_qsize 7, out_qsize 0\n",
      "2021-08-16 14:40:30,633 : INFO : EPOCH 5 - PROGRESS: at 88.60% examples, 289398 words/s, in_qsize 7, out_qsize 0\n",
      "2021-08-16 14:40:31,652 : INFO : EPOCH 5 - PROGRESS: at 89.60% examples, 289626 words/s, in_qsize 7, out_qsize 0\n",
      "2021-08-16 14:40:32,696 : INFO : EPOCH 5 - PROGRESS: at 90.66% examples, 289849 words/s, in_qsize 7, out_qsize 0\n",
      "2021-08-16 14:40:33,699 : INFO : EPOCH 5 - PROGRESS: at 91.58% examples, 289918 words/s, in_qsize 7, out_qsize 0\n",
      "2021-08-16 14:40:34,699 : INFO : EPOCH 5 - PROGRESS: at 92.51% examples, 290017 words/s, in_qsize 7, out_qsize 0\n",
      "2021-08-16 14:40:35,751 : INFO : EPOCH 5 - PROGRESS: at 93.50% examples, 290040 words/s, in_qsize 7, out_qsize 0\n",
      "2021-08-16 14:40:36,765 : INFO : EPOCH 5 - PROGRESS: at 94.50% examples, 290261 words/s, in_qsize 7, out_qsize 0\n"
     ]
    },
    {
     "name": "stderr",
     "output_type": "stream",
     "text": [
      "2021-08-16 14:40:37,810 : INFO : EPOCH 5 - PROGRESS: at 95.51% examples, 290294 words/s, in_qsize 7, out_qsize 0\n",
      "2021-08-16 14:40:38,890 : INFO : EPOCH 5 - PROGRESS: at 96.56% examples, 290398 words/s, in_qsize 7, out_qsize 0\n",
      "2021-08-16 14:40:39,950 : INFO : EPOCH 5 - PROGRESS: at 97.60% examples, 290540 words/s, in_qsize 7, out_qsize 0\n",
      "2021-08-16 14:40:40,958 : INFO : EPOCH 5 - PROGRESS: at 98.59% examples, 290674 words/s, in_qsize 7, out_qsize 0\n",
      "2021-08-16 14:40:41,965 : INFO : EPOCH 5 - PROGRESS: at 99.62% examples, 290795 words/s, in_qsize 7, out_qsize 0\n",
      "2021-08-16 14:40:42,260 : INFO : worker thread finished; awaiting finish of 3 more threads\n",
      "2021-08-16 14:40:42,341 : INFO : worker thread finished; awaiting finish of 2 more threads\n",
      "2021-08-16 14:40:42,361 : INFO : worker thread finished; awaiting finish of 1 more threads\n",
      "2021-08-16 14:40:42,382 : INFO : worker thread finished; awaiting finish of 0 more threads\n",
      "2021-08-16 14:40:42,383 : INFO : EPOCH - 5 : training on 34321552 raw words (31281786 effective words) took 107.6s, 290845 effective words/s\n",
      "2021-08-16 14:40:42,384 : INFO : training on a 171607760 raw words (156407992 effective words) took 539.8s, 289735 effective words/s\n"
     ]
    }
   ],
   "source": [
    "model = word2vec.Word2Vec(user_fid_list,\n",
    "                          min_count=1, window=20, size=32, sg=1, workers=4, iter=5) "
   ]
  },
  {
   "cell_type": "code",
   "execution_count": 92,
   "metadata": {},
   "outputs": [
    {
     "name": "stdout",
     "output_type": "stream",
     "text": [
      "(30862, 1)\n",
      "unknown nums: 0\n"
     ]
    }
   ],
   "source": [
    "## 将每个feedid的向量保存为pickle\n",
    "emb_size = 32\n",
    "feed_emb = pd.DataFrame({'feedid': df['feedid'].unique()})\n",
    "print(feed_emb.shape)\n",
    "\n",
    "w2v_fid_mat = []\n",
    "null_cnt = 0\n",
    "for fid in feed_emb.feedid.values:\n",
    "    try:\n",
    "        emb = model.wv[fid]\n",
    "    except:\n",
    "        emb = np.zeros(emb_size)\n",
    "        null_cnt += 1\n",
    "    w2v_fid_mat.append(emb)\n",
    "w2v_fid_mat = np.array(w2v_fid_mat, dtype=np.float32)\n",
    "print(\"unknown nums: {}\".format(null_cnt))\n",
    "\n",
    "fid_w2v_emb = pd.concat([feed_emb, pd.DataFrame(w2v_fid_mat, \n",
    "                                                columns=['fid_w2v_emb{}'.format(i) for i in range(emb_size)])], \n",
    "                        axis=1)\n",
    "fid_w2v_emb['feedid'] = fid_w2v_emb['feedid'].astype(int)\n",
    "fid_w2v_emb.to_pickle(\"data/features/fid_w2v_emb.pkl\")"
   ]
  },
  {
   "cell_type": "markdown",
   "metadata": {},
   "source": [
    "### 行为序列的tfidf-svd特征"
   ]
  },
  {
   "cell_type": "code",
   "execution_count": 100,
   "metadata": {},
   "outputs": [],
   "source": [
    "df['feedid'] = df['feedid'].astype(int)"
   ]
  },
  {
   "cell_type": "code",
   "execution_count": 101,
   "metadata": {},
   "outputs": [],
   "source": [
    "def tfidf_svd(df, f1, f2, n_components=32):\n",
    "    tmp     = df.groupby(f1, as_index=False)[f2].agg({'list': lambda x: ' '.join(list(x.astype('str')))})\n",
    "    tfidf   = TfidfVectorizer(max_df=0.95, min_df=3, sublinear_tf=True)\n",
    "    res     = tfidf.fit_transform(tmp['list']) \n",
    "    print('svd start')\n",
    "    svd     = TruncatedSVD(n_components=n_components, random_state=2021)\n",
    "    svd_res = svd.fit_transform(res)\n",
    "    print('svd finished')\n",
    "    for i in (range(n_components)):\n",
    "        tmp['{}_{}_tfidf_svd_{}'.format(f1, f2, i)] = svd_res[:, i]\n",
    "        tmp['{}_{}_tfidf_svd_{}'.format(f1, f2, i)] = tmp['{}_{}_tfidf_svd_{}'.format(f1, f2, i)].astype(np.float32)\n",
    "    del tmp['list']\n",
    "    return tmp"
   ]
  },
  {
   "cell_type": "code",
   "execution_count": 103,
   "metadata": {},
   "outputs": [
    {
     "name": "stdout",
     "output_type": "stream",
     "text": [
      "svd start\n",
      "svd finished\n",
      "svd start\n",
      "svd finished\n",
      "CPU times: user 9min 59s, sys: 15.5 s, total: 10min 15s\n",
      "Wall time: 9min 17s\n"
     ]
    }
   ],
   "source": [
    "%%time\n",
    "\n",
    "fid_tfidf_svd_emb = tfidf_svd(df, 'feedid', 'userid')\n",
    "uid_tfidf_svd_emb = tfidf_svd(df, 'userid', 'feedid')\n",
    "\n",
    "fid_tfidf_svd_emb.to_pickle(\"data/features/fid_tfidf_svd_emb.pkl\")\n",
    "uid_tfidf_svd_emb.to_pickle(\"data/features/uid_tfidf_svd_emb.pkl\")"
   ]
  },
  {
   "cell_type": "code",
   "execution_count": null,
   "metadata": {},
   "outputs": [],
   "source": []
  },
  {
   "cell_type": "code",
   "execution_count": null,
   "metadata": {
    "scrolled": true
   },
   "outputs": [],
   "source": []
  },
  {
   "cell_type": "markdown",
   "metadata": {},
   "source": [
    "### 统计特征和CTR特征"
   ]
  },
  {
   "cell_type": "code",
   "execution_count": 46,
   "metadata": {
    "scrolled": true
   },
   "outputs": [
    {
     "name": "stderr",
     "output_type": "stream",
     "text": [
      "\r",
      "  0%|          | 0/8 [00:00<?, ?it/s]"
     ]
    },
    {
     "name": "stdout",
     "output_type": "stream",
     "text": [
      "(34321552, 8)\n"
     ]
    },
    {
     "name": "stderr",
     "output_type": "stream",
     "text": [
      "100%|██████████| 8/8 [00:01<00:00,  7.87it/s]\n",
      "100%|██████████| 6/6 [00:00<00:00, 699.38it/s]\n"
     ]
    },
    {
     "name": "stdout",
     "output_type": "stream",
     "text": [
      "360.77 Mb, 73.28 Mb (79.69 %)\n",
      "2.28 Mb, 0.62 Mb (72.91 %)\n"
     ]
    },
    {
     "name": "stderr",
     "output_type": "stream",
     "text": [
      "100%|██████████| 15/15 [00:02<00:00,  5.95it/s]"
     ]
    },
    {
     "name": "stdout",
     "output_type": "stream",
     "text": [
      "3371.35 Mb, 2487.60 Mb (26.21 %)\n"
     ]
    },
    {
     "name": "stderr",
     "output_type": "stream",
     "text": [
      "\n"
     ]
    }
   ],
   "source": [
    "train = pd.read_pickle(\"data/features/train.pkl\")\n",
    "test = pd.read_pickle(\"data/features/test.pkl\")\n",
    "user_info = pd.read_pickle(\"data/features/user_info.pkl\")\n",
    "video_info = pd.read_pickle(\"data/features/video_info.pkl\")\n",
    "\n",
    "df = pd.concat([train, test], ignore_index=True)\n",
    "df.rename(columns={'user_id': 'userid', 'video_id': 'feedid'}, inplace=True)\n",
    "\n",
    "del train, test\n",
    "gc.collect()\n",
    "print(df.shape)\n",
    "\n",
    "user_info = reduce_mem(user_info, user_info.columns)\n",
    "user_info.rename(columns={'user_id': 'userid'}, inplace=True)\n",
    "\n",
    "\n",
    "video_info['video_score'] = video_info['video_score'].fillna(video_info['video_score'].mean())\n",
    "video_info['video_release_year'] = video_info['video_release_year'].fillna(video_info['video_release_year'].mean())\n",
    "video_info['video_release_ndays'] = video_info['video_release_ndays'].fillna(video_info['video_release_ndays'].mean())\n",
    "video_info['video_class'] = LabelEncoder().fit_transform(video_info['video_class'])\n",
    "video_info = reduce_mem(video_info, video_info.columns)\n",
    "video_info.rename(columns={'video_id': 'feedid'}, inplace=True)\n",
    "\n",
    "\n",
    "df = df.merge(user_info, how='left', on='userid')\n",
    "df = df.merge(video_info, how='left', on='feedid')\n",
    "\n",
    "\n",
    "y_list = ['is_watch', 'is_share', 'is_collect', 'is_comment', 'watch_label']\n",
    "\n",
    "df = reduce_mem(df, cols=[col for col in df.columns if col not in y_list])"
   ]
  },
  {
   "cell_type": "code",
   "execution_count": 47,
   "metadata": {},
   "outputs": [],
   "source": [
    "df['video_class'] = df['video_class'].fillna(14.0)\n",
    "df['video_class'] = df['video_class'].astype(np.int32)\n",
    "\n",
    "for col in ['video_score', 'video_duration', 'video_release_year', 'video_release_ndays']:\n",
    "    df[col] = df[col].fillna(df[col].astype(np.float32).mean())"
   ]
  },
  {
   "cell_type": "code",
   "execution_count": 48,
   "metadata": {},
   "outputs": [
    {
     "data": {
      "text/html": [
       "<div>\n",
       "<style scoped>\n",
       "    .dataframe tbody tr th:only-of-type {\n",
       "        vertical-align: middle;\n",
       "    }\n",
       "\n",
       "    .dataframe tbody tr th {\n",
       "        vertical-align: top;\n",
       "    }\n",
       "\n",
       "    .dataframe thead th {\n",
       "        text-align: right;\n",
       "    }\n",
       "</style>\n",
       "<table border=\"1\" class=\"dataframe\">\n",
       "  <thead>\n",
       "    <tr style=\"text-align: right;\">\n",
       "      <th></th>\n",
       "      <th>userid</th>\n",
       "      <th>feedid</th>\n",
       "      <th>is_watch</th>\n",
       "      <th>is_share</th>\n",
       "      <th>is_collect</th>\n",
       "      <th>is_comment</th>\n",
       "      <th>watch_label</th>\n",
       "      <th>date_</th>\n",
       "      <th>age</th>\n",
       "      <th>gender</th>\n",
       "      <th>country</th>\n",
       "      <th>province</th>\n",
       "      <th>city</th>\n",
       "      <th>city_level</th>\n",
       "      <th>device_name</th>\n",
       "      <th>video_score</th>\n",
       "      <th>video_duration</th>\n",
       "      <th>video_release_year</th>\n",
       "      <th>video_release_ndays</th>\n",
       "      <th>video_class</th>\n",
       "    </tr>\n",
       "  </thead>\n",
       "  <tbody>\n",
       "    <tr>\n",
       "      <th>0</th>\n",
       "      <td>214949</td>\n",
       "      <td>23241</td>\n",
       "      <td>0.0</td>\n",
       "      <td>0.0</td>\n",
       "      <td>0.0</td>\n",
       "      <td>0.0</td>\n",
       "      <td>0.0</td>\n",
       "      <td>1</td>\n",
       "      <td>5</td>\n",
       "      <td>0</td>\n",
       "      <td>0</td>\n",
       "      <td>5</td>\n",
       "      <td>54</td>\n",
       "      <td>0</td>\n",
       "      <td>219</td>\n",
       "      <td>7.699219</td>\n",
       "      <td>5376.0</td>\n",
       "      <td>2021.0</td>\n",
       "      <td>23.0</td>\n",
       "      <td>27</td>\n",
       "    </tr>\n",
       "    <tr>\n",
       "      <th>1</th>\n",
       "      <td>3364496</td>\n",
       "      <td>23047</td>\n",
       "      <td>0.0</td>\n",
       "      <td>0.0</td>\n",
       "      <td>0.0</td>\n",
       "      <td>0.0</td>\n",
       "      <td>0.0</td>\n",
       "      <td>1</td>\n",
       "      <td>2</td>\n",
       "      <td>0</td>\n",
       "      <td>0</td>\n",
       "      <td>8</td>\n",
       "      <td>163</td>\n",
       "      <td>1</td>\n",
       "      <td>249</td>\n",
       "      <td>6.601562</td>\n",
       "      <td>4960.0</td>\n",
       "      <td>2016.0</td>\n",
       "      <td>1673.0</td>\n",
       "      <td>16</td>\n",
       "    </tr>\n",
       "    <tr>\n",
       "      <th>2</th>\n",
       "      <td>3364496</td>\n",
       "      <td>45506</td>\n",
       "      <td>0.0</td>\n",
       "      <td>0.0</td>\n",
       "      <td>0.0</td>\n",
       "      <td>0.0</td>\n",
       "      <td>0.0</td>\n",
       "      <td>1</td>\n",
       "      <td>2</td>\n",
       "      <td>0</td>\n",
       "      <td>0</td>\n",
       "      <td>8</td>\n",
       "      <td>163</td>\n",
       "      <td>1</td>\n",
       "      <td>249</td>\n",
       "      <td>6.621094</td>\n",
       "      <td>4244.0</td>\n",
       "      <td>1008.5</td>\n",
       "      <td>3144.0</td>\n",
       "      <td>14</td>\n",
       "    </tr>\n",
       "    <tr>\n",
       "      <th>3</th>\n",
       "      <td>3364496</td>\n",
       "      <td>23116</td>\n",
       "      <td>0.0</td>\n",
       "      <td>0.0</td>\n",
       "      <td>0.0</td>\n",
       "      <td>0.0</td>\n",
       "      <td>0.0</td>\n",
       "      <td>1</td>\n",
       "      <td>2</td>\n",
       "      <td>0</td>\n",
       "      <td>0</td>\n",
       "      <td>8</td>\n",
       "      <td>163</td>\n",
       "      <td>1</td>\n",
       "      <td>249</td>\n",
       "      <td>7.398438</td>\n",
       "      <td>6432.0</td>\n",
       "      <td>2017.0</td>\n",
       "      <td>1359.0</td>\n",
       "      <td>15</td>\n",
       "    </tr>\n",
       "    <tr>\n",
       "      <th>4</th>\n",
       "      <td>3364496</td>\n",
       "      <td>43058</td>\n",
       "      <td>0.0</td>\n",
       "      <td>0.0</td>\n",
       "      <td>0.0</td>\n",
       "      <td>0.0</td>\n",
       "      <td>0.0</td>\n",
       "      <td>1</td>\n",
       "      <td>2</td>\n",
       "      <td>0</td>\n",
       "      <td>0</td>\n",
       "      <td>8</td>\n",
       "      <td>163</td>\n",
       "      <td>1</td>\n",
       "      <td>249</td>\n",
       "      <td>7.199219</td>\n",
       "      <td>1185.0</td>\n",
       "      <td>2001.0</td>\n",
       "      <td>7428.0</td>\n",
       "      <td>14</td>\n",
       "    </tr>\n",
       "  </tbody>\n",
       "</table>\n",
       "</div>"
      ],
      "text/plain": [
       "    userid  feedid  is_watch  is_share  is_collect  is_comment  watch_label  \\\n",
       "0   214949   23241       0.0       0.0         0.0         0.0          0.0   \n",
       "1  3364496   23047       0.0       0.0         0.0         0.0          0.0   \n",
       "2  3364496   45506       0.0       0.0         0.0         0.0          0.0   \n",
       "3  3364496   23116       0.0       0.0         0.0         0.0          0.0   \n",
       "4  3364496   43058       0.0       0.0         0.0         0.0          0.0   \n",
       "\n",
       "   date_  age  gender  country  province  city  city_level  device_name  \\\n",
       "0      1    5       0        0         5    54           0          219   \n",
       "1      1    2       0        0         8   163           1          249   \n",
       "2      1    2       0        0         8   163           1          249   \n",
       "3      1    2       0        0         8   163           1          249   \n",
       "4      1    2       0        0         8   163           1          249   \n",
       "\n",
       "   video_score  video_duration  video_release_year  video_release_ndays  \\\n",
       "0     7.699219          5376.0              2021.0                 23.0   \n",
       "1     6.601562          4960.0              2016.0               1673.0   \n",
       "2     6.621094          4244.0              1008.5               3144.0   \n",
       "3     7.398438          6432.0              2017.0               1359.0   \n",
       "4     7.199219          1185.0              2001.0               7428.0   \n",
       "\n",
       "   video_class  \n",
       "0           27  \n",
       "1           16  \n",
       "2           14  \n",
       "3           15  \n",
       "4           14  "
      ]
     },
     "execution_count": 48,
     "metadata": {},
     "output_type": "execute_result"
    }
   ],
   "source": [
    "df.head()"
   ]
  },
  {
   "cell_type": "code",
   "execution_count": 49,
   "metadata": {
    "scrolled": true
   },
   "outputs": [
    {
     "name": "stdout",
     "output_type": "stream",
     "text": [
      "======== userid =========\n"
     ]
    },
    {
     "name": "stderr",
     "output_type": "stream",
     "text": [
      "100%|██████████| 11/11 [00:06<00:00,  1.80it/s]\n"
     ]
    },
    {
     "name": "stdout",
     "output_type": "stream",
     "text": [
      "1873.23 Mb, 636.90 Mb (66.00 %)\n",
      "time costed: 125.56\n",
      "======== feedid =========\n"
     ]
    },
    {
     "name": "stderr",
     "output_type": "stream",
     "text": [
      "100%|██████████| 11/11 [00:00<00:00, 134.37it/s]\n"
     ]
    },
    {
     "name": "stdout",
     "output_type": "stream",
     "text": [
      "35.23 Mb, 14.09 Mb (60.00 %)\n",
      "time costed: 211.8\n",
      "======== age =========\n"
     ]
    },
    {
     "name": "stderr",
     "output_type": "stream",
     "text": [
      "100%|██████████| 11/11 [00:00<00:00, 1551.51it/s]\n"
     ]
    },
    {
     "name": "stdout",
     "output_type": "stream",
     "text": [
      "0.01 Mb, 0.00 Mb (61.03 %)\n",
      "time costed: 307.14\n",
      "======== gender =========\n"
     ]
    },
    {
     "name": "stderr",
     "output_type": "stream",
     "text": [
      "100%|██████████| 11/11 [00:00<00:00, 1326.20it/s]\n"
     ]
    },
    {
     "name": "stdout",
     "output_type": "stream",
     "text": [
      "0.00 Mb, 0.00 Mb (59.97 %)\n",
      "time costed: 435.22\n",
      "======== city =========\n"
     ]
    },
    {
     "name": "stderr",
     "output_type": "stream",
     "text": [
      "100%|██████████| 11/11 [00:00<00:00, 1160.10it/s]\n"
     ]
    },
    {
     "name": "stdout",
     "output_type": "stream",
     "text": [
      "0.44 Mb, 0.16 Mb (63.25 %)\n",
      "time costed: 594.14\n",
      "======== city_level =========\n"
     ]
    },
    {
     "name": "stderr",
     "output_type": "stream",
     "text": [
      "100%|██████████| 11/11 [00:00<00:00, 2287.88it/s]\n"
     ]
    },
    {
     "name": "stdout",
     "output_type": "stream",
     "text": [
      "0.01 Mb, 0.00 Mb (61.03 %)\n",
      "time costed: 799.68\n",
      "======== video_class =========\n"
     ]
    },
    {
     "name": "stderr",
     "output_type": "stream",
     "text": [
      "100%|██████████| 11/11 [00:00<00:00, 1236.53it/s]\n"
     ]
    },
    {
     "name": "stdout",
     "output_type": "stream",
     "text": [
      "0.11 Mb, 0.04 Mb (59.93 %)\n",
      "time costed: 1049.29\n",
      "======== feedid_age =========\n"
     ]
    },
    {
     "name": "stderr",
     "output_type": "stream",
     "text": [
      "100%|██████████| 11/11 [00:00<00:00, 27.42it/s]\n"
     ]
    },
    {
     "name": "stdout",
     "output_type": "stream",
     "text": [
      "181.03 Mb, 73.49 Mb (59.41 %)\n",
      "time costed: 1378.6\n",
      "======== feedid_gender =========\n"
     ]
    },
    {
     "name": "stderr",
     "output_type": "stream",
     "text": [
      "100%|██████████| 11/11 [00:00<00:00, 67.18it/s]\n"
     ]
    },
    {
     "name": "stdout",
     "output_type": "stream",
     "text": [
      "77.24 Mb, 31.35 Mb (59.41 %)\n",
      "time costed: 1764.02\n",
      "======== feedid_city =========\n"
     ]
    },
    {
     "name": "stderr",
     "output_type": "stream",
     "text": [
      "100%|██████████| 11/11 [00:08<00:00,  1.35it/s]\n"
     ]
    },
    {
     "name": "stdout",
     "output_type": "stream",
     "text": [
      "2434.13 Mb, 859.10 Mb (64.71 %)\n",
      "time costed: 2328.71\n"
     ]
    }
   ],
   "source": [
    "## 统计历史5天的曝光、转化、视频观看等情况（此处的转化率统计其实就是target encoding）\n",
    "n_day = 5\n",
    "max_day = 15\n",
    "start_time = time.time()\n",
    "\n",
    "\n",
    "for stat_cols in ([\n",
    "    ['userid'], ['feedid'], ['age'], ['gender'], ['city'], ['city_level'], ['video_class'],\n",
    "    ['feedid', 'age'],  ['feedid', 'gender'], ['feedid', 'city']]):\n",
    "    \n",
    "    f = '_'.join(stat_cols)\n",
    "    print('======== ' + f + ' =========')\n",
    "    stat_df = pd.DataFrame()\n",
    "    for target_day in range(2, max_day + 1):\n",
    "        left, right = max(target_day - n_day, 1), target_day - 1\n",
    "        \n",
    "        tmp = df[((df['date_'] >= left) & (df['date_'] <= right))].reset_index(drop=True)\n",
    "        tmp['date_'] = target_day\n",
    "        tmp['{}_{}day_count'.format(f, n_day)] = tmp.groupby(stat_cols)['date_'].transform('count')\n",
    "        \n",
    "        g = tmp.groupby(stat_cols)\n",
    "        \n",
    "        # 特征列\n",
    "        feats = ['{}_{}day_count'.format(f, n_day)]\n",
    "\n",
    "        for y in y_list:\n",
    "            tmp['{}_{}day_{}_sum'.format(f, n_day, y)] = g[y].transform('sum')\n",
    "            tmp['{}_{}day_{}_mean'.format(f, n_day, y)] = g[y].transform('mean')\n",
    "            feats.extend(['{}_{}day_{}_sum'.format(f, n_day, y), '{}_{}day_{}_mean'.format(f, n_day, y)])\n",
    "        \n",
    "        tmp = tmp[stat_cols + feats + ['date_']].drop_duplicates(stat_cols + ['date_']).reset_index(drop=True)\n",
    "        stat_df = pd.concat([stat_df, tmp], axis=0, ignore_index=True)\n",
    "        del g, tmp\n",
    "    \n",
    "    stat_df = reduce_mem(stat_df, [f for f in stat_df.columns if f not in stat_cols + ['date_'] + y_list])\n",
    "    df = df.merge(stat_df, on=stat_cols + ['date_'], how='left')\n",
    "    del stat_df\n",
    "    gc.collect()\n",
    "    print(\"time costed: {}(s)\".format(round(time.time() - start_time, 2)))"
   ]
  },
  {
   "cell_type": "code",
   "execution_count": 51,
   "metadata": {},
   "outputs": [
    {
     "data": {
      "text/plain": [
       "(34321552, 130)"
      ]
     },
     "execution_count": 51,
     "metadata": {},
     "output_type": "execute_result"
    }
   ],
   "source": [
    "df.shape"
   ]
  },
  {
   "cell_type": "code",
   "execution_count": 52,
   "metadata": {},
   "outputs": [
    {
     "name": "stdout",
     "output_type": "stream",
     "text": [
      "<class 'pandas.core.frame.DataFrame'>\n",
      "Int64Index: 34321552 entries, 0 to 34321551\n",
      "Columns: 130 entries, userid to feedid_city_5day_watch_label_mean\n",
      "dtypes: float16(89), float32(15), float64(15), int16(2), int32(3), int8(6)\n",
      "memory usage: 12.4 GB\n"
     ]
    }
   ],
   "source": [
    "df.info()"
   ]
  },
  {
   "cell_type": "code",
   "execution_count": 55,
   "metadata": {},
   "outputs": [],
   "source": [
    "# df.to_pickle(\"data/features/df_v1.pkl\")"
   ]
  },
  {
   "cell_type": "code",
   "execution_count": 54,
   "metadata": {},
   "outputs": [],
   "source": [
    "df.to_feather(\"data/features/df_v1.feather\")"
   ]
  },
  {
   "cell_type": "code",
   "execution_count": null,
   "metadata": {},
   "outputs": [],
   "source": []
  }
 ],
 "metadata": {
  "kernelspec": {
   "display_name": "Python 3",
   "language": "python",
   "name": "python3"
  },
  "language_info": {
   "codemirror_mode": {
    "name": "ipython",
    "version": 3
   },
   "file_extension": ".py",
   "mimetype": "text/x-python",
   "name": "python",
   "nbconvert_exporter": "python",
   "pygments_lexer": "ipython3",
   "version": "3.6.5"
  },
  "toc": {
   "base_numbering": 1,
   "nav_menu": {},
   "number_sections": true,
   "sideBar": true,
   "skip_h1_title": false,
   "title_cell": "Table of Contents",
   "title_sidebar": "Contents",
   "toc_cell": false,
   "toc_position": {},
   "toc_section_display": true,
   "toc_window_display": false
  },
  "varInspector": {
   "cols": {
    "lenName": 16,
    "lenType": 16,
    "lenVar": 40
   },
   "kernels_config": {
    "python": {
     "delete_cmd_postfix": "",
     "delete_cmd_prefix": "del ",
     "library": "var_list.py",
     "varRefreshCmd": "print(var_dic_list())"
    },
    "r": {
     "delete_cmd_postfix": ") ",
     "delete_cmd_prefix": "rm(",
     "library": "var_list.r",
     "varRefreshCmd": "cat(var_dic_list()) "
    }
   },
   "types_to_exclude": [
    "module",
    "function",
    "builtin_function_or_method",
    "instance",
    "_Feature"
   ],
   "window_display": false
  }
 },
 "nbformat": 4,
 "nbformat_minor": 2
}
