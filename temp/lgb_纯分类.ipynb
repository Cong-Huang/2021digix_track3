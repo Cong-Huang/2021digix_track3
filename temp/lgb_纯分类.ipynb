{
 "cells": [
  {
   "cell_type": "code",
   "execution_count": 1,
   "metadata": {},
   "outputs": [],
   "source": [
    "import pandas as pd\n",
    "import numpy as np\n",
    "from tqdm import tqdm\n",
    "tqdm.pandas()\n",
    "from sklearn.metrics import roc_auc_score\n",
    "from lightgbm.sklearn import LGBMClassifier, LGBMRegressor\n",
    "import lightgbm as lgb\n",
    "from collections import defaultdict\n",
    "from sklearn.preprocessing import LabelEncoder\n",
    "from sklearn.model_selection import KFold \n",
    "import gc\n",
    "import random\n",
    "import time\n",
    "import os\n",
    "import pickle\n",
    "from utils import reduce_mem, uAUC, ProNE, HyperParam, get_logger, fast_auc\n",
    "\n",
    "pd.set_option('display.max_columns', None)"
   ]
  },
  {
   "cell_type": "markdown",
   "metadata": {},
   "source": [
    "# 读取特征"
   ]
  },
  {
   "cell_type": "markdown",
   "metadata": {},
   "source": [
    "## 读取数值特征"
   ]
  },
  {
   "cell_type": "code",
   "execution_count": 2,
   "metadata": {},
   "outputs": [
    {
     "name": "stdout",
     "output_type": "stream",
     "text": [
      "(83099036, 93) (83099036, 61) (83099036, 39)\n",
      "(83099036, 132)\n",
      "(77515926, 132) (2822180, 2)\n",
      "CPU times: user 3min 56s, sys: 9min 49s, total: 13min 45s\n",
      "Wall time: 15min 6s\n"
     ]
    }
   ],
   "source": [
    "%%time\n",
    "df1 = pd.read_feather(\"data/features/df_stat1_v3.feather\")\n",
    "df2 = pd.read_feather(\"data/features/df_stat2_v3.feather\")\n",
    "df3 = pd.read_feather(\"data/features/df_stat2_v2.feather\")\n",
    "print(df1.shape, df2.shape, df3.shape)\n",
    "\n",
    "del_cols = ['is_watch', 'is_collect', 'is_comment', 'watch_playseconds',\n",
    "            'watch_label_cls_1', 'watch_label_cls_2', 'watch_label_cls_3', \n",
    "            'watch_label_cls_4', 'watch_label_cls_5', 'watch_label_cls_6',\n",
    "            'watch_label_cls_7', 'watch_label_cls_8', 'watch_label_cls_9']\n",
    "df1.drop(columns=del_cols, inplace=True)\n",
    "\n",
    "## 拼接特征df2\n",
    "df = pd.concat([df1, df2[df2.columns[29:]]], axis=1)\n",
    "del df1, df2\n",
    "gc.collect()\n",
    "\n",
    "## 拼接特征df3\n",
    "df = pd.concat([df, df3[df3.columns[19:]]], axis=1)\n",
    "print(df.shape)\n",
    "del df3\n",
    "gc.collect()\n",
    "\n",
    "## 去除第一天的样本特征\n",
    "df = df[df['date_'] != 1].reset_index(drop=True)\n",
    "\n",
    "\n",
    "## 需要提交的\n",
    "submit = df[df['date_'] == 15][['userid', 'feedid']].reset_index(drop=True)\n",
    "print(df.shape, submit.shape)\n",
    "df.head()"
   ]
  },
  {
   "cell_type": "markdown",
   "metadata": {},
   "source": [
    "## embedding特征"
   ]
  },
  {
   "cell_type": "code",
   "execution_count": 3,
   "metadata": {},
   "outputs": [
    {
     "name": "stderr",
     "output_type": "stream",
     "text": [
      "100%|██████████| 33/33 [00:00<00:00, 495.14it/s]\n",
      "100%|██████████| 33/33 [00:00<00:00, 982.99it/s]\n",
      "100%|██████████| 33/33 [00:00<00:00, 549.24it/s]\n",
      "  0%|          | 0/33 [00:00<?, ?it/s]"
     ]
    },
    {
     "name": "stdout",
     "output_type": "stream",
     "text": [
      "4.32 Mb, 2.22 Mb (48.48 %)\n",
      "4.71 Mb, 2.49 Mb (47.22 %)\n",
      "4.32 Mb, 2.22 Mb (48.48 %)\n"
     ]
    },
    {
     "name": "stderr",
     "output_type": "stream",
     "text": [
      "100%|██████████| 33/33 [00:01<00:00, 22.56it/s]\n",
      "  6%|▌         | 2/33 [00:00<00:02, 11.73it/s]"
     ]
    },
    {
     "name": "stdout",
     "output_type": "stream",
     "text": [
      "552.51 Mb, 291.60 Mb (47.22 %)\n"
     ]
    },
    {
     "name": "stderr",
     "output_type": "stream",
     "text": [
      "100%|██████████| 33/33 [00:03<00:00,  8.58it/s]\n"
     ]
    },
    {
     "name": "stdout",
     "output_type": "stream",
     "text": [
      "506.47 Mb, 260.91 Mb (48.48 %)\n",
      "(34304, 33) (34304, 33) (34304, 33) (4023240, 33) (4023240, 33)\n",
      "(4023240, 65) (34304, 97)\n"
     ]
    },
    {
     "data": {
      "text/plain": [
       "0"
      ]
     },
     "execution_count": 3,
     "metadata": {},
     "output_type": "execute_result"
    }
   ],
   "source": [
    "fid_w2v_emb = pd.read_pickle(\"data/features/fid_w2v_emb.pkl\")\n",
    "fid_tfidf_svd_emb = pd.read_pickle(\"data/features/fid_tfidf_svd_emb.pkl\")\n",
    "fid_prone_emb = pd.read_pickle(\"data/features/feed_prone_emb.pkl\")\n",
    "\n",
    "uid_tfidf_svd_emb = pd.read_pickle(\"data/features/uid_tfidf_svd_emb.pkl\")\n",
    "uid_prone_emb = pd.read_pickle(\"data/features/user_prone_emb.pkl\")\n",
    "\n",
    "\n",
    "fid_w2v_emb = reduce_mem(fid_w2v_emb)\n",
    "fid_tfidf_svd_emb = reduce_mem(fid_tfidf_svd_emb)\n",
    "fid_prone_emb = reduce_mem(fid_prone_emb)\n",
    "uid_tfidf_svd_emb = reduce_mem(uid_tfidf_svd_emb)\n",
    "uid_prone_emb = reduce_mem(uid_prone_emb)\n",
    "\n",
    "print(fid_w2v_emb.shape, fid_tfidf_svd_emb.shape, fid_prone_emb.shape, uid_tfidf_svd_emb.shape, uid_prone_emb.shape)\n",
    "\n",
    "\n",
    "## 合并\n",
    "fid_emb_df = fid_w2v_emb.merge(fid_tfidf_svd_emb, how='left', on=['feedid'])\n",
    "fid_emb_df = fid_emb_df.merge(fid_prone_emb, how='left', on=['feedid'])\n",
    "uid_emb_df = uid_tfidf_svd_emb.merge(uid_prone_emb, how='left', on=['userid'])\n",
    "print(uid_emb_df.shape, fid_emb_df.shape)\n",
    "\n",
    "del fid_w2v_emb, fid_tfidf_svd_emb, uid_tfidf_svd_emb, uid_prone_emb, fid_prone_emb\n",
    "gc.collect()"
   ]
  },
  {
   "cell_type": "markdown",
   "metadata": {},
   "source": [
    "## 切分训练、验证、测试"
   ]
  },
  {
   "cell_type": "code",
   "execution_count": 4,
   "metadata": {},
   "outputs": [
    {
     "name": "stdout",
     "output_type": "stream",
     "text": [
      "(5529636, 132)\n"
     ]
    }
   ],
   "source": [
    "##  For模型验证效果\n",
    "valid_14 = df[df['date_'] == 14].reset_index(drop=True)\n",
    "print(valid_14.shape)"
   ]
  },
  {
   "cell_type": "code",
   "execution_count": 5,
   "metadata": {
    "scrolled": true
   },
   "outputs": [
    {
     "name": "stdout",
     "output_type": "stream",
     "text": [
      "(74693746, 132) (2822180, 132)\n",
      "正负样本个数： (2029985, 133) (10899564, 133)\n",
      "(11976009, 133) (953540, 133) (2822180, 132)\n",
      "CPU times: user 2min 29s, sys: 5min 1s, total: 7min 30s\n",
      "Wall time: 9min 37s\n"
     ]
    }
   ],
   "source": [
    "%%time\n",
    "\n",
    "train_tmp = df[df['date_'] <= 14]\n",
    "test = df[df['date_'] == 15].reset_index(drop=True)\n",
    "print(train_tmp.shape, test.shape)\n",
    "\n",
    "del df\n",
    "gc.collect()\n",
    "\n",
    "y_list = ['is_share', 'watch_label']\n",
    "train_tmp['y_sum'] = train_tmp[y_list].sum(axis=1)\n",
    "train_pos = train_tmp[train_tmp['y_sum'] >= 1]\n",
    "train_neg = train_tmp[train_tmp['y_sum'] == 0].sample(frac=0.15, random_state=202108)\n",
    "\n",
    "print(\"正负样本个数：\", train_pos.shape, train_neg.shape)\n",
    "train = pd.concat([train_pos, train_neg], ignore_index=True)\n",
    "valid = train[train['date_'] >= 14].reset_index(drop=True)\n",
    "train = train[train['date_'] < 14]\n",
    "train = train.sample(frac=1.0).reset_index(drop=True)\n",
    "print(train.shape, valid.shape, test.shape)\n",
    "\n",
    "del train_tmp, train_pos, train_neg, train['y_sum']\n",
    "gc.collect()"
   ]
  },
  {
   "cell_type": "markdown",
   "metadata": {},
   "source": [
    "## 拼接embedding特征"
   ]
  },
  {
   "cell_type": "code",
   "execution_count": 6,
   "metadata": {},
   "outputs": [
    {
     "name": "stdout",
     "output_type": "stream",
     "text": [
      "(11976009, 292)\n",
      "(953540, 293) (5529636, 292) (2822180, 292)\n",
      "CPU times: user 1min 34s, sys: 43.2 s, total: 2min 17s\n",
      "Wall time: 2min 21s\n"
     ]
    }
   ],
   "source": [
    "%%time\n",
    "\n",
    "train = train.merge(fid_emb_df, how='left', on=['feedid'])\n",
    "train = train.merge(uid_emb_df, how='left', on=['userid'])\n",
    "print(train.shape)\n",
    "\n",
    "valid = valid.merge(fid_emb_df, how='left', on=['feedid'])\n",
    "valid = valid.merge(uid_emb_df, how='left', on=['userid'])\n",
    "\n",
    "test = test.merge(fid_emb_df, how='left', on=['feedid'])\n",
    "test = test.merge(uid_emb_df, how='left', on=['userid'])\n",
    "\n",
    "valid_14 = valid_14.merge(fid_emb_df, how='left', on=['feedid'])\n",
    "valid_14 = valid_14.merge(uid_emb_df, how='left', on=['userid'])\n",
    "print(valid.shape, valid_14.shape, test.shape)"
   ]
  },
  {
   "cell_type": "code",
   "execution_count": 7,
   "metadata": {},
   "outputs": [],
   "source": [
    "train.to_feather(\"data/nn_features/train.feather\")\n",
    "valid.to_feather(\"data/nn_features/valid.feather\")\n",
    "valid_14.to_feather(\"data/nn_features/valid_14.feather\")\n",
    "test.to_feather(\"data/nn_features/test.feather\")"
   ]
  },
  {
   "cell_type": "code",
   "execution_count": 2,
   "metadata": {},
   "outputs": [],
   "source": [
    "test = pd.read_feather(\"data/nn_features/test.feather\")"
   ]
  },
  {
   "cell_type": "markdown",
   "metadata": {},
   "source": [
    "## 定义特征列"
   ]
  },
  {
   "cell_type": "code",
   "execution_count": 3,
   "metadata": {},
   "outputs": [
    {
     "name": "stdout",
     "output_type": "stream",
     "text": [
      "特征总数：289\n"
     ]
    }
   ],
   "source": [
    "cate_cols = ['userid', 'feedid', 'age', 'gender', 'country', 'province', 'city', 'city_level', 'device_name']\n",
    "y_list = ['is_watch', 'is_share', 'is_collect', 'is_comment', 'watch_label']\n",
    "\n",
    "# for col in tqdm(cate_cols):\n",
    "#     lbl = LabelEncoder()\n",
    "#     df[col] = lbl.fit_transform(df[col])\n",
    "    \n",
    "## lgb训练模型所需要的特征列\n",
    "cols = [f for f in test.columns if (f not in ['date_'] + y_list)]\n",
    "print(\"特征总数：{}\".format(len(cols)))"
   ]
  },
  {
   "cell_type": "code",
   "execution_count": 4,
   "metadata": {},
   "outputs": [
    {
     "ename": "NameError",
     "evalue": "name 'train' is not defined",
     "output_type": "error",
     "traceback": [
      "\u001b[0;31m---------------------------------------------------------------------------\u001b[0m",
      "\u001b[0;31mNameError\u001b[0m                                 Traceback (most recent call last)",
      "\u001b[0;32m<ipython-input-4-b5e13be0641c>\u001b[0m in \u001b[0;36m<module>\u001b[0;34m()\u001b[0m\n\u001b[0;32m----> 1\u001b[0;31m \u001b[0mtrain\u001b[0m\u001b[0;34m[\u001b[0m\u001b[0;34m'is_share'\u001b[0m\u001b[0;34m]\u001b[0m\u001b[0;34m.\u001b[0m\u001b[0mvalue_counts\u001b[0m\u001b[0;34m(\u001b[0m\u001b[0;34m)\u001b[0m\u001b[0;34m,\u001b[0m \u001b[0mvalid\u001b[0m\u001b[0;34m[\u001b[0m\u001b[0;34m'is_share'\u001b[0m\u001b[0;34m]\u001b[0m\u001b[0;34m.\u001b[0m\u001b[0mvalue_counts\u001b[0m\u001b[0;34m(\u001b[0m\u001b[0;34m)\u001b[0m\u001b[0;34m\u001b[0m\u001b[0m\n\u001b[0m",
      "\u001b[0;31mNameError\u001b[0m: name 'train' is not defined"
     ]
    }
   ],
   "source": [
    "train['is_share'].value_counts(), valid['is_share'].value_counts()"
   ]
  },
  {
   "cell_type": "markdown",
   "metadata": {},
   "source": [
    "# 训练 is_share"
   ]
  },
  {
   "cell_type": "code",
   "execution_count": 10,
   "metadata": {},
   "outputs": [
    {
     "name": "stdout",
     "output_type": "stream",
     "text": [
      "Training until validation scores don't improve for 50 rounds\n",
      "[100]\ttrain's auc: 0.856612\tvalid's auc: 0.839816\n",
      "[200]\ttrain's auc: 0.888037\tvalid's auc: 0.843516\n",
      "[300]\ttrain's auc: 0.914422\tvalid's auc: 0.847286\n",
      "[400]\ttrain's auc: 0.935715\tvalid's auc: 0.848583\n",
      "[500]\ttrain's auc: 0.947522\tvalid's auc: 0.850404\n",
      "[600]\ttrain's auc: 0.960006\tvalid's auc: 0.851375\n",
      "Early stopping, best iteration is:\n",
      "[601]\ttrain's auc: 0.960054\tvalid's auc: 0.851394\n",
      "CPU times: user 5h 29min 36s, sys: 7min 49s, total: 5h 37min 25s\n",
      "Wall time: 55min 34s\n"
     ]
    }
   ],
   "source": [
    "%%time\n",
    "clf2 = LGBMClassifier(\n",
    "            learning_rate=0.01,\n",
    "            n_estimators=2000,\n",
    "            num_leaves=63,\n",
    "            subsample=0.85,\n",
    "            colsample_bytree=0.85,\n",
    "            random_state=2021,\n",
    "            metric='None',\n",
    "            importance_type='gain',\n",
    "            n_jobs=8)\n",
    "    \n",
    "clf2.fit(train[cols].values.astype(np.float32), \n",
    "         train['is_share'].values,\n",
    "         eval_set=[(train[cols].values.astype(np.float32),  train['is_share'].values), \n",
    "                   (valid[cols].values.astype(np.float32),  valid['is_share'].values)],\n",
    "         eval_names=['train', 'valid'],\n",
    "         eval_metric='auc',\n",
    "         early_stopping_rounds=50,\n",
    "         verbose=100)\n",
    "    \n",
    "submit['is_share_pred'] = clf2.predict_proba(test[cols].values)[:, 1]\n",
    "valid_14['is_share_pred'] = clf2.predict_proba(valid_14[cols].values)[:, 1]\n",
    "pickle.dump(clf2, open(\"data/lgb_save_model/lgb_is_share_cls.pkl\", 'wb'))"
   ]
  },
  {
   "cell_type": "code",
   "execution_count": 6,
   "metadata": {},
   "outputs": [
    {
     "data": {
      "text/html": [
       "<div>\n",
       "<style scoped>\n",
       "    .dataframe tbody tr th:only-of-type {\n",
       "        vertical-align: middle;\n",
       "    }\n",
       "\n",
       "    .dataframe tbody tr th {\n",
       "        vertical-align: top;\n",
       "    }\n",
       "\n",
       "    .dataframe thead th {\n",
       "        text-align: right;\n",
       "    }\n",
       "</style>\n",
       "<table border=\"1\" class=\"dataframe\">\n",
       "  <thead>\n",
       "    <tr style=\"text-align: right;\">\n",
       "      <th></th>\n",
       "      <th>fea</th>\n",
       "      <th>imp</th>\n",
       "    </tr>\n",
       "  </thead>\n",
       "  <tbody>\n",
       "    <tr>\n",
       "      <th>241</th>\n",
       "      <td>userid_feedid_tfidf_svd_16</td>\n",
       "      <td>248712.038439</td>\n",
       "    </tr>\n",
       "    <tr>\n",
       "      <th>15</th>\n",
       "      <td>userid_7day_is_share_mean</td>\n",
       "      <td>176396.836979</td>\n",
       "    </tr>\n",
       "    <tr>\n",
       "      <th>114</th>\n",
       "      <td>userid_date__cnt</td>\n",
       "      <td>174385.045159</td>\n",
       "    </tr>\n",
       "    <tr>\n",
       "      <th>112</th>\n",
       "      <td>global_userid_cnt</td>\n",
       "      <td>127996.751253</td>\n",
       "    </tr>\n",
       "    <tr>\n",
       "      <th>115</th>\n",
       "      <td>userid_date_ratio</td>\n",
       "      <td>121947.363485</td>\n",
       "    </tr>\n",
       "    <tr>\n",
       "      <th>33</th>\n",
       "      <td>feedid_7day_is_comment_mean</td>\n",
       "      <td>96468.430040</td>\n",
       "    </tr>\n",
       "    <tr>\n",
       "      <th>31</th>\n",
       "      <td>feedid_7day_is_share_mean</td>\n",
       "      <td>89181.929817</td>\n",
       "    </tr>\n",
       "    <tr>\n",
       "      <th>7</th>\n",
       "      <td>device_name</td>\n",
       "      <td>55767.861621</td>\n",
       "    </tr>\n",
       "    <tr>\n",
       "      <th>95</th>\n",
       "      <td>feedid_3day_is_share_mean</td>\n",
       "      <td>51849.631718</td>\n",
       "    </tr>\n",
       "    <tr>\n",
       "      <th>113</th>\n",
       "      <td>global_userid_dcnt</td>\n",
       "      <td>44592.176512</td>\n",
       "    </tr>\n",
       "    <tr>\n",
       "      <th>111</th>\n",
       "      <td>feedid_date__cnt</td>\n",
       "      <td>42751.411154</td>\n",
       "    </tr>\n",
       "    <tr>\n",
       "      <th>167</th>\n",
       "      <td>feedid_userid_tfidf_svd_6</td>\n",
       "      <td>36850.137875</td>\n",
       "    </tr>\n",
       "    <tr>\n",
       "      <th>250</th>\n",
       "      <td>userid_feedid_tfidf_svd_25</td>\n",
       "      <td>33692.161010</td>\n",
       "    </tr>\n",
       "    <tr>\n",
       "      <th>8</th>\n",
       "      <td>video_score</td>\n",
       "      <td>33311.000523</td>\n",
       "    </tr>\n",
       "    <tr>\n",
       "      <th>13</th>\n",
       "      <td>userid_7day_count</td>\n",
       "      <td>32034.622459</td>\n",
       "    </tr>\n",
       "    <tr>\n",
       "      <th>248</th>\n",
       "      <td>userid_feedid_tfidf_svd_23</td>\n",
       "      <td>30391.594610</td>\n",
       "    </tr>\n",
       "    <tr>\n",
       "      <th>254</th>\n",
       "      <td>userid_feedid_tfidf_svd_29</td>\n",
       "      <td>28537.557571</td>\n",
       "    </tr>\n",
       "    <tr>\n",
       "      <th>258</th>\n",
       "      <td>user_prone_emb1</td>\n",
       "      <td>28189.138060</td>\n",
       "    </tr>\n",
       "    <tr>\n",
       "      <th>261</th>\n",
       "      <td>user_prone_emb4</td>\n",
       "      <td>24794.157427</td>\n",
       "    </tr>\n",
       "    <tr>\n",
       "      <th>287</th>\n",
       "      <td>user_prone_emb30</td>\n",
       "      <td>24196.455099</td>\n",
       "    </tr>\n",
       "  </tbody>\n",
       "</table>\n",
       "</div>"
      ],
      "text/plain": [
       "                             fea            imp\n",
       "241   userid_feedid_tfidf_svd_16  248712.038439\n",
       "15     userid_7day_is_share_mean  176396.836979\n",
       "114             userid_date__cnt  174385.045159\n",
       "112            global_userid_cnt  127996.751253\n",
       "115            userid_date_ratio  121947.363485\n",
       "33   feedid_7day_is_comment_mean   96468.430040\n",
       "31     feedid_7day_is_share_mean   89181.929817\n",
       "7                    device_name   55767.861621\n",
       "95     feedid_3day_is_share_mean   51849.631718\n",
       "113           global_userid_dcnt   44592.176512\n",
       "111             feedid_date__cnt   42751.411154\n",
       "167    feedid_userid_tfidf_svd_6   36850.137875\n",
       "250   userid_feedid_tfidf_svd_25   33692.161010\n",
       "8                    video_score   33311.000523\n",
       "13             userid_7day_count   32034.622459\n",
       "248   userid_feedid_tfidf_svd_23   30391.594610\n",
       "254   userid_feedid_tfidf_svd_29   28537.557571\n",
       "258              user_prone_emb1   28189.138060\n",
       "261              user_prone_emb4   24794.157427\n",
       "287             user_prone_emb30   24196.455099"
      ]
     },
     "execution_count": 6,
     "metadata": {},
     "output_type": "execute_result"
    }
   ],
   "source": [
    "'''\n",
    "[523]\ttrain's auc: 0.930459\tvalid's auc: 0.848794\n",
    "\n",
    "'''\n",
    "\n",
    "## 特征重要性\n",
    "fea_imp = pd.DataFrame({'fea': cols, 'imp': clf2.feature_importances_})\n",
    "fea_imp.sort_values('imp', inplace=True, ascending=False)\n",
    "fea_imp.head(20)"
   ]
  },
  {
   "cell_type": "code",
   "execution_count": 5,
   "metadata": {},
   "outputs": [],
   "source": [
    "clf2 = pickle.load(open(\"data/lgb_save_model/lgb_is_share_cls.pkl\", 'rb'))"
   ]
  },
  {
   "cell_type": "code",
   "execution_count": null,
   "metadata": {},
   "outputs": [],
   "source": []
  },
  {
   "cell_type": "markdown",
   "metadata": {},
   "source": [
    "# 训练 watch_label"
   ]
  },
  {
   "cell_type": "code",
   "execution_count": 9,
   "metadata": {},
   "outputs": [
    {
     "name": "stderr",
     "output_type": "stream",
     "text": [
      "11976009it [00:05, 2090202.99it/s]\n",
      "953540it [00:00, 1955221.39it/s]\n"
     ]
    },
    {
     "name": "stdout",
     "output_type": "stream",
     "text": [
      "(11976009, 10) (953540, 10)\n"
     ]
    }
   ],
   "source": [
    "train_y_watch = train['watch_label'].values\n",
    "valid_y_watch = valid['watch_label'].values\n",
    "\n",
    "def onehot_encode(nums, k):\n",
    "    res = np.zeros((len(nums), k))\n",
    "    for i, x in tqdm(enumerate(nums)):\n",
    "        res[i, int(x)] = 1\n",
    "    res = res.astype(np.float16)\n",
    "    return res\n",
    "\n",
    "train_y_watch = onehot_encode(train_y_watch, 10)\n",
    "valid_y_watch = onehot_encode(valid_y_watch, 10)\n",
    "print(train_y_watch.shape, valid_y_watch.shape)"
   ]
  },
  {
   "cell_type": "code",
   "execution_count": null,
   "metadata": {},
   "outputs": [
    {
     "name": "stdout",
     "output_type": "stream",
     "text": [
      "======= watch_label: 1 =======\n",
      "Training until validation scores don't improve for 80 rounds\n",
      "[100]\ttrain's auc: 0.782439\tvalid's auc: 0.759254\n",
      "[200]\ttrain's auc: 0.793159\tvalid's auc: 0.768156\n",
      "[300]\ttrain's auc: 0.799643\tvalid's auc: 0.773095\n",
      "[400]\ttrain's auc: 0.803822\tvalid's auc: 0.775107\n",
      "[500]\ttrain's auc: 0.807536\tvalid's auc: 0.776893\n",
      "[600]\ttrain's auc: 0.810662\tvalid's auc: 0.777814\n",
      "[700]\ttrain's auc: 0.813766\tvalid's auc: 0.778787\n",
      "[800]\ttrain's auc: 0.816679\tvalid's auc: 0.779458\n",
      "[900]\ttrain's auc: 0.819371\tvalid's auc: 0.780145\n",
      "[1000]\ttrain's auc: 0.822035\tvalid's auc: 0.78068\n",
      "[1100]\ttrain's auc: 0.824477\tvalid's auc: 0.781081\n",
      "[1200]\ttrain's auc: 0.826891\tvalid's auc: 0.781537\n",
      "[1300]\ttrain's auc: 0.82943\tvalid's auc: 0.78204\n",
      "[1400]\ttrain's auc: 0.831733\tvalid's auc: 0.782367\n",
      "[1500]\ttrain's auc: 0.833971\tvalid's auc: 0.782805\n",
      "[1600]\ttrain's auc: 0.836127\tvalid's auc: 0.783127\n",
      "[1700]\ttrain's auc: 0.838216\tvalid's auc: 0.783426\n",
      "[1800]\ttrain's auc: 0.840305\tvalid's auc: 0.783701\n",
      "[1900]\ttrain's auc: 0.842218\tvalid's auc: 0.783896\n",
      "[2000]\ttrain's auc: 0.844122\tvalid's auc: 0.784029\n",
      "Did not meet early stopping. Best iteration is:\n",
      "[2000]\ttrain's auc: 0.844122\tvalid's auc: 0.784029\n",
      "**** time cost 5384(s) ****\n",
      "======= watch_label: 2 =======\n",
      "Training until validation scores don't improve for 80 rounds\n",
      "[100]\ttrain's auc: 0.784536\tvalid's auc: 0.763771\n",
      "[200]\ttrain's auc: 0.796595\tvalid's auc: 0.772053\n",
      "[300]\ttrain's auc: 0.804075\tvalid's auc: 0.775251\n",
      "[400]\ttrain's auc: 0.81018\tvalid's auc: 0.777153\n",
      "[500]\ttrain's auc: 0.815711\tvalid's auc: 0.778541\n",
      "[600]\ttrain's auc: 0.820978\tvalid's auc: 0.779739\n",
      "[700]\ttrain's auc: 0.825618\tvalid's auc: 0.780364\n",
      "[800]\ttrain's auc: 0.830054\tvalid's auc: 0.780833\n",
      "[900]\ttrain's auc: 0.834013\tvalid's auc: 0.781206\n",
      "[1000]\ttrain's auc: 0.837911\tvalid's auc: 0.781587\n",
      "[1100]\ttrain's auc: 0.841564\tvalid's auc: 0.781931\n",
      "[1200]\ttrain's auc: 0.845001\tvalid's auc: 0.782444\n",
      "[1300]\ttrain's auc: 0.848225\tvalid's auc: 0.782743\n",
      "[1400]\ttrain's auc: 0.85143\tvalid's auc: 0.783056\n",
      "[1500]\ttrain's auc: 0.854705\tvalid's auc: 0.783381\n",
      "[1600]\ttrain's auc: 0.857705\tvalid's auc: 0.783493\n",
      "[1700]\ttrain's auc: 0.860712\tvalid's auc: 0.78367\n",
      "[1800]\ttrain's auc: 0.8635\tvalid's auc: 0.783923\n",
      "[1900]\ttrain's auc: 0.866241\tvalid's auc: 0.784096\n",
      "[2000]\ttrain's auc: 0.868949\tvalid's auc: 0.784356\n",
      "Did not meet early stopping. Best iteration is:\n",
      "[2000]\ttrain's auc: 0.868949\tvalid's auc: 0.784356\n",
      "**** time cost 5103(s) ****\n",
      "======= watch_label: 3 =======\n",
      "Training until validation scores don't improve for 80 rounds\n",
      "[100]\ttrain's auc: 0.778996\tvalid's auc: 0.76658\n",
      "[200]\ttrain's auc: 0.792927\tvalid's auc: 0.774791\n",
      "[300]\ttrain's auc: 0.802162\tvalid's auc: 0.777352\n",
      "[400]\ttrain's auc: 0.809758\tvalid's auc: 0.778426\n",
      "[500]\ttrain's auc: 0.816897\tvalid's auc: 0.779377\n",
      "[600]\ttrain's auc: 0.823384\tvalid's auc: 0.780481\n",
      "[700]\ttrain's auc: 0.829323\tvalid's auc: 0.781175\n",
      "[800]\ttrain's auc: 0.834696\tvalid's auc: 0.781643\n",
      "[900]\ttrain's auc: 0.839952\tvalid's auc: 0.782066\n",
      "[1000]\ttrain's auc: 0.844928\tvalid's auc: 0.782707\n",
      "[1100]\ttrain's auc: 0.849476\tvalid's auc: 0.782996\n",
      "[1200]\ttrain's auc: 0.853882\tvalid's auc: 0.783246\n",
      "[1300]\ttrain's auc: 0.857982\tvalid's auc: 0.78359\n",
      "[1400]\ttrain's auc: 0.862128\tvalid's auc: 0.783909\n",
      "[1500]\ttrain's auc: 0.86597\tvalid's auc: 0.784352\n",
      "[1600]\ttrain's auc: 0.869498\tvalid's auc: 0.784626\n",
      "[1700]\ttrain's auc: 0.873221\tvalid's auc: 0.784873\n",
      "[1800]\ttrain's auc: 0.876788\tvalid's auc: 0.785089\n",
      "[1900]\ttrain's auc: 0.87992\tvalid's auc: 0.785301\n",
      "[2000]\ttrain's auc: 0.883039\tvalid's auc: 0.7855\n",
      "Did not meet early stopping. Best iteration is:\n",
      "[2000]\ttrain's auc: 0.883039\tvalid's auc: 0.7855\n",
      "**** time cost 4949(s) ****\n",
      "======= watch_label: 4 =======\n",
      "Training until validation scores don't improve for 80 rounds\n",
      "[100]\ttrain's auc: 0.783398\tvalid's auc: 0.770248\n",
      "[200]\ttrain's auc: 0.799218\tvalid's auc: 0.777772\n",
      "[300]\ttrain's auc: 0.809722\tvalid's auc: 0.779429\n",
      "[400]\ttrain's auc: 0.818204\tvalid's auc: 0.780124\n",
      "[500]\ttrain's auc: 0.826548\tvalid's auc: 0.781156\n",
      "[600]\ttrain's auc: 0.833909\tvalid's auc: 0.781985\n",
      "[700]\ttrain's auc: 0.840353\tvalid's auc: 0.782455\n",
      "[800]\ttrain's auc: 0.847007\tvalid's auc: 0.783022\n",
      "[900]\ttrain's auc: 0.852507\tvalid's auc: 0.783197\n",
      "[1000]\ttrain's auc: 0.85798\tvalid's auc: 0.783503\n",
      "[1100]\ttrain's auc: 0.863039\tvalid's auc: 0.78379\n",
      "[1200]\ttrain's auc: 0.867824\tvalid's auc: 0.784244\n",
      "[1300]\ttrain's auc: 0.872335\tvalid's auc: 0.784543\n",
      "[1400]\ttrain's auc: 0.87701\tvalid's auc: 0.784736\n",
      "[1500]\ttrain's auc: 0.881562\tvalid's auc: 0.784753\n",
      "[1600]\ttrain's auc: 0.885798\tvalid's auc: 0.785038\n",
      "[1700]\ttrain's auc: 0.889527\tvalid's auc: 0.784997\n",
      "[1800]\ttrain's auc: 0.893274\tvalid's auc: 0.78512\n",
      "[1900]\ttrain's auc: 0.8969\tvalid's auc: 0.785242\n",
      "[2000]\ttrain's auc: 0.90028\tvalid's auc: 0.785444\n",
      "Did not meet early stopping. Best iteration is:\n",
      "[2000]\ttrain's auc: 0.90028\tvalid's auc: 0.785444\n",
      "**** time cost 4820(s) ****\n",
      "======= watch_label: 5 =======\n",
      "Training until validation scores don't improve for 80 rounds\n",
      "[100]\ttrain's auc: 0.785565\tvalid's auc: 0.770355\n",
      "[200]\ttrain's auc: 0.80281\tvalid's auc: 0.778291\n",
      "[300]\ttrain's auc: 0.815407\tvalid's auc: 0.780599\n",
      "[400]\ttrain's auc: 0.82562\tvalid's auc: 0.781412\n",
      "[500]\ttrain's auc: 0.834555\tvalid's auc: 0.781888\n",
      "[600]\ttrain's auc: 0.842559\tvalid's auc: 0.782593\n",
      "[700]\ttrain's auc: 0.849712\tvalid's auc: 0.782903\n",
      "[800]\ttrain's auc: 0.85611\tvalid's auc: 0.783372\n",
      "[900]\ttrain's auc: 0.861734\tvalid's auc: 0.783533\n",
      "[1000]\ttrain's auc: 0.867708\tvalid's auc: 0.783838\n",
      "[1100]\ttrain's auc: 0.873641\tvalid's auc: 0.78419\n",
      "[1200]\ttrain's auc: 0.878839\tvalid's auc: 0.784536\n",
      "[1300]\ttrain's auc: 0.883436\tvalid's auc: 0.784658\n",
      "[1400]\ttrain's auc: 0.888265\tvalid's auc: 0.784767\n",
      "Early stopping, best iteration is:\n",
      "[1380]\ttrain's auc: 0.887473\tvalid's auc: 0.784856\n",
      "**** time cost 4442(s) ****\n",
      "======= watch_label: 6 =======\n",
      "Training until validation scores don't improve for 80 rounds\n",
      "[100]\ttrain's auc: 0.789052\tvalid's auc: 0.775234\n"
     ]
    }
   ],
   "source": [
    "for i in range(1, 10):\n",
    "    print(\"======= watch_label: {} =======\".format(i))\n",
    "    start_time = time.time()\n",
    "    clf = LGBMClassifier(\n",
    "            learning_rate=0.04,\n",
    "            n_estimators=2000,\n",
    "            num_leaves=63,\n",
    "            subsample=0.5,\n",
    "            colsample_bytree=0.6,\n",
    "            random_state=2021,\n",
    "            metric='None',\n",
    "            importance_type='gain',\n",
    "            n_jobs=8)\n",
    "    \n",
    "    clf.fit(train[cols].values.astype(np.float32), \n",
    "            train_y_watch[:,i],\n",
    "            eval_set=[(train[cols].values.astype(np.float32),  train_y_watch[:,i]), \n",
    "                      (valid[cols].values.astype(np.float32),  valid_y_watch[:,i])],\n",
    "            eval_names=['train', 'valid'],\n",
    "            eval_metric='auc',\n",
    "            early_stopping_rounds=80,\n",
    "            verbose=100)\n",
    "    \n",
    "    submit['watch_label_pred_{}'.format(i)] = clf.predict_proba(test[cols].values)[:, 1]\n",
    "    valid_14['watch_label_pred_{}'.format(i)] = clf.predict_proba(valid_14[cols].values)[:, 1]\n",
    "    print(\"**** time cost {}(s) ****\".format(round(time.time() - start_time)))\n",
    "    pickle.dump(clf, open(\"data/lgb_save_model/lgb_watch_label_cls_{}.pkl\".format(i), 'wb'))"
   ]
  },
  {
   "cell_type": "code",
   "execution_count": 18,
   "metadata": {
    "scrolled": true
   },
   "outputs": [
    {
     "data": {
      "text/html": [
       "<div>\n",
       "<style scoped>\n",
       "    .dataframe tbody tr th:only-of-type {\n",
       "        vertical-align: middle;\n",
       "    }\n",
       "\n",
       "    .dataframe tbody tr th {\n",
       "        vertical-align: top;\n",
       "    }\n",
       "\n",
       "    .dataframe thead th {\n",
       "        text-align: right;\n",
       "    }\n",
       "</style>\n",
       "<table border=\"1\" class=\"dataframe\">\n",
       "  <thead>\n",
       "    <tr style=\"text-align: right;\">\n",
       "      <th></th>\n",
       "      <th>fea</th>\n",
       "      <th>imp</th>\n",
       "    </tr>\n",
       "  </thead>\n",
       "  <tbody>\n",
       "    <tr>\n",
       "      <th>44</th>\n",
       "      <td>feedid_7day_watch_label_cls_9_mean</td>\n",
       "      <td>1.206915e+06</td>\n",
       "    </tr>\n",
       "    <tr>\n",
       "      <th>114</th>\n",
       "      <td>userid_date__cnt</td>\n",
       "      <td>6.072210e+05</td>\n",
       "    </tr>\n",
       "    <tr>\n",
       "      <th>28</th>\n",
       "      <td>userid_7day_watch_label_cls_9_mean</td>\n",
       "      <td>6.053138e+05</td>\n",
       "    </tr>\n",
       "    <tr>\n",
       "      <th>108</th>\n",
       "      <td>feedid_3day_watch_label_cls_9_mean</td>\n",
       "      <td>5.856615e+05</td>\n",
       "    </tr>\n",
       "    <tr>\n",
       "      <th>115</th>\n",
       "      <td>userid_date_ratio</td>\n",
       "      <td>2.760915e+05</td>\n",
       "    </tr>\n",
       "    <tr>\n",
       "      <th>111</th>\n",
       "      <td>feedid_date__cnt</td>\n",
       "      <td>1.786034e+05</td>\n",
       "    </tr>\n",
       "    <tr>\n",
       "      <th>127</th>\n",
       "      <td>global_userid_video_release_ndays_mean</td>\n",
       "      <td>1.384307e+05</td>\n",
       "    </tr>\n",
       "    <tr>\n",
       "      <th>9</th>\n",
       "      <td>video_duration</td>\n",
       "      <td>1.304841e+05</td>\n",
       "    </tr>\n",
       "    <tr>\n",
       "      <th>19</th>\n",
       "      <td>userid_7day_watch_playseconds_mean</td>\n",
       "      <td>1.212764e+05</td>\n",
       "    </tr>\n",
       "    <tr>\n",
       "      <th>113</th>\n",
       "      <td>global_userid_dcnt</td>\n",
       "      <td>1.127491e+05</td>\n",
       "    </tr>\n",
       "    <tr>\n",
       "      <th>11</th>\n",
       "      <td>video_release_ndays</td>\n",
       "      <td>1.063286e+05</td>\n",
       "    </tr>\n",
       "    <tr>\n",
       "      <th>119</th>\n",
       "      <td>global_feedid_age_mean</td>\n",
       "      <td>1.042978e+05</td>\n",
       "    </tr>\n",
       "    <tr>\n",
       "      <th>123</th>\n",
       "      <td>global_userid_video_score_mean</td>\n",
       "      <td>9.364173e+04</td>\n",
       "    </tr>\n",
       "    <tr>\n",
       "      <th>109</th>\n",
       "      <td>global_feedid_cnt</td>\n",
       "      <td>8.721427e+04</td>\n",
       "    </tr>\n",
       "    <tr>\n",
       "      <th>35</th>\n",
       "      <td>feedid_7day_watch_playseconds_mean</td>\n",
       "      <td>7.874758e+04</td>\n",
       "    </tr>\n",
       "    <tr>\n",
       "      <th>34</th>\n",
       "      <td>feedid_7day_watch_label_mean</td>\n",
       "      <td>7.350437e+04</td>\n",
       "    </tr>\n",
       "    <tr>\n",
       "      <th>77</th>\n",
       "      <td>userid_3day_count</td>\n",
       "      <td>7.279282e+04</td>\n",
       "    </tr>\n",
       "    <tr>\n",
       "      <th>112</th>\n",
       "      <td>global_userid_cnt</td>\n",
       "      <td>6.977391e+04</td>\n",
       "    </tr>\n",
       "    <tr>\n",
       "      <th>13</th>\n",
       "      <td>userid_7day_count</td>\n",
       "      <td>6.779526e+04</td>\n",
       "    </tr>\n",
       "    <tr>\n",
       "      <th>121</th>\n",
       "      <td>global_feedid_gender_mean</td>\n",
       "      <td>6.587944e+04</td>\n",
       "    </tr>\n",
       "  </tbody>\n",
       "</table>\n",
       "</div>"
      ],
      "text/plain": [
       "                                        fea           imp\n",
       "44       feedid_7day_watch_label_cls_9_mean  1.206915e+06\n",
       "114                        userid_date__cnt  6.072210e+05\n",
       "28       userid_7day_watch_label_cls_9_mean  6.053138e+05\n",
       "108      feedid_3day_watch_label_cls_9_mean  5.856615e+05\n",
       "115                       userid_date_ratio  2.760915e+05\n",
       "111                        feedid_date__cnt  1.786034e+05\n",
       "127  global_userid_video_release_ndays_mean  1.384307e+05\n",
       "9                            video_duration  1.304841e+05\n",
       "19       userid_7day_watch_playseconds_mean  1.212764e+05\n",
       "113                      global_userid_dcnt  1.127491e+05\n",
       "11                      video_release_ndays  1.063286e+05\n",
       "119                  global_feedid_age_mean  1.042978e+05\n",
       "123          global_userid_video_score_mean  9.364173e+04\n",
       "109                       global_feedid_cnt  8.721427e+04\n",
       "35       feedid_7day_watch_playseconds_mean  7.874758e+04\n",
       "34             feedid_7day_watch_label_mean  7.350437e+04\n",
       "77                        userid_3day_count  7.279282e+04\n",
       "112                       global_userid_cnt  6.977391e+04\n",
       "13                        userid_7day_count  6.779526e+04\n",
       "121               global_feedid_gender_mean  6.587944e+04"
      ]
     },
     "execution_count": 18,
     "metadata": {},
     "output_type": "execute_result"
    }
   ],
   "source": [
    "## 特征重要性\n",
    "fea_imp = pd.DataFrame({'fea': cols, 'imp': clf.feature_importances_})\n",
    "fea_imp.sort_values('imp', inplace=True, ascending=False)\n",
    "fea_imp.head(20)"
   ]
  },
  {
   "cell_type": "markdown",
   "metadata": {},
   "source": []
  },
  {
   "cell_type": "code",
   "execution_count": null,
   "metadata": {
    "scrolled": true
   },
   "outputs": [],
   "source": []
  },
  {
   "cell_type": "code",
   "execution_count": null,
   "metadata": {
    "scrolled": true
   },
   "outputs": [],
   "source": []
  },
  {
   "cell_type": "code",
   "execution_count": 21,
   "metadata": {},
   "outputs": [],
   "source": []
  },
  {
   "cell_type": "code",
   "execution_count": 22,
   "metadata": {},
   "outputs": [],
   "source": [
    "valid_14['is_share_pred'] = clf2.predict_proba(valid_14[cols].values)[:, 1]"
   ]
  },
  {
   "cell_type": "code",
   "execution_count": null,
   "metadata": {
    "scrolled": true
   },
   "outputs": [],
   "source": []
  },
  {
   "cell_type": "code",
   "execution_count": 57,
   "metadata": {},
   "outputs": [],
   "source": [
    "# def get_deal_y_pred(valid_14):\n",
    "#     watch_label = np.array([650000] * 9) * np.array([1.00, 0.5, 0.4, 0.3, 0.2, 0.1, 0.1, 0.1, 0.1]) * 0.51\n",
    "    \n",
    "#     y_pred = np.zeros(valid_14.shape[0])\n",
    "#     idx_vis = set()\n",
    "#     for i, n in enumerate(watch_label):\n",
    "#         idxes = np.argsort(valid_14['watch_label_pred_{}'.format(9-i)]).values\n",
    "#         idxes = idxes[::-1]\n",
    "#         idx = 0\n",
    "#         cnt = 0\n",
    "#         while cnt < n:\n",
    "#             if idxes[idx] not in idx_vis:\n",
    "#                 y_pred[idxes[idx]] = 9 - i\n",
    "#                 cnt += 1\n",
    "#                 idx_vis.add(idxes[idx])\n",
    "#             idx += 1\n",
    "#         print('cls:', 9-i, idx, cnt)\n",
    "#     return y_pred\n",
    "\n",
    "\n",
    "# submit['watch_label'] = get_deal_y_pred(submit)\n",
    "\n",
    "# ## for submit\n",
    "# submit_final = submit[['userid', 'feedid', 'watch_label', 'is_share_pred']]\n",
    "# submit_final.columns = ['user_id', 'video_id', 'watch_label', 'is_share']\n",
    "# print(submit_final.shape)\n",
    "# submit_final['watch_label'] = submit_final['watch_label'].astype(int)\n",
    "# submit_final['is_share'] = np.round(submit_final['is_share'], 7)\n",
    "\n",
    "# submit_final.to_csv(\"data/submit/temp/submission.csv\", index=None)"
   ]
  },
  {
   "cell_type": "code",
   "execution_count": 24,
   "metadata": {},
   "outputs": [
    {
     "data": {
      "text/html": [
       "<div>\n",
       "<style scoped>\n",
       "    .dataframe tbody tr th:only-of-type {\n",
       "        vertical-align: middle;\n",
       "    }\n",
       "\n",
       "    .dataframe tbody tr th {\n",
       "        vertical-align: top;\n",
       "    }\n",
       "\n",
       "    .dataframe thead th {\n",
       "        text-align: right;\n",
       "    }\n",
       "</style>\n",
       "<table border=\"1\" class=\"dataframe\">\n",
       "  <thead>\n",
       "    <tr style=\"text-align: right;\">\n",
       "      <th></th>\n",
       "      <th>userid</th>\n",
       "      <th>feedid</th>\n",
       "      <th>is_share_pred</th>\n",
       "    </tr>\n",
       "  </thead>\n",
       "  <tbody>\n",
       "    <tr>\n",
       "      <th>0</th>\n",
       "      <td>1688013</td>\n",
       "      <td>32645</td>\n",
       "      <td>0.000702</td>\n",
       "    </tr>\n",
       "    <tr>\n",
       "      <th>1</th>\n",
       "      <td>4502598</td>\n",
       "      <td>41270</td>\n",
       "      <td>0.010934</td>\n",
       "    </tr>\n",
       "    <tr>\n",
       "      <th>2</th>\n",
       "      <td>5585629</td>\n",
       "      <td>16345</td>\n",
       "      <td>0.000160</td>\n",
       "    </tr>\n",
       "    <tr>\n",
       "      <th>3</th>\n",
       "      <td>1635520</td>\n",
       "      <td>28149</td>\n",
       "      <td>0.000664</td>\n",
       "    </tr>\n",
       "    <tr>\n",
       "      <th>4</th>\n",
       "      <td>4160191</td>\n",
       "      <td>40554</td>\n",
       "      <td>0.000574</td>\n",
       "    </tr>\n",
       "    <tr>\n",
       "      <th>...</th>\n",
       "      <td>...</td>\n",
       "      <td>...</td>\n",
       "      <td>...</td>\n",
       "    </tr>\n",
       "    <tr>\n",
       "      <th>2822175</th>\n",
       "      <td>5019057</td>\n",
       "      <td>18766</td>\n",
       "      <td>0.000848</td>\n",
       "    </tr>\n",
       "    <tr>\n",
       "      <th>2822176</th>\n",
       "      <td>5019057</td>\n",
       "      <td>12968</td>\n",
       "      <td>0.002034</td>\n",
       "    </tr>\n",
       "    <tr>\n",
       "      <th>2822177</th>\n",
       "      <td>4255762</td>\n",
       "      <td>21794</td>\n",
       "      <td>0.000469</td>\n",
       "    </tr>\n",
       "    <tr>\n",
       "      <th>2822178</th>\n",
       "      <td>171497</td>\n",
       "      <td>21578</td>\n",
       "      <td>0.000148</td>\n",
       "    </tr>\n",
       "    <tr>\n",
       "      <th>2822179</th>\n",
       "      <td>5642580</td>\n",
       "      <td>28914</td>\n",
       "      <td>0.000396</td>\n",
       "    </tr>\n",
       "  </tbody>\n",
       "</table>\n",
       "<p>2822180 rows × 3 columns</p>\n",
       "</div>"
      ],
      "text/plain": [
       "          userid  feedid  is_share_pred\n",
       "0        1688013   32645       0.000702\n",
       "1        4502598   41270       0.010934\n",
       "2        5585629   16345       0.000160\n",
       "3        1635520   28149       0.000664\n",
       "4        4160191   40554       0.000574\n",
       "...          ...     ...            ...\n",
       "2822175  5019057   18766       0.000848\n",
       "2822176  5019057   12968       0.002034\n",
       "2822177  4255762   21794       0.000469\n",
       "2822178   171497   21578       0.000148\n",
       "2822179  5642580   28914       0.000396\n",
       "\n",
       "[2822180 rows x 3 columns]"
      ]
     },
     "execution_count": 24,
     "metadata": {},
     "output_type": "execute_result"
    }
   ],
   "source": [
    "submit"
   ]
  },
  {
   "cell_type": "code",
   "execution_count": 25,
   "metadata": {},
   "outputs": [],
   "source": [
    "submit_final = pd.read_csv(\"data/submit/temp/submission.csv\")\n",
    "submit_final['is_share'] = np.round(submit['is_share_pred'], 7)\n",
    "submit_final.to_csv(\"data/submit/submission.csv\", index=None)"
   ]
  },
  {
   "cell_type": "code",
   "execution_count": 26,
   "metadata": {},
   "outputs": [
    {
     "data": {
      "text/html": [
       "<div>\n",
       "<style scoped>\n",
       "    .dataframe tbody tr th:only-of-type {\n",
       "        vertical-align: middle;\n",
       "    }\n",
       "\n",
       "    .dataframe tbody tr th {\n",
       "        vertical-align: top;\n",
       "    }\n",
       "\n",
       "    .dataframe thead th {\n",
       "        text-align: right;\n",
       "    }\n",
       "</style>\n",
       "<table border=\"1\" class=\"dataframe\">\n",
       "  <thead>\n",
       "    <tr style=\"text-align: right;\">\n",
       "      <th></th>\n",
       "      <th>user_id</th>\n",
       "      <th>video_id</th>\n",
       "      <th>watch_label</th>\n",
       "      <th>is_share</th>\n",
       "    </tr>\n",
       "  </thead>\n",
       "  <tbody>\n",
       "    <tr>\n",
       "      <th>0</th>\n",
       "      <td>1688013</td>\n",
       "      <td>32645</td>\n",
       "      <td>6</td>\n",
       "      <td>0.000702</td>\n",
       "    </tr>\n",
       "    <tr>\n",
       "      <th>1</th>\n",
       "      <td>4502598</td>\n",
       "      <td>41270</td>\n",
       "      <td>0</td>\n",
       "      <td>0.010934</td>\n",
       "    </tr>\n",
       "    <tr>\n",
       "      <th>2</th>\n",
       "      <td>5585629</td>\n",
       "      <td>16345</td>\n",
       "      <td>5</td>\n",
       "      <td>0.000160</td>\n",
       "    </tr>\n",
       "    <tr>\n",
       "      <th>3</th>\n",
       "      <td>1635520</td>\n",
       "      <td>28149</td>\n",
       "      <td>9</td>\n",
       "      <td>0.000664</td>\n",
       "    </tr>\n",
       "    <tr>\n",
       "      <th>4</th>\n",
       "      <td>4160191</td>\n",
       "      <td>40554</td>\n",
       "      <td>0</td>\n",
       "      <td>0.000574</td>\n",
       "    </tr>\n",
       "    <tr>\n",
       "      <th>...</th>\n",
       "      <td>...</td>\n",
       "      <td>...</td>\n",
       "      <td>...</td>\n",
       "      <td>...</td>\n",
       "    </tr>\n",
       "    <tr>\n",
       "      <th>2822175</th>\n",
       "      <td>5019057</td>\n",
       "      <td>18766</td>\n",
       "      <td>0</td>\n",
       "      <td>0.000848</td>\n",
       "    </tr>\n",
       "    <tr>\n",
       "      <th>2822176</th>\n",
       "      <td>5019057</td>\n",
       "      <td>12968</td>\n",
       "      <td>0</td>\n",
       "      <td>0.002034</td>\n",
       "    </tr>\n",
       "    <tr>\n",
       "      <th>2822177</th>\n",
       "      <td>4255762</td>\n",
       "      <td>21794</td>\n",
       "      <td>8</td>\n",
       "      <td>0.000469</td>\n",
       "    </tr>\n",
       "    <tr>\n",
       "      <th>2822178</th>\n",
       "      <td>171497</td>\n",
       "      <td>21578</td>\n",
       "      <td>0</td>\n",
       "      <td>0.000148</td>\n",
       "    </tr>\n",
       "    <tr>\n",
       "      <th>2822179</th>\n",
       "      <td>5642580</td>\n",
       "      <td>28914</td>\n",
       "      <td>0</td>\n",
       "      <td>0.000396</td>\n",
       "    </tr>\n",
       "  </tbody>\n",
       "</table>\n",
       "<p>2822180 rows × 4 columns</p>\n",
       "</div>"
      ],
      "text/plain": [
       "         user_id  video_id  watch_label  is_share\n",
       "0        1688013     32645            6  0.000702\n",
       "1        4502598     41270            0  0.010934\n",
       "2        5585629     16345            5  0.000160\n",
       "3        1635520     28149            9  0.000664\n",
       "4        4160191     40554            0  0.000574\n",
       "...          ...       ...          ...       ...\n",
       "2822175  5019057     18766            0  0.000848\n",
       "2822176  5019057     12968            0  0.002034\n",
       "2822177  4255762     21794            8  0.000469\n",
       "2822178   171497     21578            0  0.000148\n",
       "2822179  5642580     28914            0  0.000396\n",
       "\n",
       "[2822180 rows x 4 columns]"
      ]
     },
     "execution_count": 26,
     "metadata": {},
     "output_type": "execute_result"
    }
   ],
   "source": [
    "submit_final"
   ]
  },
  {
   "cell_type": "code",
   "execution_count": null,
   "metadata": {},
   "outputs": [],
   "source": []
  },
  {
   "cell_type": "markdown",
   "metadata": {},
   "source": [
    "# 根据valid_14评估模型"
   ]
  },
  {
   "cell_type": "code",
   "execution_count": 23,
   "metadata": {},
   "outputs": [
    {
     "name": "stdout",
     "output_type": "stream",
     "text": [
      "0.8584187404378384\n"
     ]
    },
    {
     "data": {
      "text/plain": [
       "'\\n0.8539189728196664\\n\\n'"
      ]
     },
     "execution_count": 23,
     "metadata": {},
     "output_type": "execute_result"
    }
   ],
   "source": [
    "## is_share AUC\n",
    "y1_auc = roc_auc_score(valid_14['is_share'], valid_14['is_share_pred'])\n",
    "print(y1_auc)\n",
    "\n",
    "'''\n",
    "0.8539189728196664\n",
    "\n",
    "0.8584187404378384\n",
    "'''"
   ]
  },
  {
   "cell_type": "code",
   "execution_count": 58,
   "metadata": {},
   "outputs": [],
   "source": [
    "def onehot_encode(nums, k):\n",
    "    res = np.zeros((len(nums), k))\n",
    "    for i, x in (enumerate(nums)):\n",
    "        res[i, int(x)] = 1\n",
    "    res = res.astype(np.int32)\n",
    "    return res\n",
    "\n",
    "\n",
    "watch_y_true = onehot_encode(valid_14['watch_label'].values, 10)"
   ]
  },
  {
   "cell_type": "code",
   "execution_count": 95,
   "metadata": {},
   "outputs": [],
   "source": [
    "## 得到后处理的预测标签\n",
    "def get_deal_y_pred(valid_14):\n",
    "    watch_label = np.array([int(valid_14.shape[0] * 0.119)] * 9) * np.array([1.00, 0.5, 0.4, 0.3, 0.2, 0.1, 0.1, 0.1, 0.1])\n",
    "    \n",
    "    y_pred = np.zeros(valid_14.shape[0])\n",
    "    idx_vis = set()\n",
    "    for i, n in enumerate(watch_label):\n",
    "        idxes = np.argsort(valid_14['watch_label_pred_{}'.format(9-i)]).values\n",
    "        idxes = idxes[::-1]\n",
    "        idx = 0\n",
    "        cnt = 0\n",
    "        while cnt < n:\n",
    "            if idxes[idx] not in idx_vis:\n",
    "                y_pred[idxes[idx]] = 9 - i\n",
    "                cnt += 1\n",
    "                idx_vis.add(idxes[idx])\n",
    "            idx += 1\n",
    "        print('cls:', 9-i, idx, cnt)\n",
    "    return y_pred"
   ]
  },
  {
   "cell_type": "code",
   "execution_count": null,
   "metadata": {},
   "outputs": [],
   "source": []
  },
  {
   "cell_type": "code",
   "execution_count": 96,
   "metadata": {},
   "outputs": [
    {
     "name": "stdout",
     "output_type": "stream",
     "text": [
      "cls: 9 658026 658026\n",
      "cls: 8 811075 329013\n",
      "cls: 7 1053710 263211\n",
      "cls: 6 1232419 197408\n",
      "cls: 5 1280693 131606\n",
      "cls: 4 1133459 65803\n",
      "cls: 3 1092163 65803\n",
      "cls: 2 976081 65803\n",
      "cls: 1 716645 65803\n",
      "0.8539189728196664 2.506893618079534 2.0110012245015736\n",
      "[0.510954, 0.505769, 0.502948, 0.501141, 0.504008, 0.509943, 0.519241, 0.551382, 0.711955]\n",
      "Wall time: 15.7 s\n"
     ]
    }
   ],
   "source": [
    "%%time\n",
    "\n",
    "## 计算 watch_label的AUC\n",
    "valid_14['watch_label_pred'] = get_deal_y_pred(valid_14)\n",
    "watch_y_pred = onehot_encode(valid_14['watch_label_pred'].values, 10)\n",
    "\n",
    "auc_list = []\n",
    "for i in range(1, 10):\n",
    "    score = fast_auc(watch_y_true[:, i], watch_y_pred[:, i])\n",
    "    auc_list.append(score)\n",
    "\n",
    "y2_auc = sum(np.array(auc_list) * np.array([0.1, 0.2, 0.3, 0.4, 0.5, 0.6, 0.7, 0.8, 0.9]))\n",
    "weighted_auc = y1_auc * 0.3 + y2_auc * 0.7\n",
    "\n",
    "print(y1_auc, y2_auc, weighted_auc)\n",
    "print([round(x, 6) for x in auc_list])"
   ]
  },
  {
   "cell_type": "code",
   "execution_count": null,
   "metadata": {},
   "outputs": [],
   "source": []
  },
  {
   "cell_type": "code",
   "execution_count": null,
   "metadata": {},
   "outputs": [],
   "source": [
    "0.8539189728196664 2.506733029424714 2.0108888124431994\n",
    "[0.510968, 0.505916, 0.502884, 0.500874, 0.504205, 0.509988, 0.519845, 0.551694, 0.710996]\n",
    "np.array([650000] * 9) * np.array([1.00, 0.5, 0.4, 0.3, 0.2, 0.1, 0.1, 0.1, 0.1])\n",
    "\n",
    "0.8539189728196664 2.5071290226271907 2.0111660076849334\n",
    "[0.511009, 0.505776, 0.502827, 0.501166, 0.503766, 0.510121, 0.519232, 0.551499, 0.712157]\n",
    "np.array([660000] * 9) * np.array([1.00, 0.5, 0.4, 0.3, 0.2, 0.1, 0.1, 0.1, 0.1])"
   ]
  },
  {
   "cell_type": "code",
   "execution_count": null,
   "metadata": {},
   "outputs": [],
   "source": []
  },
  {
   "cell_type": "code",
   "execution_count": null,
   "metadata": {},
   "outputs": [],
   "source": []
  },
  {
   "cell_type": "code",
   "execution_count": 64,
   "metadata": {},
   "outputs": [
    {
     "data": {
      "text/plain": [
       "0.8295073418131829"
      ]
     },
     "execution_count": 64,
     "metadata": {},
     "output_type": "execute_result"
    }
   ],
   "source": [
    "roc_auc_score(watch_y_true[:, 9], valid_14['watch_label_pred_9'])"
   ]
  },
  {
   "cell_type": "code",
   "execution_count": null,
   "metadata": {},
   "outputs": [],
   "source": []
  },
  {
   "cell_type": "code",
   "execution_count": null,
   "metadata": {},
   "outputs": [],
   "source": []
  },
  {
   "cell_type": "code",
   "execution_count": 68,
   "metadata": {},
   "outputs": [
    {
     "data": {
      "text/plain": [
       "0.8275152540555288"
      ]
     },
     "execution_count": 68,
     "metadata": {},
     "output_type": "execute_result"
    }
   ],
   "source": [
    "roc_auc_score(y_true[:, 9], valid_14['watch_label_pred_9'])"
   ]
  },
  {
   "cell_type": "code",
   "execution_count": 207,
   "metadata": {},
   "outputs": [
    {
     "data": {
      "text/plain": [
       "0.6888267735005451"
      ]
     },
     "execution_count": 207,
     "metadata": {},
     "output_type": "execute_result"
    }
   ],
   "source": [
    "fast_auc(y_true[:, 9], tmp)"
   ]
  },
  {
   "cell_type": "code",
   "execution_count": 206,
   "metadata": {},
   "outputs": [],
   "source": [
    "idxes = np.argsort(valid_14['watch_label_pred_9'].values)[::-1][:500000]\n",
    "# print(valid_14['watch_label_pred_9'].values[idxes])\n",
    "tmp = np.zeros(y_true.shape[0])\n",
    "tmp[idxes] = 1"
   ]
  },
  {
   "cell_type": "code",
   "execution_count": 84,
   "metadata": {},
   "outputs": [
    {
     "data": {
      "text/plain": [
       "0.0    5529466\n",
       "1.0        170\n",
       "dtype: int64"
      ]
     },
     "execution_count": 84,
     "metadata": {},
     "output_type": "execute_result"
    }
   ],
   "source": [
    "pd.Series(tmp).value_counts()"
   ]
  },
  {
   "cell_type": "code",
   "execution_count": 58,
   "metadata": {},
   "outputs": [
    {
     "name": "stdout",
     "output_type": "stream",
     "text": [
      "[26670  9535  8091  8605  9836 11864 15085 21621 38350]\n"
     ]
    }
   ],
   "source": [
    "# watch_rate = np.array([0.972935398825, 0.006935353601, 0.003910049047, 0.002728063657, 0.002145601016, \n",
    "#                        0.00177880621, 0.001556090139, 0.001463139979, 0.001724308664, 0.004823188861])\n",
    "watch_rate = np.round(watch_rate * valid_14.shape[0], 0)\n",
    "watch_rate = watch_rate.astype(int)\n",
    "\n",
    "watch_rate = watch_rate[::-1][:-1]\n",
    "print(watch_rate)"
   ]
  },
  {
   "cell_type": "code",
   "execution_count": 353,
   "metadata": {},
   "outputs": [
    {
     "data": {
      "text/plain": [
       "array([750000., 450000., 375000., 300000., 225000., 150000.,  75000.,\n",
       "        75000.,  75000.])"
      ]
     },
     "execution_count": 353,
     "metadata": {},
     "output_type": "execute_result"
    }
   ],
   "source": [
    "watch_label = np.array([750000] * 9) * np.array([1.00, 0.5, 0.4, 0.3, 0.2, 0.1, 0.1, 0.1, 0.1])\n",
    "watch_label"
   ]
  },
  {
   "cell_type": "code",
   "execution_count": 354,
   "metadata": {
    "scrolled": true
   },
   "outputs": [
    {
     "name": "stdout",
     "output_type": "stream",
     "text": [
      "watch_label_pred_9\n",
      "9 750000 750000\n",
      "watch_label_pred_8\n",
      "8 1057698 450000\n",
      "watch_label_pred_7\n",
      "7 1428253 375000\n",
      "watch_label_pred_6\n",
      "6 1716645 300000\n",
      "watch_label_pred_5\n",
      "5 1889569 225000\n",
      "watch_label_pred_4\n",
      "4 1944265 150000\n",
      "watch_label_pred_3\n",
      "3 1843214 75000\n",
      "watch_label_pred_2\n",
      "2 1644953 75000\n",
      "watch_label_pred_1\n",
      "1 1216586 75000\n",
      "Wall time: 14.9 s\n"
     ]
    }
   ],
   "source": [
    "%%time\n",
    "\n",
    "y_pred = np.zeros(valid_14.shape[0])\n",
    "idx_vis = set()\n",
    "for i, n in enumerate(watch_label):\n",
    "    print('watch_label_pred_{}'.format(9-i))\n",
    "    idxes = np.argsort(valid_14['watch_label_pred_{}'.format(9-i)]).values\n",
    "    idxes = idxes[::-1]\n",
    "    idx = 0\n",
    "    cnt = 0\n",
    "    while cnt < n:\n",
    "        if idxes[idx] not in idx_vis:\n",
    "            y_pred[idxes[idx]] = 9 - i\n",
    "            cnt += 1\n",
    "            idx_vis.add(idxes[idx])\n",
    "        idx += 1\n",
    "    print(9-i, idx, cnt)\n",
    "    \n",
    "valid_14['watch_label_pred'] = y_pred\n",
    "y_pred"
   ]
  },
  {
   "cell_type": "code",
   "execution_count": null,
   "metadata": {},
   "outputs": [],
   "source": []
  },
  {
   "cell_type": "code",
   "execution_count": 356,
   "metadata": {
    "scrolled": true
   },
   "outputs": [
    {
     "name": "stderr",
     "output_type": "stream",
     "text": [
      "5529636it [00:02, 2021003.58it/s]\n"
     ]
    },
    {
     "name": "stdout",
     "output_type": "stream",
     "text": [
      "0.851171913134093 2.5016789444737078 2.0065268350718233\n",
      "[0.5075 0.5026 0.4985 0.4991 0.4988 0.5049 0.5148 0.5525 0.7183]\n",
      "Wall time: 4.97 s\n"
     ]
    }
   ],
   "source": [
    "%%time\n",
    "\n",
    "def onehot_encode(nums, k):\n",
    "    res = np.zeros((len(nums), k))\n",
    "    for i, x in tqdm(enumerate(nums)):\n",
    "        res[i, int(x)] = 1\n",
    "    res = res.astype(np.int16)\n",
    "    return res\n",
    "\n",
    "# y_true = onehot_encode(valid_14['watch_label'].values, 10)\n",
    "y_pred = onehot_encode(valid_14['watch_label_pred'].values, 10)\n",
    "\n",
    "auc_list = []\n",
    "for i in range(1, 10):\n",
    "    score = fast_auc(y_true[:, i], y_pred[:, i])\n",
    "    auc_list.append(score)\n",
    "\n",
    "\n",
    "y2_auc = sum(np.array(auc_list) * np.array([0.1, 0.2, 0.3, 0.4, 0.5, 0.6, 0.7, 0.8, 0.9]))\n",
    "\n",
    "print(y1_auc, y2_auc, 0.3 * y1_auc + 0.7 * y2_auc)\n",
    "print(np.round(auc_list, 4))"
   ]
  },
  {
   "cell_type": "code",
   "execution_count": null,
   "metadata": {},
   "outputs": [],
   "source": [
    "0.851171913134093 2.5046285712645817 2.008591573825435\n",
    "[0.5092 0.5036 0.5009 0.5025 0.5037 0.5122 0.5295 0.5736 0.6811]\n",
    "\n",
    "0.851171913134093 2.5048668127399663 2.0087583428582043\n",
    "[0.5096 0.5039 0.501  0.5015 0.5022 0.5084 0.5187 0.5635 0.7024]\n",
    "\n",
    "0.851171913134093 2.505009505003932 2.00885822744298\n",
    "[0.5113 0.506  0.5029 0.5025 0.5035 0.5095 0.5254 0.5695 0.6888]\n",
    "\n",
    "0.851171913134093 2.5047284053746037 2.00866145770245\n",
    "[0.5111 0.5048 0.5018 0.5016 0.5031 0.5121 0.5265 0.5678 0.6888]\n",
    "\n",
    "\n",
    "0.851171913134093 2.505281761448482 2.009048806954165\n",
    "[0.5089 0.5037 0.5001 0.5016 0.501  0.5076 0.5134 0.5477 0.7226]\n",
    "\n",
    "0.851171913134093 2.5064220594257316 2.0098470155382397\n",
    "[0.5101 0.5043 0.5015 0.501  0.5026 0.5085 0.5159 0.5495 0.7183]"
   ]
  },
  {
   "cell_type": "code",
   "execution_count": 194,
   "metadata": {},
   "outputs": [
    {
     "data": {
      "text/plain": [
       "(5529636, 100)"
      ]
     },
     "execution_count": 194,
     "metadata": {},
     "output_type": "execute_result"
    }
   ],
   "source": [
    "valid_14.shape"
   ]
  },
  {
   "cell_type": "code",
   "execution_count": 195,
   "metadata": {},
   "outputs": [
    {
     "data": {
      "text/html": [
       "<div>\n",
       "<style scoped>\n",
       "    .dataframe tbody tr th:only-of-type {\n",
       "        vertical-align: middle;\n",
       "    }\n",
       "\n",
       "    .dataframe tbody tr th {\n",
       "        vertical-align: top;\n",
       "    }\n",
       "\n",
       "    .dataframe thead th {\n",
       "        text-align: right;\n",
       "    }\n",
       "</style>\n",
       "<table border=\"1\" class=\"dataframe\">\n",
       "  <thead>\n",
       "    <tr style=\"text-align: right;\">\n",
       "      <th></th>\n",
       "      <th>userid</th>\n",
       "      <th>feedid</th>\n",
       "      <th>watch_label_pred_1</th>\n",
       "      <th>watch_label_pred_2</th>\n",
       "      <th>watch_label_pred_3</th>\n",
       "      <th>watch_label_pred_4</th>\n",
       "      <th>watch_label_pred_5</th>\n",
       "      <th>watch_label_pred_6</th>\n",
       "      <th>watch_label_pred_7</th>\n",
       "      <th>watch_label_pred_8</th>\n",
       "      <th>watch_label_pred_9</th>\n",
       "    </tr>\n",
       "  </thead>\n",
       "  <tbody>\n",
       "    <tr>\n",
       "      <th>0</th>\n",
       "      <td>1688013</td>\n",
       "      <td>32645</td>\n",
       "      <td>0.041565</td>\n",
       "      <td>0.041517</td>\n",
       "      <td>0.030585</td>\n",
       "      <td>0.027136</td>\n",
       "      <td>0.015797</td>\n",
       "      <td>0.011883</td>\n",
       "      <td>0.012303</td>\n",
       "      <td>0.011018</td>\n",
       "      <td>0.008197</td>\n",
       "    </tr>\n",
       "    <tr>\n",
       "      <th>1</th>\n",
       "      <td>4502598</td>\n",
       "      <td>41270</td>\n",
       "      <td>0.018992</td>\n",
       "      <td>0.010146</td>\n",
       "      <td>0.007159</td>\n",
       "      <td>0.003494</td>\n",
       "      <td>0.003189</td>\n",
       "      <td>0.003902</td>\n",
       "      <td>0.002678</td>\n",
       "      <td>0.003397</td>\n",
       "      <td>0.013966</td>\n",
       "    </tr>\n",
       "    <tr>\n",
       "      <th>2</th>\n",
       "      <td>5585629</td>\n",
       "      <td>16345</td>\n",
       "      <td>0.029463</td>\n",
       "      <td>0.029721</td>\n",
       "      <td>0.028063</td>\n",
       "      <td>0.025890</td>\n",
       "      <td>0.016546</td>\n",
       "      <td>0.012276</td>\n",
       "      <td>0.013646</td>\n",
       "      <td>0.015225</td>\n",
       "      <td>0.043648</td>\n",
       "    </tr>\n",
       "    <tr>\n",
       "      <th>3</th>\n",
       "      <td>1635520</td>\n",
       "      <td>28149</td>\n",
       "      <td>0.110297</td>\n",
       "      <td>0.030300</td>\n",
       "      <td>0.013785</td>\n",
       "      <td>0.009262</td>\n",
       "      <td>0.004985</td>\n",
       "      <td>0.005673</td>\n",
       "      <td>0.004008</td>\n",
       "      <td>0.003359</td>\n",
       "      <td>0.004886</td>\n",
       "    </tr>\n",
       "    <tr>\n",
       "      <th>4</th>\n",
       "      <td>4160191</td>\n",
       "      <td>40554</td>\n",
       "      <td>0.009025</td>\n",
       "      <td>0.005172</td>\n",
       "      <td>0.003592</td>\n",
       "      <td>0.003160</td>\n",
       "      <td>0.002245</td>\n",
       "      <td>0.002353</td>\n",
       "      <td>0.001976</td>\n",
       "      <td>0.008813</td>\n",
       "      <td>0.008634</td>\n",
       "    </tr>\n",
       "    <tr>\n",
       "      <th>...</th>\n",
       "      <td>...</td>\n",
       "      <td>...</td>\n",
       "      <td>...</td>\n",
       "      <td>...</td>\n",
       "      <td>...</td>\n",
       "      <td>...</td>\n",
       "      <td>...</td>\n",
       "      <td>...</td>\n",
       "      <td>...</td>\n",
       "      <td>...</td>\n",
       "      <td>...</td>\n",
       "    </tr>\n",
       "    <tr>\n",
       "      <th>2822175</th>\n",
       "      <td>5019057</td>\n",
       "      <td>18766</td>\n",
       "      <td>0.031938</td>\n",
       "      <td>0.009035</td>\n",
       "      <td>0.006516</td>\n",
       "      <td>0.005338</td>\n",
       "      <td>0.007723</td>\n",
       "      <td>0.004180</td>\n",
       "      <td>0.003425</td>\n",
       "      <td>0.004030</td>\n",
       "      <td>0.013048</td>\n",
       "    </tr>\n",
       "    <tr>\n",
       "      <th>2822176</th>\n",
       "      <td>5019057</td>\n",
       "      <td>12968</td>\n",
       "      <td>0.041120</td>\n",
       "      <td>0.010992</td>\n",
       "      <td>0.016624</td>\n",
       "      <td>0.005029</td>\n",
       "      <td>0.007728</td>\n",
       "      <td>0.004238</td>\n",
       "      <td>0.004196</td>\n",
       "      <td>0.004611</td>\n",
       "      <td>0.018988</td>\n",
       "    </tr>\n",
       "    <tr>\n",
       "      <th>2822177</th>\n",
       "      <td>4255762</td>\n",
       "      <td>21794</td>\n",
       "      <td>0.088459</td>\n",
       "      <td>0.084583</td>\n",
       "      <td>0.091509</td>\n",
       "      <td>0.095091</td>\n",
       "      <td>0.074704</td>\n",
       "      <td>0.140358</td>\n",
       "      <td>0.030148</td>\n",
       "      <td>0.027044</td>\n",
       "      <td>0.064275</td>\n",
       "    </tr>\n",
       "    <tr>\n",
       "      <th>2822178</th>\n",
       "      <td>171497</td>\n",
       "      <td>21578</td>\n",
       "      <td>0.015035</td>\n",
       "      <td>0.007645</td>\n",
       "      <td>0.006633</td>\n",
       "      <td>0.004905</td>\n",
       "      <td>0.005170</td>\n",
       "      <td>0.004669</td>\n",
       "      <td>0.004579</td>\n",
       "      <td>0.005178</td>\n",
       "      <td>0.101693</td>\n",
       "    </tr>\n",
       "    <tr>\n",
       "      <th>2822179</th>\n",
       "      <td>5642580</td>\n",
       "      <td>28914</td>\n",
       "      <td>0.021765</td>\n",
       "      <td>0.018398</td>\n",
       "      <td>0.020014</td>\n",
       "      <td>0.011301</td>\n",
       "      <td>0.014949</td>\n",
       "      <td>0.011504</td>\n",
       "      <td>0.014019</td>\n",
       "      <td>0.014467</td>\n",
       "      <td>0.031929</td>\n",
       "    </tr>\n",
       "  </tbody>\n",
       "</table>\n",
       "<p>2822180 rows × 11 columns</p>\n",
       "</div>"
      ],
      "text/plain": [
       "          userid  feedid  watch_label_pred_1  watch_label_pred_2  \\\n",
       "0        1688013   32645            0.041565            0.041517   \n",
       "1        4502598   41270            0.018992            0.010146   \n",
       "2        5585629   16345            0.029463            0.029721   \n",
       "3        1635520   28149            0.110297            0.030300   \n",
       "4        4160191   40554            0.009025            0.005172   \n",
       "...          ...     ...                 ...                 ...   \n",
       "2822175  5019057   18766            0.031938            0.009035   \n",
       "2822176  5019057   12968            0.041120            0.010992   \n",
       "2822177  4255762   21794            0.088459            0.084583   \n",
       "2822178   171497   21578            0.015035            0.007645   \n",
       "2822179  5642580   28914            0.021765            0.018398   \n",
       "\n",
       "         watch_label_pred_3  watch_label_pred_4  watch_label_pred_5  \\\n",
       "0                  0.030585            0.027136            0.015797   \n",
       "1                  0.007159            0.003494            0.003189   \n",
       "2                  0.028063            0.025890            0.016546   \n",
       "3                  0.013785            0.009262            0.004985   \n",
       "4                  0.003592            0.003160            0.002245   \n",
       "...                     ...                 ...                 ...   \n",
       "2822175            0.006516            0.005338            0.007723   \n",
       "2822176            0.016624            0.005029            0.007728   \n",
       "2822177            0.091509            0.095091            0.074704   \n",
       "2822178            0.006633            0.004905            0.005170   \n",
       "2822179            0.020014            0.011301            0.014949   \n",
       "\n",
       "         watch_label_pred_6  watch_label_pred_7  watch_label_pred_8  \\\n",
       "0                  0.011883            0.012303            0.011018   \n",
       "1                  0.003902            0.002678            0.003397   \n",
       "2                  0.012276            0.013646            0.015225   \n",
       "3                  0.005673            0.004008            0.003359   \n",
       "4                  0.002353            0.001976            0.008813   \n",
       "...                     ...                 ...                 ...   \n",
       "2822175            0.004180            0.003425            0.004030   \n",
       "2822176            0.004238            0.004196            0.004611   \n",
       "2822177            0.140358            0.030148            0.027044   \n",
       "2822178            0.004669            0.004579            0.005178   \n",
       "2822179            0.011504            0.014019            0.014467   \n",
       "\n",
       "         watch_label_pred_9  \n",
       "0                  0.008197  \n",
       "1                  0.013966  \n",
       "2                  0.043648  \n",
       "3                  0.004886  \n",
       "4                  0.008634  \n",
       "...                     ...  \n",
       "2822175            0.013048  \n",
       "2822176            0.018988  \n",
       "2822177            0.064275  \n",
       "2822178            0.101693  \n",
       "2822179            0.031929  \n",
       "\n",
       "[2822180 rows x 11 columns]"
      ]
     },
     "execution_count": 195,
     "metadata": {},
     "output_type": "execute_result"
    }
   ],
   "source": [
    "submit"
   ]
  },
  {
   "cell_type": "markdown",
   "metadata": {},
   "source": [
    "## submit后处理"
   ]
  },
  {
   "cell_type": "code",
   "execution_count": 290,
   "metadata": {},
   "outputs": [
    {
     "data": {
      "text/plain": [
       "array([255000., 229500., 191250.,  89250.,  63750.,  38250.,  38250.,\n",
       "        38250.,  38250.])"
      ]
     },
     "execution_count": 290,
     "metadata": {},
     "output_type": "execute_result"
    }
   ],
   "source": [
    "watch_label = np.array([500000] * 9) * np.array([1.00, 0.9, 0.75, 0.35, 0.25, 0.15, 0.15, 0.15, 0.15]) * 0.51\n",
    "watch_label"
   ]
  },
  {
   "cell_type": "code",
   "execution_count": 291,
   "metadata": {},
   "outputs": [
    {
     "name": "stdout",
     "output_type": "stream",
     "text": [
      "watch_label_pred_9\n",
      "9 255000 255000\n",
      "watch_label_pred_8\n",
      "8 422002 229500\n",
      "watch_label_pred_7\n",
      "7 595639 191250\n",
      "watch_label_pred_6\n",
      "6 617118 89250\n",
      "watch_label_pred_5\n",
      "5 631209 63750\n",
      "watch_label_pred_4\n",
      "4 583606 38250\n",
      "watch_label_pred_3\n",
      "3 564253 38250\n",
      "watch_label_pred_2\n",
      "2 470477 38250\n",
      "watch_label_pred_1\n",
      "1 286955 38250\n",
      "Wall time: 5.68 s\n"
     ]
    }
   ],
   "source": [
    "%%time\n",
    "\n",
    "y_pred = np.zeros(submit.shape[0])\n",
    "idx_vis = set()\n",
    "for i, n in enumerate(watch_label):\n",
    "    print('watch_label_pred_{}'.format(9-i))\n",
    "    idxes = np.argsort(submit['watch_label_pred_{}'.format(9-i)]).values\n",
    "    idxes = idxes[::-1]\n",
    "    idx = 0\n",
    "    cnt = 0\n",
    "    while cnt < n:\n",
    "        if idxes[idx] not in idx_vis:\n",
    "            y_pred[idxes[idx]] = 9 - i\n",
    "            cnt += 1\n",
    "            idx_vis.add(idxes[idx])\n",
    "        idx += 1\n",
    "    print(9-i, idx, cnt)\n",
    "    \n",
    "submit['watch_label_pred'] = y_pred\n",
    "y_pred"
   ]
  },
  {
   "cell_type": "code",
   "execution_count": 297,
   "metadata": {},
   "outputs": [
    {
     "data": {
      "text/plain": [
       "0.0    1840430\n",
       "9.0     255000\n",
       "8.0     229500\n",
       "7.0     191250\n",
       "6.0      89250\n",
       "5.0      63750\n",
       "1.0      38250\n",
       "4.0      38250\n",
       "3.0      38250\n",
       "2.0      38250\n",
       "dtype: int64"
      ]
     },
     "execution_count": 297,
     "metadata": {},
     "output_type": "execute_result"
    }
   ],
   "source": [
    "pd.Series(y_pred).value_counts()"
   ]
  },
  {
   "cell_type": "code",
   "execution_count": 301,
   "metadata": {},
   "outputs": [],
   "source": [
    "submit_final = pd.read_csv(\"data/submit/submission.csv\")\n",
    "submit_final['watch_label'] = y_pred\n",
    "submit_final['watch_label'] = submit_final['watch_label'].astype(int)"
   ]
  },
  {
   "cell_type": "code",
   "execution_count": 303,
   "metadata": {},
   "outputs": [],
   "source": [
    "submit_final.to_csv(\"data/submit/submission.csv\", index=None)"
   ]
  },
  {
   "cell_type": "markdown",
   "metadata": {},
   "source": []
  },
  {
   "cell_type": "code",
   "execution_count": null,
   "metadata": {},
   "outputs": [],
   "source": []
  }
 ],
 "metadata": {
  "kernelspec": {
   "display_name": "Python 3",
   "language": "python",
   "name": "python3"
  },
  "language_info": {
   "codemirror_mode": {
    "name": "ipython",
    "version": 3
   },
   "file_extension": ".py",
   "mimetype": "text/x-python",
   "name": "python",
   "nbconvert_exporter": "python",
   "pygments_lexer": "ipython3",
   "version": "3.6.5"
  },
  "toc": {
   "base_numbering": 1,
   "nav_menu": {},
   "number_sections": true,
   "sideBar": true,
   "skip_h1_title": false,
   "title_cell": "Table of Contents",
   "title_sidebar": "Contents",
   "toc_cell": false,
   "toc_position": {},
   "toc_section_display": true,
   "toc_window_display": false
  },
  "varInspector": {
   "cols": {
    "lenName": 16,
    "lenType": 16,
    "lenVar": 40
   },
   "kernels_config": {
    "python": {
     "delete_cmd_postfix": "",
     "delete_cmd_prefix": "del ",
     "library": "var_list.py",
     "varRefreshCmd": "print(var_dic_list())"
    },
    "r": {
     "delete_cmd_postfix": ") ",
     "delete_cmd_prefix": "rm(",
     "library": "var_list.r",
     "varRefreshCmd": "cat(var_dic_list()) "
    }
   },
   "position": {
    "height": "513px",
    "left": "1602.77px",
    "right": "20px",
    "top": "120.986px",
    "width": "502px"
   },
   "types_to_exclude": [
    "module",
    "function",
    "builtin_function_or_method",
    "instance",
    "_Feature"
   ],
   "window_display": true
  }
 },
 "nbformat": 4,
 "nbformat_minor": 2
}
